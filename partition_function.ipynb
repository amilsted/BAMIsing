{
 "cells": [
  {
   "cell_type": "code",
   "execution_count": 1,
   "metadata": {},
   "outputs": [],
   "source": [
    "using Random"
   ]
  },
  {
   "cell_type": "code",
   "execution_count": 2,
   "metadata": {},
   "outputs": [],
   "source": [
    "using Plots"
   ]
  },
  {
   "cell_type": "markdown",
   "metadata": {},
   "source": [
    "# Evaluating the 2D Ising model partition function"
   ]
  },
  {
   "cell_type": "markdown",
   "metadata": {},
   "source": [
    "## Labelling configurations\n",
    "\n",
    "To sum over all $2^N$ configurations of $N$ spins we need to somehow enumerate them. One way of assigning integers to configurations is simply to choose an ordering of the spins, which immediately gives us a binary integer.\n",
    "\n",
    "We can slightly abuse Julia's BitArray for this purpose. BitArrays are arrays of bits stored in memory as a series of 64-bit unsigned integers, as we can confirm by looking at the source https://github.com/JuliaLang/julia/blob/v1.1.0/base/bitarray.jl. If we restrict ourselves to $N \\le 64$ we can enumerate configurations by incrementing the integer used as storage for the BitArray."
   ]
  },
  {
   "cell_type": "code",
   "execution_count": 3,
   "metadata": {},
   "outputs": [
    {
     "data": {
      "text/plain": [
       "8×8 BitArray{2}:\n",
       " false  false  false  false  false  false  false  false\n",
       " false  false  false  false  false  false  false  false\n",
       " false  false  false  false  false  false  false  false\n",
       " false  false  false  false  false  false  false  false\n",
       " false  false  false  false  false  false  false  false\n",
       " false  false  false  false  false  false  false  false\n",
       " false  false  false  false  false  false  false  false\n",
       " false  false  false  false  false  false  false  false"
      ]
     },
     "execution_count": 3,
     "metadata": {},
     "output_type": "execute_result"
    }
   ],
   "source": [
    "ba = falses(8,8)"
   ]
  },
  {
   "cell_type": "markdown",
   "metadata": {},
   "source": [
    "The integers are stored in a field called \"chunks\". Since we asked for an array with 64 bits, only one chunk is used."
   ]
  },
  {
   "cell_type": "code",
   "execution_count": 4,
   "metadata": {},
   "outputs": [
    {
     "data": {
      "text/plain": [
       "(1,)"
      ]
     },
     "execution_count": 4,
     "metadata": {},
     "output_type": "execute_result"
    }
   ],
   "source": [
    "size(ba.chunks)"
   ]
  },
  {
   "cell_type": "markdown",
   "metadata": {},
   "source": [
    "It has the initial value 0."
   ]
  },
  {
   "cell_type": "code",
   "execution_count": 5,
   "metadata": {},
   "outputs": [
    {
     "data": {
      "text/plain": [
       "0x0000000000000000"
      ]
     },
     "execution_count": 5,
     "metadata": {},
     "output_type": "execute_result"
    }
   ],
   "source": [
    "ba.chunks[1]"
   ]
  },
  {
   "cell_type": "markdown",
   "metadata": {},
   "source": [
    "Let's print out the first few configurations!"
   ]
  },
  {
   "cell_type": "code",
   "execution_count": 6,
   "metadata": {},
   "outputs": [
    {
     "data": {
      "text/plain": [
       "8×8 BitArray{2}:\n",
       "  true  false  false  false  false  false  false  false\n",
       " false  false  false  false  false  false  false  false\n",
       " false  false  false  false  false  false  false  false\n",
       " false  false  false  false  false  false  false  false\n",
       " false  false  false  false  false  false  false  false\n",
       " false  false  false  false  false  false  false  false\n",
       " false  false  false  false  false  false  false  false\n",
       " false  false  false  false  false  false  false  false"
      ]
     },
     "execution_count": 6,
     "metadata": {},
     "output_type": "execute_result"
    }
   ],
   "source": [
    "ba.chunks[1] = 1\n",
    "ba"
   ]
  },
  {
   "cell_type": "code",
   "execution_count": 7,
   "metadata": {},
   "outputs": [
    {
     "data": {
      "text/plain": [
       "8×8 BitArray{2}:\n",
       " false  false  false  false  false  false  false  false\n",
       "  true  false  false  false  false  false  false  false\n",
       " false  false  false  false  false  false  false  false\n",
       " false  false  false  false  false  false  false  false\n",
       " false  false  false  false  false  false  false  false\n",
       " false  false  false  false  false  false  false  false\n",
       " false  false  false  false  false  false  false  false\n",
       " false  false  false  false  false  false  false  false"
      ]
     },
     "execution_count": 7,
     "metadata": {},
     "output_type": "execute_result"
    }
   ],
   "source": [
    "ba.chunks[1] = 2\n",
    "ba"
   ]
  },
  {
   "cell_type": "code",
   "execution_count": 8,
   "metadata": {},
   "outputs": [
    {
     "data": {
      "text/plain": [
       "8×8 BitArray{2}:\n",
       "  true  false  false  false  false  false  false  false\n",
       "  true  false  false  false  false  false  false  false\n",
       " false  false  false  false  false  false  false  false\n",
       " false  false  false  false  false  false  false  false\n",
       " false  false  false  false  false  false  false  false\n",
       " false  false  false  false  false  false  false  false\n",
       " false  false  false  false  false  false  false  false\n",
       " false  false  false  false  false  false  false  false"
      ]
     },
     "execution_count": 8,
     "metadata": {},
     "output_type": "execute_result"
    }
   ],
   "source": [
    "ba.chunks[1] = 3\n",
    "ba"
   ]
  },
  {
   "cell_type": "code",
   "execution_count": 9,
   "metadata": {},
   "outputs": [
    {
     "data": {
      "text/plain": [
       "8×8 BitArray{2}:\n",
       " false  false  false  false  false  false  false  false\n",
       " false  false  false  false  false  false  false  false\n",
       "  true  false  false  false  false  false  false  false\n",
       " false  false  false  false  false  false  false  false\n",
       " false  false  false  false  false  false  false  false\n",
       " false  false  false  false  false  false  false  false\n",
       " false  false  false  false  false  false  false  false\n",
       " false  false  false  false  false  false  false  false"
      ]
     },
     "execution_count": 9,
     "metadata": {},
     "output_type": "execute_result"
    }
   ],
   "source": [
    "ba.chunks[1] = 4\n",
    "ba"
   ]
  },
  {
   "cell_type": "markdown",
   "metadata": {},
   "source": [
    "## Summing over configurations"
   ]
  },
  {
   "cell_type": "markdown",
   "metadata": {},
   "source": [
    "To evaluate the partition function exactly we must sum over all configurations.\n",
    "There are quite a few configurations of an 8x8 array of spins."
   ]
  },
  {
   "cell_type": "code",
   "execution_count": 10,
   "metadata": {},
   "outputs": [
    {
     "data": {
      "text/plain": [
       "1.8446744073709552e19"
      ]
     },
     "execution_count": 10,
     "metadata": {},
     "output_type": "execute_result"
    }
   ],
   "source": [
    "2.0^64"
   ]
  },
  {
   "cell_type": "markdown",
   "metadata": {},
   "source": [
    "We will need to work with fewer if we want our sums to complete in a reasonable time. How about 25?"
   ]
  },
  {
   "cell_type": "code",
   "execution_count": 11,
   "metadata": {},
   "outputs": [
    {
     "data": {
      "text/plain": [
       "33554432"
      ]
     },
     "execution_count": 11,
     "metadata": {},
     "output_type": "execute_result"
    }
   ],
   "source": [
    "2^(5^2)"
   ]
  },
  {
   "cell_type": "markdown",
   "metadata": {},
   "source": [
    "Much better. "
   ]
  },
  {
   "cell_type": "code",
   "execution_count": 12,
   "metadata": {},
   "outputs": [
    {
     "data": {
      "text/plain": [
       "5×5 BitArray{2}:\n",
       " false  false  false  false  false\n",
       " false  false  false  false  false\n",
       " false  false  false  false  false\n",
       " false  false  false  false  false\n",
       " false  false  false  false  false"
      ]
     },
     "execution_count": 12,
     "metadata": {},
     "output_type": "execute_result"
    }
   ],
   "source": [
    "ba_sm = falses(5,5)"
   ]
  },
  {
   "cell_type": "code",
   "execution_count": 13,
   "metadata": {},
   "outputs": [
    {
     "data": {
      "text/plain": [
       "33554431"
      ]
     },
     "execution_count": 13,
     "metadata": {},
     "output_type": "execute_result"
    }
   ],
   "source": [
    "ba_sm.chunks[1] = 2^25-1"
   ]
  },
  {
   "cell_type": "code",
   "execution_count": 14,
   "metadata": {},
   "outputs": [
    {
     "data": {
      "text/plain": [
       "5×5 BitArray{2}:\n",
       " true  true  true  true  true\n",
       " true  true  true  true  true\n",
       " true  true  true  true  true\n",
       " true  true  true  true  true\n",
       " true  true  true  true  true"
      ]
     },
     "execution_count": 14,
     "metadata": {},
     "output_type": "execute_result"
    }
   ],
   "source": [
    "ba_sm"
   ]
  },
  {
   "cell_type": "markdown",
   "metadata": {},
   "source": [
    "## Computing weights"
   ]
  },
  {
   "cell_type": "markdown",
   "metadata": {},
   "source": [
    "Now, how to evaluate the weight of a configuration? Let's write a funcion that takes a configuration in the form of a BitArray and returns the weight."
   ]
  },
  {
   "cell_type": "code",
   "execution_count": 15,
   "metadata": {},
   "outputs": [
    {
     "data": {
      "text/plain": [
       "spin (generic function with 1 method)"
      ]
     },
     "execution_count": 15,
     "metadata": {},
     "output_type": "execute_result"
    }
   ],
   "source": [
    "spin(b::Bool) = Float64(2 * b - 1)"
   ]
  },
  {
   "cell_type": "markdown",
   "metadata": {},
   "source": [
    "Create a wrapper function to do the timing (this avoids counting spurious memory allocations)."
   ]
  },
  {
   "cell_type": "code",
   "execution_count": 16,
   "metadata": {},
   "outputs": [
    {
     "data": {
      "text/plain": [
       "time_spin (generic function with 1 method)"
      ]
     },
     "execution_count": 16,
     "metadata": {},
     "output_type": "execute_result"
    }
   ],
   "source": [
    "time_spin(x) = @time spin(x)"
   ]
  },
  {
   "cell_type": "code",
   "execution_count": 17,
   "metadata": {},
   "outputs": [
    {
     "name": "stdout",
     "output_type": "stream",
     "text": [
      "  0.000002 seconds\n"
     ]
    },
    {
     "data": {
      "text/plain": [
       "-1.0"
      ]
     },
     "execution_count": 17,
     "metadata": {},
     "output_type": "execute_result"
    }
   ],
   "source": [
    "time_spin(false)"
   ]
  },
  {
   "cell_type": "code",
   "execution_count": 18,
   "metadata": {},
   "outputs": [
    {
     "data": {
      "text/plain": [
       "ising_weight_2D_PBC (generic function with 1 method)"
      ]
     },
     "execution_count": 18,
     "metadata": {},
     "output_type": "execute_result"
    }
   ],
   "source": [
    "function ising_weight_2D_PBC(c::AbstractMatrix{Bool}, h::Float64, Jx::Float64, Jy::Float64, β::Float64)::Float64\n",
    "    Ly,Lx = size(c)\n",
    "    \n",
    "    en = 0.0\n",
    "    @inbounds @fastmath for k in 1:Lx, j in 1:Ly\n",
    "        s = spin(c[j,k])\n",
    "        en -= h * s\n",
    "        en -= Jx * s * spin(c[j,mod1(k+1, Lx)])\n",
    "        en -= Jy * s * spin(c[mod1(j+1, Ly),k])\n",
    "    end\n",
    "    \n",
    "    exp(-en * β)\n",
    "end"
   ]
  },
  {
   "cell_type": "markdown",
   "metadata": {},
   "source": [
    "Let's benchmark this. First let's make a benchmarking function!"
   ]
  },
  {
   "cell_type": "code",
   "execution_count": 19,
   "metadata": {},
   "outputs": [
    {
     "data": {
      "text/plain": [
       "time_ising_weight (generic function with 1 method)"
      ]
     },
     "execution_count": 19,
     "metadata": {},
     "output_type": "execute_result"
    }
   ],
   "source": [
    "time_ising_weight(b) = @time ising_weight_2D_PBC(b, 1.0, 1.0, 1.0, 1/2.269)"
   ]
  },
  {
   "cell_type": "markdown",
   "metadata": {},
   "source": [
    "Run it once first to get it compiled."
   ]
  },
  {
   "cell_type": "code",
   "execution_count": 20,
   "metadata": {},
   "outputs": [
    {
     "name": "stdout",
     "output_type": "stream",
     "text": [
      "  0.000003 seconds\n"
     ]
    },
    {
     "data": {
      "text/plain": [
       "2.266003258686664e14"
      ]
     },
     "execution_count": 20,
     "metadata": {},
     "output_type": "execute_result"
    }
   ],
   "source": [
    "time_ising_weight(ba_sm)"
   ]
  },
  {
   "cell_type": "markdown",
   "metadata": {},
   "source": [
    "Now time it."
   ]
  },
  {
   "cell_type": "code",
   "execution_count": 21,
   "metadata": {},
   "outputs": [
    {
     "name": "stdout",
     "output_type": "stream",
     "text": [
      "  0.000002 seconds\n"
     ]
    },
    {
     "data": {
      "text/plain": [
       "2.266003258686664e14"
      ]
     },
     "execution_count": 21,
     "metadata": {},
     "output_type": "execute_result"
    }
   ],
   "source": [
    "time_ising_weight(ba_sm)"
   ]
  },
  {
   "cell_type": "code",
   "execution_count": 22,
   "metadata": {},
   "outputs": [
    {
     "name": "stdout",
     "output_type": "stream",
     "text": [
      "  0.016035 seconds\n"
     ]
    },
    {
     "data": {
      "text/plain": [
       "1.0311077281872751e160"
      ]
     },
     "execution_count": 22,
     "metadata": {},
     "output_type": "execute_result"
    }
   ],
   "source": [
    "let b = bitrand(1000,1000)\n",
    "    time_ising_weight(b)\n",
    "end"
   ]
  },
  {
   "cell_type": "code",
   "execution_count": 23,
   "metadata": {},
   "outputs": [
    {
     "name": "stdout",
     "output_type": "stream",
     "text": [
      "typeof(b) = Array{Bool,2}\n",
      "  0.014193 seconds\n"
     ]
    },
    {
     "data": {
      "text/plain": [
       "1.2437968586878357e-69"
      ]
     },
     "execution_count": 23,
     "metadata": {},
     "output_type": "execute_result"
    }
   ],
   "source": [
    "# Try with array of Bools...\n",
    "let b = rand(Bool, 1000,1000)\n",
    "    @show typeof(b)\n",
    "    time_ising_weight(b)\n",
    "end"
   ]
  },
  {
   "cell_type": "markdown",
   "metadata": {},
   "source": [
    "Our function does not allocate any memory, which is as it should be. This suggests it will be reasonably fast. See https://docs.julialang.org/en/v1/manual/performance-tips/."
   ]
  },
  {
   "cell_type": "markdown",
   "metadata": {},
   "source": [
    "## Computing the partition function\n",
    "Let's try evaluating $Z(h, J_x, J_y)$."
   ]
  },
  {
   "cell_type": "code",
   "execution_count": 24,
   "metadata": {},
   "outputs": [
    {
     "data": {
      "text/plain": [
       "ising_Z_2D_PBC (generic function with 1 method)"
      ]
     },
     "execution_count": 24,
     "metadata": {},
     "output_type": "execute_result"
    }
   ],
   "source": [
    "function ising_Z_2D_PBC(Lx::Int, Ly::Int, h::Float64, Jx::Float64, Jy::Float64, β::Float64)\n",
    "    N = Lx*Ly\n",
    "    @assert N ≤ 64 \"Up to 64 spins!\" # Although it would take a *long* time, our implementation would do 64!\n",
    "    c = falses(Ly,Lx)\n",
    "    Z = 0.0\n",
    "    for j in 0:2^N-1\n",
    "        c.chunks[1] = j # Set the bit configuration of the BitArray c (j must be in 0:2^(N-1) for N=length(c))\n",
    "        Z += ising_weight_2D_PBC(c, h, Jx, Jy, β)\n",
    "    end\n",
    "    \n",
    "    Z\n",
    "end"
   ]
  },
  {
   "cell_type": "code",
   "execution_count": 25,
   "metadata": {},
   "outputs": [
    {
     "data": {
      "text/plain": [
       "time_ising_Z (generic function with 1 method)"
      ]
     },
     "execution_count": 25,
     "metadata": {},
     "output_type": "execute_result"
    }
   ],
   "source": [
    "time_ising_Z(Lx, Ly) = @time ising_Z_2D_PBC(Lx,Ly,0.0,1.0,1.0,1/2.269)"
   ]
  },
  {
   "cell_type": "code",
   "execution_count": 26,
   "metadata": {},
   "outputs": [
    {
     "name": "stdout",
     "output_type": "stream",
     "text": [
      "  0.017020 seconds (2 allocations: 144 bytes)\n"
     ]
    },
    {
     "data": {
      "text/plain": [
       "5.514089467214674e6"
      ]
     },
     "execution_count": 26,
     "metadata": {},
     "output_type": "execute_result"
    }
   ],
   "source": [
    "time_ising_Z(4,4)"
   ]
  },
  {
   "cell_type": "markdown",
   "metadata": {},
   "source": [
    "We have a constant number of allocations, coming from creating the BitArray c."
   ]
  },
  {
   "cell_type": "markdown",
   "metadata": {},
   "source": [
    "$20$ spins is a practical upper-limit for a fairly quick computation."
   ]
  },
  {
   "cell_type": "code",
   "execution_count": 27,
   "metadata": {},
   "outputs": [
    {
     "name": "stdout",
     "output_type": "stream",
     "text": [
      "  0.342717 seconds (2 allocations: 144 bytes)\n"
     ]
    },
    {
     "data": {
      "text/plain": [
       "2.2869633871033853e8"
      ]
     },
     "execution_count": 27,
     "metadata": {},
     "output_type": "execute_result"
    }
   ],
   "source": [
    "time_ising_Z(5,4)"
   ]
  },
  {
   "cell_type": "markdown",
   "metadata": {},
   "source": [
    "## Aside: Alternative to manipulating BitArray.chunks"
   ]
  },
  {
   "cell_type": "markdown",
   "metadata": {},
   "source": [
    "We could avoid messing with BitArray.chunks by writing a function to convert an integer into a configuration:"
   ]
  },
  {
   "cell_type": "code",
   "execution_count": 28,
   "metadata": {},
   "outputs": [
    {
     "data": {
      "text/plain": [
       "int_to_conf! (generic function with 1 method)"
      ]
     },
     "execution_count": 28,
     "metadata": {},
     "output_type": "execute_result"
    }
   ],
   "source": [
    "function int_to_conf!(v, i::Integer)\n",
    "    for j=1:length(v)\n",
    "        i,b = divrem(i,2) # Repeatedly divide by 2. Remainder is the bit value at position j.\n",
    "        v[j] = b\n",
    "    end\n",
    "    v\n",
    "end"
   ]
  },
  {
   "cell_type": "code",
   "execution_count": 29,
   "metadata": {},
   "outputs": [
    {
     "data": {
      "text/plain": [
       "time_int_to_conf! (generic function with 1 method)"
      ]
     },
     "execution_count": 29,
     "metadata": {},
     "output_type": "execute_result"
    }
   ],
   "source": [
    "time_int_to_conf!(v,i) = @time int_to_conf!(v,i)"
   ]
  },
  {
   "cell_type": "markdown",
   "metadata": {},
   "source": [
    "Test it!"
   ]
  },
  {
   "cell_type": "code",
   "execution_count": 30,
   "metadata": {},
   "outputs": [
    {
     "name": "stdout",
     "output_type": "stream",
     "text": [
      "  0.000002 seconds\n",
      "v = Int8[0, 0, 0]\n",
      "  0.000003 seconds\n",
      "v = Int8[1, 0, 0]\n",
      "  0.000002 seconds\n",
      "v = Int8[0, 1, 0]\n",
      "  0.000002 seconds\n",
      "v = Int8[1, 1, 0]\n",
      "  0.000002 seconds\n",
      "v = Int8[0, 0, 1]\n",
      "  0.000002 seconds\n",
      "v = Int8[1, 0, 1]\n",
      "  0.000001 seconds\n",
      "v = Int8[0, 1, 1]\n",
      "  0.000002 seconds\n",
      "v = Int8[1, 1, 1]\n"
     ]
    }
   ],
   "source": [
    "let N = 3\n",
    "    v = zeros(Int8, N)\n",
    "    for i=0:2^N-1\n",
    "        time_int_to_conf!(v, i)\n",
    "        @show v\n",
    "    end\n",
    "end"
   ]
  },
  {
   "cell_type": "code",
   "execution_count": 31,
   "metadata": {},
   "outputs": [
    {
     "data": {
      "text/plain": [
       "ising_Z_2D_PBC_v2 (generic function with 1 method)"
      ]
     },
     "execution_count": 31,
     "metadata": {},
     "output_type": "execute_result"
    }
   ],
   "source": [
    "function ising_Z_2D_PBC_v2(Lx::Int, Ly::Int, h::Float64, Jx::Float64, Jy::Float64, β::Float64)\n",
    "    N = Lx*Ly\n",
    "    @assert N ≤ 64 \"Up to 64 spins!\" #Although it would take a *long* time, our implementation would do 64!\n",
    "    c = zeros(Bool, Ly,Lx)\n",
    "    Z = 0.0\n",
    "    for j in 0:2^N-1\n",
    "        int_to_conf!(c, j)\n",
    "        Z += ising_weight_2D_PBC(c, h, Jx, Jy, β)\n",
    "    end\n",
    "    \n",
    "    Z\n",
    "end"
   ]
  },
  {
   "cell_type": "code",
   "execution_count": 32,
   "metadata": {},
   "outputs": [
    {
     "data": {
      "text/plain": [
       "time_ising_Z_v2 (generic function with 1 method)"
      ]
     },
     "execution_count": 32,
     "metadata": {},
     "output_type": "execute_result"
    }
   ],
   "source": [
    "time_ising_Z_v2(Lx, Ly) = @time ising_Z_2D_PBC_v2(Lx,Ly,0.0,1.0,1.0,1/2.269)"
   ]
  },
  {
   "cell_type": "code",
   "execution_count": 33,
   "metadata": {},
   "outputs": [
    {
     "name": "stdout",
     "output_type": "stream",
     "text": [
      "  0.393742 seconds (1 allocation: 112 bytes)\n"
     ]
    },
    {
     "data": {
      "text/plain": [
       "2.2869633871033853e8"
      ]
     },
     "execution_count": 33,
     "metadata": {},
     "output_type": "execute_result"
    }
   ],
   "source": [
    "time_ising_Z_v2(5,4)"
   ]
  },
  {
   "cell_type": "markdown",
   "metadata": {},
   "source": [
    "## Evaluation of some thermodynamic variables"
   ]
  },
  {
   "cell_type": "code",
   "execution_count": 34,
   "metadata": {},
   "outputs": [
    {
     "name": "stdout",
     "output_type": "stream",
     "text": [
      "  1.803475 seconds (201 allocations: 14.938 KiB)\n"
     ]
    },
    {
     "data": {
      "image/svg+xml": [
       "<?xml version=\"1.0\" encoding=\"utf-8\"?>\n",
       "<svg xmlns=\"http://www.w3.org/2000/svg\" xmlns:xlink=\"http://www.w3.org/1999/xlink\" width=\"600\" height=\"400\" viewBox=\"0 0 2400 1600\">\n",
       "<defs>\n",
       "  <clipPath id=\"clip5600\">\n",
       "    <rect x=\"0\" y=\"0\" width=\"2000\" height=\"2000\"/>\n",
       "  </clipPath>\n",
       "</defs>\n",
       "<defs>\n",
       "  <clipPath id=\"clip5601\">\n",
       "    <rect x=\"0\" y=\"0\" width=\"2400\" height=\"1600\"/>\n",
       "  </clipPath>\n",
       "</defs>\n",
       "<polygon clip-path=\"url(#clip5601)\" points=\"\n",
       "0,1600 2400,1600 2400,0 0,0 \n",
       "  \" fill=\"#ffffff\" fill-rule=\"evenodd\" fill-opacity=\"1\"/>\n",
       "<defs>\n",
       "  <clipPath id=\"clip5602\">\n",
       "    <rect x=\"480\" y=\"0\" width=\"1681\" height=\"1600\"/>\n",
       "  </clipPath>\n",
       "</defs>\n",
       "<polygon clip-path=\"url(#clip5601)\" points=\"\n",
       "224.386,640.483 1093.82,640.483 1093.82,125.984 224.386,125.984 \n",
       "  \" fill=\"#ffffff\" fill-rule=\"evenodd\" fill-opacity=\"1\"/>\n",
       "<defs>\n",
       "  <clipPath id=\"clip5603\">\n",
       "    <rect x=\"224\" y=\"125\" width=\"870\" height=\"515\"/>\n",
       "  </clipPath>\n",
       "</defs>\n",
       "<polyline clip-path=\"url(#clip5603)\" style=\"stroke:#000000; stroke-width:2; stroke-opacity:0.1; fill:none\" points=\"\n",
       "  242.731,640.483 242.731,125.984 \n",
       "  \"/>\n",
       "<polyline clip-path=\"url(#clip5603)\" style=\"stroke:#000000; stroke-width:2; stroke-opacity:0.1; fill:none\" points=\"\n",
       "  450.399,640.483 450.399,125.984 \n",
       "  \"/>\n",
       "<polyline clip-path=\"url(#clip5603)\" style=\"stroke:#000000; stroke-width:2; stroke-opacity:0.1; fill:none\" points=\"\n",
       "  658.067,640.483 658.067,125.984 \n",
       "  \"/>\n",
       "<polyline clip-path=\"url(#clip5603)\" style=\"stroke:#000000; stroke-width:2; stroke-opacity:0.1; fill:none\" points=\"\n",
       "  865.734,640.483 865.734,125.984 \n",
       "  \"/>\n",
       "<polyline clip-path=\"url(#clip5603)\" style=\"stroke:#000000; stroke-width:2; stroke-opacity:0.1; fill:none\" points=\"\n",
       "  1073.4,640.483 1073.4,125.984 \n",
       "  \"/>\n",
       "<polyline clip-path=\"url(#clip5603)\" style=\"stroke:#000000; stroke-width:2; stroke-opacity:0.1; fill:none\" points=\"\n",
       "  224.386,576.994 1093.82,576.994 \n",
       "  \"/>\n",
       "<polyline clip-path=\"url(#clip5603)\" style=\"stroke:#000000; stroke-width:2; stroke-opacity:0.1; fill:none\" points=\"\n",
       "  224.386,490.568 1093.82,490.568 \n",
       "  \"/>\n",
       "<polyline clip-path=\"url(#clip5603)\" style=\"stroke:#000000; stroke-width:2; stroke-opacity:0.1; fill:none\" points=\"\n",
       "  224.386,404.141 1093.82,404.141 \n",
       "  \"/>\n",
       "<polyline clip-path=\"url(#clip5603)\" style=\"stroke:#000000; stroke-width:2; stroke-opacity:0.1; fill:none\" points=\"\n",
       "  224.386,317.715 1093.82,317.715 \n",
       "  \"/>\n",
       "<polyline clip-path=\"url(#clip5603)\" style=\"stroke:#000000; stroke-width:2; stroke-opacity:0.1; fill:none\" points=\"\n",
       "  224.386,231.289 1093.82,231.289 \n",
       "  \"/>\n",
       "<polyline clip-path=\"url(#clip5603)\" style=\"stroke:#000000; stroke-width:2; stroke-opacity:0.1; fill:none\" points=\"\n",
       "  224.386,144.863 1093.82,144.863 \n",
       "  \"/>\n",
       "<polyline clip-path=\"url(#clip5601)\" style=\"stroke:#000000; stroke-width:4; stroke-opacity:1; fill:none\" points=\"\n",
       "  224.386,640.483 1093.82,640.483 \n",
       "  \"/>\n",
       "<polyline clip-path=\"url(#clip5601)\" style=\"stroke:#000000; stroke-width:4; stroke-opacity:1; fill:none\" points=\"\n",
       "  224.386,640.483 224.386,125.984 \n",
       "  \"/>\n",
       "<polyline clip-path=\"url(#clip5601)\" style=\"stroke:#000000; stroke-width:4; stroke-opacity:1; fill:none\" points=\"\n",
       "  242.731,640.483 242.731,632.765 \n",
       "  \"/>\n",
       "<polyline clip-path=\"url(#clip5601)\" style=\"stroke:#000000; stroke-width:4; stroke-opacity:1; fill:none\" points=\"\n",
       "  450.399,640.483 450.399,632.765 \n",
       "  \"/>\n",
       "<polyline clip-path=\"url(#clip5601)\" style=\"stroke:#000000; stroke-width:4; stroke-opacity:1; fill:none\" points=\"\n",
       "  658.067,640.483 658.067,632.765 \n",
       "  \"/>\n",
       "<polyline clip-path=\"url(#clip5601)\" style=\"stroke:#000000; stroke-width:4; stroke-opacity:1; fill:none\" points=\"\n",
       "  865.734,640.483 865.734,632.765 \n",
       "  \"/>\n",
       "<polyline clip-path=\"url(#clip5601)\" style=\"stroke:#000000; stroke-width:4; stroke-opacity:1; fill:none\" points=\"\n",
       "  1073.4,640.483 1073.4,632.765 \n",
       "  \"/>\n",
       "<polyline clip-path=\"url(#clip5601)\" style=\"stroke:#000000; stroke-width:4; stroke-opacity:1; fill:none\" points=\"\n",
       "  224.386,576.994 237.428,576.994 \n",
       "  \"/>\n",
       "<polyline clip-path=\"url(#clip5601)\" style=\"stroke:#000000; stroke-width:4; stroke-opacity:1; fill:none\" points=\"\n",
       "  224.386,490.568 237.428,490.568 \n",
       "  \"/>\n",
       "<polyline clip-path=\"url(#clip5601)\" style=\"stroke:#000000; stroke-width:4; stroke-opacity:1; fill:none\" points=\"\n",
       "  224.386,404.141 237.428,404.141 \n",
       "  \"/>\n",
       "<polyline clip-path=\"url(#clip5601)\" style=\"stroke:#000000; stroke-width:4; stroke-opacity:1; fill:none\" points=\"\n",
       "  224.386,317.715 237.428,317.715 \n",
       "  \"/>\n",
       "<polyline clip-path=\"url(#clip5601)\" style=\"stroke:#000000; stroke-width:4; stroke-opacity:1; fill:none\" points=\"\n",
       "  224.386,231.289 237.428,231.289 \n",
       "  \"/>\n",
       "<polyline clip-path=\"url(#clip5601)\" style=\"stroke:#000000; stroke-width:4; stroke-opacity:1; fill:none\" points=\"\n",
       "  224.386,144.863 237.428,144.863 \n",
       "  \"/>\n",
       "<g clip-path=\"url(#clip5601)\">\n",
       "<text style=\"fill:#000000; fill-opacity:1; font-family:Arial,Helvetica Neue,Helvetica,sans-serif; font-size:48px; text-anchor:middle;\" transform=\"rotate(0, 242.731, 694.483)\" x=\"242.731\" y=\"694.483\">0</text>\n",
       "</g>\n",
       "<g clip-path=\"url(#clip5601)\">\n",
       "<text style=\"fill:#000000; fill-opacity:1; font-family:Arial,Helvetica Neue,Helvetica,sans-serif; font-size:48px; text-anchor:middle;\" transform=\"rotate(0, 450.399, 694.483)\" x=\"450.399\" y=\"694.483\">1</text>\n",
       "</g>\n",
       "<g clip-path=\"url(#clip5601)\">\n",
       "<text style=\"fill:#000000; fill-opacity:1; font-family:Arial,Helvetica Neue,Helvetica,sans-serif; font-size:48px; text-anchor:middle;\" transform=\"rotate(0, 658.067, 694.483)\" x=\"658.067\" y=\"694.483\">2</text>\n",
       "</g>\n",
       "<g clip-path=\"url(#clip5601)\">\n",
       "<text style=\"fill:#000000; fill-opacity:1; font-family:Arial,Helvetica Neue,Helvetica,sans-serif; font-size:48px; text-anchor:middle;\" transform=\"rotate(0, 865.734, 694.483)\" x=\"865.734\" y=\"694.483\">3</text>\n",
       "</g>\n",
       "<g clip-path=\"url(#clip5601)\">\n",
       "<text style=\"fill:#000000; fill-opacity:1; font-family:Arial,Helvetica Neue,Helvetica,sans-serif; font-size:48px; text-anchor:middle;\" transform=\"rotate(0, 1073.4, 694.483)\" x=\"1073.4\" y=\"694.483\">4</text>\n",
       "</g>\n",
       "<g clip-path=\"url(#clip5601)\">\n",
       "<text style=\"fill:#000000; fill-opacity:1; font-family:Arial,Helvetica Neue,Helvetica,sans-serif; font-size:48px; text-anchor:end;\" transform=\"rotate(0, 200.386, 594.494)\" x=\"200.386\" y=\"594.494\">0.1</text>\n",
       "</g>\n",
       "<g clip-path=\"url(#clip5601)\">\n",
       "<text style=\"fill:#000000; fill-opacity:1; font-family:Arial,Helvetica Neue,Helvetica,sans-serif; font-size:48px; text-anchor:end;\" transform=\"rotate(0, 200.386, 508.068)\" x=\"200.386\" y=\"508.068\">0.2</text>\n",
       "</g>\n",
       "<g clip-path=\"url(#clip5601)\">\n",
       "<text style=\"fill:#000000; fill-opacity:1; font-family:Arial,Helvetica Neue,Helvetica,sans-serif; font-size:48px; text-anchor:end;\" transform=\"rotate(0, 200.386, 421.641)\" x=\"200.386\" y=\"421.641\">0.3</text>\n",
       "</g>\n",
       "<g clip-path=\"url(#clip5601)\">\n",
       "<text style=\"fill:#000000; fill-opacity:1; font-family:Arial,Helvetica Neue,Helvetica,sans-serif; font-size:48px; text-anchor:end;\" transform=\"rotate(0, 200.386, 335.215)\" x=\"200.386\" y=\"335.215\">0.4</text>\n",
       "</g>\n",
       "<g clip-path=\"url(#clip5601)\">\n",
       "<text style=\"fill:#000000; fill-opacity:1; font-family:Arial,Helvetica Neue,Helvetica,sans-serif; font-size:48px; text-anchor:end;\" transform=\"rotate(0, 200.386, 248.789)\" x=\"200.386\" y=\"248.789\">0.5</text>\n",
       "</g>\n",
       "<g clip-path=\"url(#clip5601)\">\n",
       "<text style=\"fill:#000000; fill-opacity:1; font-family:Arial,Helvetica Neue,Helvetica,sans-serif; font-size:48px; text-anchor:end;\" transform=\"rotate(0, 200.386, 162.363)\" x=\"200.386\" y=\"162.363\">0.6</text>\n",
       "</g>\n",
       "<g clip-path=\"url(#clip5601)\">\n",
       "<text style=\"fill:#000000; fill-opacity:1; font-family:Arial,Helvetica Neue,Helvetica,sans-serif; font-size:84px; text-anchor:middle;\" transform=\"rotate(0, 659.105, 73.2)\" x=\"659.105\" y=\"73.2\">Helmholtz free energy</text>\n",
       "</g>\n",
       "<g clip-path=\"url(#clip5601)\">\n",
       "<text style=\"fill:#000000; fill-opacity:1; font-family:Arial,Helvetica Neue,Helvetica,sans-serif; font-size:66px; text-anchor:middle;\" transform=\"rotate(0, 659.105, 790.4)\" x=\"659.105\" y=\"790.4\">kT</text>\n",
       "</g>\n",
       "<g clip-path=\"url(#clip5601)\">\n",
       "<text style=\"fill:#000000; fill-opacity:1; font-family:Arial,Helvetica Neue,Helvetica,sans-serif; font-size:66px; text-anchor:middle;\" transform=\"rotate(-90, 57.6, 383.233)\" x=\"57.6\" y=\"383.233\">A</text>\n",
       "</g>\n",
       "<polyline clip-path=\"url(#clip5603)\" style=\"stroke:#009af9; stroke-width:4; stroke-opacity:1; fill:none\" points=\"\n",
       "  257.363,622.642 265.732,624.696 274.102,625.3 282.471,625.558 290.841,625.693 299.211,625.772 307.58,625.822 315.95,625.856 324.32,625.88 332.689,625.897 \n",
       "  341.059,625.91 349.428,625.918 357.798,625.921 366.168,625.917 374.537,625.9 382.907,625.864 391.277,625.799 399.646,625.693 408.016,625.531 416.386,625.297 \n",
       "  424.755,624.972 433.125,624.537 441.494,623.97 449.864,623.249 458.234,622.354 466.603,621.262 474.973,619.95 483.343,618.398 491.712,616.583 500.082,614.484 \n",
       "  508.452,612.081 516.821,609.351 525.191,606.274 533.56,602.83 541.93,598.998 550.3,594.758 558.669,590.09 567.039,584.977 575.409,579.402 583.778,573.349 \n",
       "  592.148,566.805 600.517,559.761 608.887,552.212 617.257,544.157 625.626,535.6 633.996,526.551 642.366,517.028 650.735,507.054 659.105,496.66 667.475,485.882 \n",
       "  675.844,474.764 684.214,463.355 692.583,451.707 700.953,439.877 709.323,427.924 717.692,415.907 726.062,403.886 734.432,391.916 742.801,380.053 751.171,368.346 \n",
       "  759.54,356.842 767.91,345.58 776.28,334.596 784.649,323.919 793.019,313.572 801.389,303.574 809.758,293.938 818.128,284.673 826.498,275.781 834.867,267.265 \n",
       "  843.237,259.121 851.606,251.344 859.976,243.927 868.346,236.859 876.715,230.129 885.085,223.727 893.455,217.638 901.824,211.85 910.194,206.35 918.564,201.124 \n",
       "  926.933,196.158 935.303,191.44 943.672,186.957 952.042,182.695 960.412,178.644 968.781,174.791 977.151,171.125 985.521,167.637 993.89,164.316 1002.26,161.152 \n",
       "  1010.63,158.137 1019,155.263 1027.37,152.52 1035.74,149.903 1044.11,147.403 1052.48,145.014 1060.85,142.73 1069.22,140.546 \n",
       "  \"/>\n",
       "<polygon clip-path=\"url(#clip5601)\" points=\"\n",
       "1451.82,640.483 2321.26,640.483 2321.26,125.984 1451.82,125.984 \n",
       "  \" fill=\"#ffffff\" fill-rule=\"evenodd\" fill-opacity=\"1\"/>\n",
       "<defs>\n",
       "  <clipPath id=\"clip5604\">\n",
       "    <rect x=\"1451\" y=\"125\" width=\"870\" height=\"515\"/>\n",
       "  </clipPath>\n",
       "</defs>\n",
       "<polyline clip-path=\"url(#clip5604)\" style=\"stroke:#000000; stroke-width:2; stroke-opacity:0.1; fill:none\" points=\"\n",
       "  1470.17,640.483 1470.17,125.984 \n",
       "  \"/>\n",
       "<polyline clip-path=\"url(#clip5604)\" style=\"stroke:#000000; stroke-width:2; stroke-opacity:0.1; fill:none\" points=\"\n",
       "  1677.84,640.483 1677.84,125.984 \n",
       "  \"/>\n",
       "<polyline clip-path=\"url(#clip5604)\" style=\"stroke:#000000; stroke-width:2; stroke-opacity:0.1; fill:none\" points=\"\n",
       "  1885.5,640.483 1885.5,125.984 \n",
       "  \"/>\n",
       "<polyline clip-path=\"url(#clip5604)\" style=\"stroke:#000000; stroke-width:2; stroke-opacity:0.1; fill:none\" points=\"\n",
       "  2093.17,640.483 2093.17,125.984 \n",
       "  \"/>\n",
       "<polyline clip-path=\"url(#clip5604)\" style=\"stroke:#000000; stroke-width:2; stroke-opacity:0.1; fill:none\" points=\"\n",
       "  2300.84,640.483 2300.84,125.984 \n",
       "  \"/>\n",
       "<polyline clip-path=\"url(#clip5604)\" style=\"stroke:#000000; stroke-width:2; stroke-opacity:0.1; fill:none\" points=\"\n",
       "  1451.82,625.921 2321.26,625.921 \n",
       "  \"/>\n",
       "<polyline clip-path=\"url(#clip5604)\" style=\"stroke:#000000; stroke-width:2; stroke-opacity:0.1; fill:none\" points=\"\n",
       "  1451.82,537.324 2321.26,537.324 \n",
       "  \"/>\n",
       "<polyline clip-path=\"url(#clip5604)\" style=\"stroke:#000000; stroke-width:2; stroke-opacity:0.1; fill:none\" points=\"\n",
       "  1451.82,448.726 2321.26,448.726 \n",
       "  \"/>\n",
       "<polyline clip-path=\"url(#clip5604)\" style=\"stroke:#000000; stroke-width:2; stroke-opacity:0.1; fill:none\" points=\"\n",
       "  1451.82,360.128 2321.26,360.128 \n",
       "  \"/>\n",
       "<polyline clip-path=\"url(#clip5604)\" style=\"stroke:#000000; stroke-width:2; stroke-opacity:0.1; fill:none\" points=\"\n",
       "  1451.82,271.53 2321.26,271.53 \n",
       "  \"/>\n",
       "<polyline clip-path=\"url(#clip5604)\" style=\"stroke:#000000; stroke-width:2; stroke-opacity:0.1; fill:none\" points=\"\n",
       "  1451.82,182.932 2321.26,182.932 \n",
       "  \"/>\n",
       "<polyline clip-path=\"url(#clip5601)\" style=\"stroke:#000000; stroke-width:4; stroke-opacity:1; fill:none\" points=\"\n",
       "  1451.82,640.483 2321.26,640.483 \n",
       "  \"/>\n",
       "<polyline clip-path=\"url(#clip5601)\" style=\"stroke:#000000; stroke-width:4; stroke-opacity:1; fill:none\" points=\"\n",
       "  1451.82,640.483 1451.82,125.984 \n",
       "  \"/>\n",
       "<polyline clip-path=\"url(#clip5601)\" style=\"stroke:#000000; stroke-width:4; stroke-opacity:1; fill:none\" points=\"\n",
       "  1470.17,640.483 1470.17,632.765 \n",
       "  \"/>\n",
       "<polyline clip-path=\"url(#clip5601)\" style=\"stroke:#000000; stroke-width:4; stroke-opacity:1; fill:none\" points=\"\n",
       "  1677.84,640.483 1677.84,632.765 \n",
       "  \"/>\n",
       "<polyline clip-path=\"url(#clip5601)\" style=\"stroke:#000000; stroke-width:4; stroke-opacity:1; fill:none\" points=\"\n",
       "  1885.5,640.483 1885.5,632.765 \n",
       "  \"/>\n",
       "<polyline clip-path=\"url(#clip5601)\" style=\"stroke:#000000; stroke-width:4; stroke-opacity:1; fill:none\" points=\"\n",
       "  2093.17,640.483 2093.17,632.765 \n",
       "  \"/>\n",
       "<polyline clip-path=\"url(#clip5601)\" style=\"stroke:#000000; stroke-width:4; stroke-opacity:1; fill:none\" points=\"\n",
       "  2300.84,640.483 2300.84,632.765 \n",
       "  \"/>\n",
       "<polyline clip-path=\"url(#clip5601)\" style=\"stroke:#000000; stroke-width:4; stroke-opacity:1; fill:none\" points=\"\n",
       "  1451.82,625.921 1464.86,625.921 \n",
       "  \"/>\n",
       "<polyline clip-path=\"url(#clip5601)\" style=\"stroke:#000000; stroke-width:4; stroke-opacity:1; fill:none\" points=\"\n",
       "  1451.82,537.324 1464.86,537.324 \n",
       "  \"/>\n",
       "<polyline clip-path=\"url(#clip5601)\" style=\"stroke:#000000; stroke-width:4; stroke-opacity:1; fill:none\" points=\"\n",
       "  1451.82,448.726 1464.86,448.726 \n",
       "  \"/>\n",
       "<polyline clip-path=\"url(#clip5601)\" style=\"stroke:#000000; stroke-width:4; stroke-opacity:1; fill:none\" points=\"\n",
       "  1451.82,360.128 1464.86,360.128 \n",
       "  \"/>\n",
       "<polyline clip-path=\"url(#clip5601)\" style=\"stroke:#000000; stroke-width:4; stroke-opacity:1; fill:none\" points=\"\n",
       "  1451.82,271.53 1464.86,271.53 \n",
       "  \"/>\n",
       "<polyline clip-path=\"url(#clip5601)\" style=\"stroke:#000000; stroke-width:4; stroke-opacity:1; fill:none\" points=\"\n",
       "  1451.82,182.932 1464.86,182.932 \n",
       "  \"/>\n",
       "<g clip-path=\"url(#clip5601)\">\n",
       "<text style=\"fill:#000000; fill-opacity:1; font-family:Arial,Helvetica Neue,Helvetica,sans-serif; font-size:48px; text-anchor:middle;\" transform=\"rotate(0, 1470.17, 694.483)\" x=\"1470.17\" y=\"694.483\">0</text>\n",
       "</g>\n",
       "<g clip-path=\"url(#clip5601)\">\n",
       "<text style=\"fill:#000000; fill-opacity:1; font-family:Arial,Helvetica Neue,Helvetica,sans-serif; font-size:48px; text-anchor:middle;\" transform=\"rotate(0, 1677.84, 694.483)\" x=\"1677.84\" y=\"694.483\">1</text>\n",
       "</g>\n",
       "<g clip-path=\"url(#clip5601)\">\n",
       "<text style=\"fill:#000000; fill-opacity:1; font-family:Arial,Helvetica Neue,Helvetica,sans-serif; font-size:48px; text-anchor:middle;\" transform=\"rotate(0, 1885.5, 694.483)\" x=\"1885.5\" y=\"694.483\">2</text>\n",
       "</g>\n",
       "<g clip-path=\"url(#clip5601)\">\n",
       "<text style=\"fill:#000000; fill-opacity:1; font-family:Arial,Helvetica Neue,Helvetica,sans-serif; font-size:48px; text-anchor:middle;\" transform=\"rotate(0, 2093.17, 694.483)\" x=\"2093.17\" y=\"694.483\">3</text>\n",
       "</g>\n",
       "<g clip-path=\"url(#clip5601)\">\n",
       "<text style=\"fill:#000000; fill-opacity:1; font-family:Arial,Helvetica Neue,Helvetica,sans-serif; font-size:48px; text-anchor:middle;\" transform=\"rotate(0, 2300.84, 694.483)\" x=\"2300.84\" y=\"694.483\">4</text>\n",
       "</g>\n",
       "<g clip-path=\"url(#clip5601)\">\n",
       "<text style=\"fill:#000000; fill-opacity:1; font-family:Arial,Helvetica Neue,Helvetica,sans-serif; font-size:48px; text-anchor:end;\" transform=\"rotate(0, 1427.82, 643.421)\" x=\"1427.82\" y=\"643.421\">-2.00</text>\n",
       "</g>\n",
       "<g clip-path=\"url(#clip5601)\">\n",
       "<text style=\"fill:#000000; fill-opacity:1; font-family:Arial,Helvetica Neue,Helvetica,sans-serif; font-size:48px; text-anchor:end;\" transform=\"rotate(0, 1427.82, 554.824)\" x=\"1427.82\" y=\"554.824\">-1.75</text>\n",
       "</g>\n",
       "<g clip-path=\"url(#clip5601)\">\n",
       "<text style=\"fill:#000000; fill-opacity:1; font-family:Arial,Helvetica Neue,Helvetica,sans-serif; font-size:48px; text-anchor:end;\" transform=\"rotate(0, 1427.82, 466.226)\" x=\"1427.82\" y=\"466.226\">-1.50</text>\n",
       "</g>\n",
       "<g clip-path=\"url(#clip5601)\">\n",
       "<text style=\"fill:#000000; fill-opacity:1; font-family:Arial,Helvetica Neue,Helvetica,sans-serif; font-size:48px; text-anchor:end;\" transform=\"rotate(0, 1427.82, 377.628)\" x=\"1427.82\" y=\"377.628\">-1.25</text>\n",
       "</g>\n",
       "<g clip-path=\"url(#clip5601)\">\n",
       "<text style=\"fill:#000000; fill-opacity:1; font-family:Arial,Helvetica Neue,Helvetica,sans-serif; font-size:48px; text-anchor:end;\" transform=\"rotate(0, 1427.82, 289.03)\" x=\"1427.82\" y=\"289.03\">-1.00</text>\n",
       "</g>\n",
       "<g clip-path=\"url(#clip5601)\">\n",
       "<text style=\"fill:#000000; fill-opacity:1; font-family:Arial,Helvetica Neue,Helvetica,sans-serif; font-size:48px; text-anchor:end;\" transform=\"rotate(0, 1427.82, 200.432)\" x=\"1427.82\" y=\"200.432\">-0.75</text>\n",
       "</g>\n",
       "<g clip-path=\"url(#clip5601)\">\n",
       "<text style=\"fill:#000000; fill-opacity:1; font-family:Arial,Helvetica Neue,Helvetica,sans-serif; font-size:84px; text-anchor:middle;\" transform=\"rotate(0, 1886.54, 73.2)\" x=\"1886.54\" y=\"73.2\">Internal energy</text>\n",
       "</g>\n",
       "<g clip-path=\"url(#clip5601)\">\n",
       "<text style=\"fill:#000000; fill-opacity:1; font-family:Arial,Helvetica Neue,Helvetica,sans-serif; font-size:66px; text-anchor:middle;\" transform=\"rotate(0, 1886.54, 790.4)\" x=\"1886.54\" y=\"790.4\">kT</text>\n",
       "</g>\n",
       "<g clip-path=\"url(#clip5601)\">\n",
       "<text style=\"fill:#000000; fill-opacity:1; font-family:Arial,Helvetica Neue,Helvetica,sans-serif; font-size:66px; text-anchor:middle;\" transform=\"rotate(-90, 1230.16, 383.233)\" x=\"1230.16\" y=\"383.233\">&lt;E&gt;</text>\n",
       "</g>\n",
       "<polyline clip-path=\"url(#clip5604)\" style=\"stroke:#009af9; stroke-width:4; stroke-opacity:1; fill:none\" points=\"\n",
       "  1484.8,625.921 1493.17,625.921 1501.54,625.921 1509.91,625.921 1518.28,625.921 1526.65,625.921 1535.02,625.921 1543.39,625.921 1551.76,625.921 1560.13,625.921 \n",
       "  1568.5,625.921 1576.86,625.921 1585.23,625.92 1593.6,625.917 1601.97,625.912 1610.34,625.901 1618.71,625.881 1627.08,625.848 1635.45,625.796 1643.82,625.717 \n",
       "  1652.19,625.602 1660.56,625.442 1668.93,625.223 1677.3,624.934 1685.67,624.56 1694.04,624.086 1702.41,623.495 1710.78,622.77 1719.15,621.893 1727.52,620.844 \n",
       "  1735.89,619.602 1744.26,618.147 1752.63,616.457 1761,614.507 1769.37,612.275 1777.74,609.735 1786.11,606.862 1794.48,603.63 1802.84,600.014 1811.21,595.988 \n",
       "  1819.58,591.527 1827.95,586.61 1836.32,581.214 1844.69,575.324 1853.06,568.925 1861.43,562.01 1869.8,554.574 1878.17,546.622 1886.54,538.162 1894.91,529.213 \n",
       "  1903.28,519.797 1911.65,509.945 1920.02,499.695 1928.39,489.09 1936.76,478.177 1945.13,467.006 1953.5,455.633 1961.87,444.111 1970.24,432.495 1978.61,420.839 \n",
       "  1986.98,409.194 1995.35,397.609 2003.72,386.128 2012.09,374.791 2020.46,363.634 2028.82,352.688 2037.19,341.979 2045.56,331.528 2053.93,321.353 2062.3,311.466 \n",
       "  2070.67,301.877 2079.04,292.591 2087.41,283.611 2095.78,274.938 2104.15,266.569 2112.52,258.501 2120.89,250.728 2129.26,243.243 2137.63,236.039 2146,229.108 \n",
       "  2154.37,222.44 2162.74,216.027 2171.11,209.858 2179.48,203.924 2187.85,198.216 2196.22,192.724 2204.59,187.438 2212.96,182.351 2221.33,177.452 2229.7,172.733 \n",
       "  2238.07,168.186 2246.44,163.803 2254.8,159.577 2263.17,155.499 2271.54,151.564 2279.91,147.764 2288.28,144.093 2296.65,140.546 \n",
       "  \"/>\n",
       "<polygon clip-path=\"url(#clip5601)\" points=\"\n",
       "224.386,1440.48 1093.82,1440.48 1093.82,925.984 224.386,925.984 \n",
       "  \" fill=\"#ffffff\" fill-rule=\"evenodd\" fill-opacity=\"1\"/>\n",
       "<defs>\n",
       "  <clipPath id=\"clip5605\">\n",
       "    <rect x=\"224\" y=\"925\" width=\"870\" height=\"515\"/>\n",
       "  </clipPath>\n",
       "</defs>\n",
       "<polyline clip-path=\"url(#clip5605)\" style=\"stroke:#000000; stroke-width:2; stroke-opacity:0.1; fill:none\" points=\"\n",
       "  238.439,1440.48 238.439,925.984 \n",
       "  \"/>\n",
       "<polyline clip-path=\"url(#clip5605)\" style=\"stroke:#000000; stroke-width:2; stroke-opacity:0.1; fill:none\" points=\"\n",
       "  448.247,1440.48 448.247,925.984 \n",
       "  \"/>\n",
       "<polyline clip-path=\"url(#clip5605)\" style=\"stroke:#000000; stroke-width:2; stroke-opacity:0.1; fill:none\" points=\"\n",
       "  658.056,1440.48 658.056,925.984 \n",
       "  \"/>\n",
       "<polyline clip-path=\"url(#clip5605)\" style=\"stroke:#000000; stroke-width:2; stroke-opacity:0.1; fill:none\" points=\"\n",
       "  867.864,1440.48 867.864,925.984 \n",
       "  \"/>\n",
       "<polyline clip-path=\"url(#clip5605)\" style=\"stroke:#000000; stroke-width:2; stroke-opacity:0.1; fill:none\" points=\"\n",
       "  1077.67,1440.48 1077.67,925.984 \n",
       "  \"/>\n",
       "<polyline clip-path=\"url(#clip5605)\" style=\"stroke:#000000; stroke-width:2; stroke-opacity:0.1; fill:none\" points=\"\n",
       "  224.386,1425.92 1093.82,1425.92 \n",
       "  \"/>\n",
       "<polyline clip-path=\"url(#clip5605)\" style=\"stroke:#000000; stroke-width:2; stroke-opacity:0.1; fill:none\" points=\"\n",
       "  224.386,1306.97 1093.82,1306.97 \n",
       "  \"/>\n",
       "<polyline clip-path=\"url(#clip5605)\" style=\"stroke:#000000; stroke-width:2; stroke-opacity:0.1; fill:none\" points=\"\n",
       "  224.386,1188.01 1093.82,1188.01 \n",
       "  \"/>\n",
       "<polyline clip-path=\"url(#clip5605)\" style=\"stroke:#000000; stroke-width:2; stroke-opacity:0.1; fill:none\" points=\"\n",
       "  224.386,1069.06 1093.82,1069.06 \n",
       "  \"/>\n",
       "<polyline clip-path=\"url(#clip5605)\" style=\"stroke:#000000; stroke-width:2; stroke-opacity:0.1; fill:none\" points=\"\n",
       "  224.386,950.102 1093.82,950.102 \n",
       "  \"/>\n",
       "<polyline clip-path=\"url(#clip5601)\" style=\"stroke:#000000; stroke-width:4; stroke-opacity:1; fill:none\" points=\"\n",
       "  224.386,1440.48 1093.82,1440.48 \n",
       "  \"/>\n",
       "<polyline clip-path=\"url(#clip5601)\" style=\"stroke:#000000; stroke-width:4; stroke-opacity:1; fill:none\" points=\"\n",
       "  224.386,1440.48 224.386,925.984 \n",
       "  \"/>\n",
       "<polyline clip-path=\"url(#clip5601)\" style=\"stroke:#000000; stroke-width:4; stroke-opacity:1; fill:none\" points=\"\n",
       "  238.439,1440.48 238.439,1432.77 \n",
       "  \"/>\n",
       "<polyline clip-path=\"url(#clip5601)\" style=\"stroke:#000000; stroke-width:4; stroke-opacity:1; fill:none\" points=\"\n",
       "  448.247,1440.48 448.247,1432.77 \n",
       "  \"/>\n",
       "<polyline clip-path=\"url(#clip5601)\" style=\"stroke:#000000; stroke-width:4; stroke-opacity:1; fill:none\" points=\"\n",
       "  658.056,1440.48 658.056,1432.77 \n",
       "  \"/>\n",
       "<polyline clip-path=\"url(#clip5601)\" style=\"stroke:#000000; stroke-width:4; stroke-opacity:1; fill:none\" points=\"\n",
       "  867.864,1440.48 867.864,1432.77 \n",
       "  \"/>\n",
       "<polyline clip-path=\"url(#clip5601)\" style=\"stroke:#000000; stroke-width:4; stroke-opacity:1; fill:none\" points=\"\n",
       "  1077.67,1440.48 1077.67,1432.77 \n",
       "  \"/>\n",
       "<polyline clip-path=\"url(#clip5601)\" style=\"stroke:#000000; stroke-width:4; stroke-opacity:1; fill:none\" points=\"\n",
       "  224.386,1425.92 237.428,1425.92 \n",
       "  \"/>\n",
       "<polyline clip-path=\"url(#clip5601)\" style=\"stroke:#000000; stroke-width:4; stroke-opacity:1; fill:none\" points=\"\n",
       "  224.386,1306.97 237.428,1306.97 \n",
       "  \"/>\n",
       "<polyline clip-path=\"url(#clip5601)\" style=\"stroke:#000000; stroke-width:4; stroke-opacity:1; fill:none\" points=\"\n",
       "  224.386,1188.01 237.428,1188.01 \n",
       "  \"/>\n",
       "<polyline clip-path=\"url(#clip5601)\" style=\"stroke:#000000; stroke-width:4; stroke-opacity:1; fill:none\" points=\"\n",
       "  224.386,1069.06 237.428,1069.06 \n",
       "  \"/>\n",
       "<polyline clip-path=\"url(#clip5601)\" style=\"stroke:#000000; stroke-width:4; stroke-opacity:1; fill:none\" points=\"\n",
       "  224.386,950.102 237.428,950.102 \n",
       "  \"/>\n",
       "<g clip-path=\"url(#clip5601)\">\n",
       "<text style=\"fill:#000000; fill-opacity:1; font-family:Arial,Helvetica Neue,Helvetica,sans-serif; font-size:48px; text-anchor:middle;\" transform=\"rotate(0, 238.439, 1494.48)\" x=\"238.439\" y=\"1494.48\">0</text>\n",
       "</g>\n",
       "<g clip-path=\"url(#clip5601)\">\n",
       "<text style=\"fill:#000000; fill-opacity:1; font-family:Arial,Helvetica Neue,Helvetica,sans-serif; font-size:48px; text-anchor:middle;\" transform=\"rotate(0, 448.247, 1494.48)\" x=\"448.247\" y=\"1494.48\">1</text>\n",
       "</g>\n",
       "<g clip-path=\"url(#clip5601)\">\n",
       "<text style=\"fill:#000000; fill-opacity:1; font-family:Arial,Helvetica Neue,Helvetica,sans-serif; font-size:48px; text-anchor:middle;\" transform=\"rotate(0, 658.056, 1494.48)\" x=\"658.056\" y=\"1494.48\">2</text>\n",
       "</g>\n",
       "<g clip-path=\"url(#clip5601)\">\n",
       "<text style=\"fill:#000000; fill-opacity:1; font-family:Arial,Helvetica Neue,Helvetica,sans-serif; font-size:48px; text-anchor:middle;\" transform=\"rotate(0, 867.864, 1494.48)\" x=\"867.864\" y=\"1494.48\">3</text>\n",
       "</g>\n",
       "<g clip-path=\"url(#clip5601)\">\n",
       "<text style=\"fill:#000000; fill-opacity:1; font-family:Arial,Helvetica Neue,Helvetica,sans-serif; font-size:48px; text-anchor:middle;\" transform=\"rotate(0, 1077.67, 1494.48)\" x=\"1077.67\" y=\"1494.48\">4</text>\n",
       "</g>\n",
       "<g clip-path=\"url(#clip5601)\">\n",
       "<text style=\"fill:#000000; fill-opacity:1; font-family:Arial,Helvetica Neue,Helvetica,sans-serif; font-size:48px; text-anchor:end;\" transform=\"rotate(0, 200.386, 1443.42)\" x=\"200.386\" y=\"1443.42\">0.0</text>\n",
       "</g>\n",
       "<g clip-path=\"url(#clip5601)\">\n",
       "<text style=\"fill:#000000; fill-opacity:1; font-family:Arial,Helvetica Neue,Helvetica,sans-serif; font-size:48px; text-anchor:end;\" transform=\"rotate(0, 200.386, 1324.47)\" x=\"200.386\" y=\"1324.47\">0.2</text>\n",
       "</g>\n",
       "<g clip-path=\"url(#clip5601)\">\n",
       "<text style=\"fill:#000000; fill-opacity:1; font-family:Arial,Helvetica Neue,Helvetica,sans-serif; font-size:48px; text-anchor:end;\" transform=\"rotate(0, 200.386, 1205.51)\" x=\"200.386\" y=\"1205.51\">0.4</text>\n",
       "</g>\n",
       "<g clip-path=\"url(#clip5601)\">\n",
       "<text style=\"fill:#000000; fill-opacity:1; font-family:Arial,Helvetica Neue,Helvetica,sans-serif; font-size:48px; text-anchor:end;\" transform=\"rotate(0, 200.386, 1086.56)\" x=\"200.386\" y=\"1086.56\">0.6</text>\n",
       "</g>\n",
       "<g clip-path=\"url(#clip5601)\">\n",
       "<text style=\"fill:#000000; fill-opacity:1; font-family:Arial,Helvetica Neue,Helvetica,sans-serif; font-size:48px; text-anchor:end;\" transform=\"rotate(0, 200.386, 967.602)\" x=\"200.386\" y=\"967.602\">0.8</text>\n",
       "</g>\n",
       "<g clip-path=\"url(#clip5601)\">\n",
       "<text style=\"fill:#000000; fill-opacity:1; font-family:Arial,Helvetica Neue,Helvetica,sans-serif; font-size:84px; text-anchor:middle;\" transform=\"rotate(0, 659.105, 873.2)\" x=\"659.105\" y=\"873.2\">Heat capacity</text>\n",
       "</g>\n",
       "<g clip-path=\"url(#clip5601)\">\n",
       "<text style=\"fill:#000000; fill-opacity:1; font-family:Arial,Helvetica Neue,Helvetica,sans-serif; font-size:66px; text-anchor:middle;\" transform=\"rotate(0, 659.105, 1590.4)\" x=\"659.105\" y=\"1590.4\">kT</text>\n",
       "</g>\n",
       "<g clip-path=\"url(#clip5601)\">\n",
       "<text style=\"fill:#000000; fill-opacity:1; font-family:Arial,Helvetica Neue,Helvetica,sans-serif; font-size:66px; text-anchor:middle;\" transform=\"rotate(-90, 57.6, 1183.23)\" x=\"57.6\" y=\"1183.23\">C_V</text>\n",
       "</g>\n",
       "<polyline clip-path=\"url(#clip5605)\" style=\"stroke:#009af9; stroke-width:4; stroke-opacity:1; fill:none\" points=\"\n",
       "  257.449,1425.92 265.905,1425.92 274.361,1425.92 282.817,1425.92 291.272,1425.92 299.728,1425.92 308.184,1425.92 316.64,1425.92 325.096,1425.92 333.552,1425.92 \n",
       "  342.008,1425.91 350.464,1425.88 358.92,1425.81 367.376,1425.69 375.832,1425.47 384.288,1425.11 392.743,1424.55 401.199,1423.75 409.655,1422.63 418.111,1421.15 \n",
       "  426.567,1419.23 435.023,1416.83 443.479,1413.88 451.935,1410.35 460.391,1406.18 468.847,1401.32 477.303,1395.73 485.759,1389.38 494.215,1382.23 502.67,1374.22 \n",
       "  511.126,1365.34 519.582,1355.52 528.038,1344.74 536.494,1332.96 544.95,1320.15 553.406,1306.29 561.862,1291.35 570.318,1275.33 578.774,1258.26 587.23,1240.18 \n",
       "  595.686,1221.14 604.141,1201.25 612.597,1180.64 621.053,1159.47 629.509,1137.94 637.965,1116.29 646.421,1094.76 654.877,1073.65 663.333,1053.24 671.789,1033.82 \n",
       "  680.245,1015.69 688.701,999.101 697.157,984.294 705.612,971.467 714.068,960.769 722.524,952.304 730.98,946.12 739.436,942.217 747.892,940.546 756.348,941.013 \n",
       "  764.804,943.492 773.26,947.824 781.716,953.833 790.172,961.325 798.628,970.103 807.083,979.969 815.539,990.73 823.995,1002.2 832.451,1014.21 840.907,1026.6 \n",
       "  849.363,1039.24 857.819,1051.99 866.275,1064.75 874.731,1077.43 883.187,1089.95 891.643,1102.24 900.099,1114.25 908.554,1125.94 917.01,1137.29 925.466,1148.26 \n",
       "  933.922,1158.85 942.378,1169.04 950.834,1178.83 959.29,1188.22 967.746,1197.22 976.202,1205.83 984.658,1214.06 993.114,1221.92 1001.57,1229.42 1010.03,1236.58 \n",
       "  1018.48,1243.41 1026.94,1249.92 1035.39,1256.13 1043.85,1262.05 1052.31,1267.69 1060.76,1273.06 1069.22,1278.19 \n",
       "  \"/>\n",
       "<polygon clip-path=\"url(#clip5601)\" points=\"\n",
       "1396.95,1440.48 2321.26,1440.48 2321.26,925.984 1396.95,925.984 \n",
       "  \" fill=\"#ffffff\" fill-rule=\"evenodd\" fill-opacity=\"1\"/>\n",
       "<defs>\n",
       "  <clipPath id=\"clip5606\">\n",
       "    <rect x=\"1396\" y=\"925\" width=\"925\" height=\"515\"/>\n",
       "  </clipPath>\n",
       "</defs>\n",
       "<polyline clip-path=\"url(#clip5606)\" style=\"stroke:#000000; stroke-width:2; stroke-opacity:0.1; fill:none\" points=\"\n",
       "  1416.45,1440.48 1416.45,925.984 \n",
       "  \"/>\n",
       "<polyline clip-path=\"url(#clip5606)\" style=\"stroke:#000000; stroke-width:2; stroke-opacity:0.1; fill:none\" points=\"\n",
       "  1637.23,1440.48 1637.23,925.984 \n",
       "  \"/>\n",
       "<polyline clip-path=\"url(#clip5606)\" style=\"stroke:#000000; stroke-width:2; stroke-opacity:0.1; fill:none\" points=\"\n",
       "  1858,1440.48 1858,925.984 \n",
       "  \"/>\n",
       "<polyline clip-path=\"url(#clip5606)\" style=\"stroke:#000000; stroke-width:2; stroke-opacity:0.1; fill:none\" points=\"\n",
       "  2078.78,1440.48 2078.78,925.984 \n",
       "  \"/>\n",
       "<polyline clip-path=\"url(#clip5606)\" style=\"stroke:#000000; stroke-width:2; stroke-opacity:0.1; fill:none\" points=\"\n",
       "  2299.55,1440.48 2299.55,925.984 \n",
       "  \"/>\n",
       "<polyline clip-path=\"url(#clip5606)\" style=\"stroke:#000000; stroke-width:2; stroke-opacity:0.1; fill:none\" points=\"\n",
       "  1396.95,1376.99 2321.26,1376.99 \n",
       "  \"/>\n",
       "<polyline clip-path=\"url(#clip5606)\" style=\"stroke:#000000; stroke-width:2; stroke-opacity:0.1; fill:none\" points=\"\n",
       "  1396.95,1290.57 2321.26,1290.57 \n",
       "  \"/>\n",
       "<polyline clip-path=\"url(#clip5606)\" style=\"stroke:#000000; stroke-width:2; stroke-opacity:0.1; fill:none\" points=\"\n",
       "  1396.95,1204.14 2321.26,1204.14 \n",
       "  \"/>\n",
       "<polyline clip-path=\"url(#clip5606)\" style=\"stroke:#000000; stroke-width:2; stroke-opacity:0.1; fill:none\" points=\"\n",
       "  1396.95,1117.72 2321.26,1117.72 \n",
       "  \"/>\n",
       "<polyline clip-path=\"url(#clip5606)\" style=\"stroke:#000000; stroke-width:2; stroke-opacity:0.1; fill:none\" points=\"\n",
       "  1396.95,1031.29 2321.26,1031.29 \n",
       "  \"/>\n",
       "<polyline clip-path=\"url(#clip5606)\" style=\"stroke:#000000; stroke-width:2; stroke-opacity:0.1; fill:none\" points=\"\n",
       "  1396.95,944.863 2321.26,944.863 \n",
       "  \"/>\n",
       "<polyline clip-path=\"url(#clip5601)\" style=\"stroke:#000000; stroke-width:4; stroke-opacity:1; fill:none\" points=\"\n",
       "  1396.95,1440.48 2321.26,1440.48 \n",
       "  \"/>\n",
       "<polyline clip-path=\"url(#clip5601)\" style=\"stroke:#000000; stroke-width:4; stroke-opacity:1; fill:none\" points=\"\n",
       "  1396.95,1440.48 1396.95,925.984 \n",
       "  \"/>\n",
       "<polyline clip-path=\"url(#clip5601)\" style=\"stroke:#000000; stroke-width:4; stroke-opacity:1; fill:none\" points=\"\n",
       "  1416.45,1440.48 1416.45,1432.77 \n",
       "  \"/>\n",
       "<polyline clip-path=\"url(#clip5601)\" style=\"stroke:#000000; stroke-width:4; stroke-opacity:1; fill:none\" points=\"\n",
       "  1637.23,1440.48 1637.23,1432.77 \n",
       "  \"/>\n",
       "<polyline clip-path=\"url(#clip5601)\" style=\"stroke:#000000; stroke-width:4; stroke-opacity:1; fill:none\" points=\"\n",
       "  1858,1440.48 1858,1432.77 \n",
       "  \"/>\n",
       "<polyline clip-path=\"url(#clip5601)\" style=\"stroke:#000000; stroke-width:4; stroke-opacity:1; fill:none\" points=\"\n",
       "  2078.78,1440.48 2078.78,1432.77 \n",
       "  \"/>\n",
       "<polyline clip-path=\"url(#clip5601)\" style=\"stroke:#000000; stroke-width:4; stroke-opacity:1; fill:none\" points=\"\n",
       "  2299.55,1440.48 2299.55,1432.77 \n",
       "  \"/>\n",
       "<polyline clip-path=\"url(#clip5601)\" style=\"stroke:#000000; stroke-width:4; stroke-opacity:1; fill:none\" points=\"\n",
       "  1396.95,1376.99 1410.81,1376.99 \n",
       "  \"/>\n",
       "<polyline clip-path=\"url(#clip5601)\" style=\"stroke:#000000; stroke-width:4; stroke-opacity:1; fill:none\" points=\"\n",
       "  1396.95,1290.57 1410.81,1290.57 \n",
       "  \"/>\n",
       "<polyline clip-path=\"url(#clip5601)\" style=\"stroke:#000000; stroke-width:4; stroke-opacity:1; fill:none\" points=\"\n",
       "  1396.95,1204.14 1410.81,1204.14 \n",
       "  \"/>\n",
       "<polyline clip-path=\"url(#clip5601)\" style=\"stroke:#000000; stroke-width:4; stroke-opacity:1; fill:none\" points=\"\n",
       "  1396.95,1117.72 1410.81,1117.72 \n",
       "  \"/>\n",
       "<polyline clip-path=\"url(#clip5601)\" style=\"stroke:#000000; stroke-width:4; stroke-opacity:1; fill:none\" points=\"\n",
       "  1396.95,1031.29 1410.81,1031.29 \n",
       "  \"/>\n",
       "<polyline clip-path=\"url(#clip5601)\" style=\"stroke:#000000; stroke-width:4; stroke-opacity:1; fill:none\" points=\"\n",
       "  1396.95,944.863 1410.81,944.863 \n",
       "  \"/>\n",
       "<g clip-path=\"url(#clip5601)\">\n",
       "<text style=\"fill:#000000; fill-opacity:1; font-family:Arial,Helvetica Neue,Helvetica,sans-serif; font-size:48px; text-anchor:middle;\" transform=\"rotate(0, 1416.45, 1494.48)\" x=\"1416.45\" y=\"1494.48\">0</text>\n",
       "</g>\n",
       "<g clip-path=\"url(#clip5601)\">\n",
       "<text style=\"fill:#000000; fill-opacity:1; font-family:Arial,Helvetica Neue,Helvetica,sans-serif; font-size:48px; text-anchor:middle;\" transform=\"rotate(0, 1637.23, 1494.48)\" x=\"1637.23\" y=\"1494.48\">1</text>\n",
       "</g>\n",
       "<g clip-path=\"url(#clip5601)\">\n",
       "<text style=\"fill:#000000; fill-opacity:1; font-family:Arial,Helvetica Neue,Helvetica,sans-serif; font-size:48px; text-anchor:middle;\" transform=\"rotate(0, 1858, 1494.48)\" x=\"1858\" y=\"1494.48\">2</text>\n",
       "</g>\n",
       "<g clip-path=\"url(#clip5601)\">\n",
       "<text style=\"fill:#000000; fill-opacity:1; font-family:Arial,Helvetica Neue,Helvetica,sans-serif; font-size:48px; text-anchor:middle;\" transform=\"rotate(0, 2078.78, 1494.48)\" x=\"2078.78\" y=\"1494.48\">3</text>\n",
       "</g>\n",
       "<g clip-path=\"url(#clip5601)\">\n",
       "<text style=\"fill:#000000; fill-opacity:1; font-family:Arial,Helvetica Neue,Helvetica,sans-serif; font-size:48px; text-anchor:middle;\" transform=\"rotate(0, 2299.55, 1494.48)\" x=\"2299.55\" y=\"1494.48\">4</text>\n",
       "</g>\n",
       "<g clip-path=\"url(#clip5601)\">\n",
       "<text style=\"fill:#000000; fill-opacity:1; font-family:Arial,Helvetica Neue,Helvetica,sans-serif; font-size:48px; text-anchor:end;\" transform=\"rotate(0, 1372.95, 1394.49)\" x=\"1372.95\" y=\"1394.49\">0.1</text>\n",
       "</g>\n",
       "<g clip-path=\"url(#clip5601)\">\n",
       "<text style=\"fill:#000000; fill-opacity:1; font-family:Arial,Helvetica Neue,Helvetica,sans-serif; font-size:48px; text-anchor:end;\" transform=\"rotate(0, 1372.95, 1308.07)\" x=\"1372.95\" y=\"1308.07\">0.2</text>\n",
       "</g>\n",
       "<g clip-path=\"url(#clip5601)\">\n",
       "<text style=\"fill:#000000; fill-opacity:1; font-family:Arial,Helvetica Neue,Helvetica,sans-serif; font-size:48px; text-anchor:end;\" transform=\"rotate(0, 1372.95, 1221.64)\" x=\"1372.95\" y=\"1221.64\">0.3</text>\n",
       "</g>\n",
       "<g clip-path=\"url(#clip5601)\">\n",
       "<text style=\"fill:#000000; fill-opacity:1; font-family:Arial,Helvetica Neue,Helvetica,sans-serif; font-size:48px; text-anchor:end;\" transform=\"rotate(0, 1372.95, 1135.22)\" x=\"1372.95\" y=\"1135.22\">0.4</text>\n",
       "</g>\n",
       "<g clip-path=\"url(#clip5601)\">\n",
       "<text style=\"fill:#000000; fill-opacity:1; font-family:Arial,Helvetica Neue,Helvetica,sans-serif; font-size:48px; text-anchor:end;\" transform=\"rotate(0, 1372.95, 1048.79)\" x=\"1372.95\" y=\"1048.79\">0.5</text>\n",
       "</g>\n",
       "<g clip-path=\"url(#clip5601)\">\n",
       "<text style=\"fill:#000000; fill-opacity:1; font-family:Arial,Helvetica Neue,Helvetica,sans-serif; font-size:48px; text-anchor:end;\" transform=\"rotate(0, 1372.95, 962.363)\" x=\"1372.95\" y=\"962.363\">0.6</text>\n",
       "</g>\n",
       "<g clip-path=\"url(#clip5601)\">\n",
       "<text style=\"fill:#000000; fill-opacity:1; font-family:Arial,Helvetica Neue,Helvetica,sans-serif; font-size:84px; text-anchor:middle;\" transform=\"rotate(0, 1859.1, 873.2)\" x=\"1859.1\" y=\"873.2\">Entropy</text>\n",
       "</g>\n",
       "<g clip-path=\"url(#clip5601)\">\n",
       "<text style=\"fill:#000000; fill-opacity:1; font-family:Arial,Helvetica Neue,Helvetica,sans-serif; font-size:66px; text-anchor:middle;\" transform=\"rotate(0, 1859.1, 1590.4)\" x=\"1859.1\" y=\"1590.4\">kT</text>\n",
       "</g>\n",
       "<g clip-path=\"url(#clip5601)\">\n",
       "<text style=\"fill:#000000; fill-opacity:1; font-family:Arial,Helvetica Neue,Helvetica,sans-serif; font-size:66px; text-anchor:middle;\" transform=\"rotate(-90, 1230.16, 1183.23)\" x=\"1230.16\" y=\"1183.23\">S</text>\n",
       "</g>\n",
       "<polyline clip-path=\"url(#clip5606)\" style=\"stroke:#009af9; stroke-width:4; stroke-opacity:1; fill:none\" points=\"\n",
       "  1432.01,1422.64 1440.91,1424.7 1449.8,1425.3 1458.7,1425.56 1467.6,1425.69 1476.5,1425.77 1485.39,1425.82 1494.29,1425.86 1503.19,1425.88 1512.09,1425.9 \n",
       "  1520.99,1425.91 1529.88,1425.92 1538.78,1425.92 1547.68,1425.92 1556.58,1425.9 1565.48,1425.86 1574.37,1425.8 1583.27,1425.69 1592.17,1425.53 1601.07,1425.3 \n",
       "  1609.96,1424.97 1618.86,1424.54 1627.76,1423.97 1636.66,1423.25 1645.56,1422.35 1654.45,1421.26 1663.35,1419.95 1672.25,1418.4 1681.15,1416.58 1690.05,1414.48 \n",
       "  1698.94,1412.08 1707.84,1409.35 1716.74,1406.27 1725.64,1402.83 1734.53,1399 1743.43,1394.76 1752.33,1390.09 1761.23,1384.98 1770.13,1379.4 1779.02,1373.35 \n",
       "  1787.92,1366.8 1796.82,1359.76 1805.72,1352.21 1814.62,1344.16 1823.51,1335.6 1832.41,1326.55 1841.31,1317.03 1850.21,1307.05 1859.1,1296.66 1868,1285.88 \n",
       "  1876.9,1274.76 1885.8,1263.35 1894.7,1251.71 1903.59,1239.88 1912.49,1227.92 1921.39,1215.91 1930.29,1203.89 1939.19,1191.92 1948.08,1180.05 1956.98,1168.35 \n",
       "  1965.88,1156.84 1974.78,1145.58 1983.67,1134.6 1992.57,1123.92 2001.47,1113.57 2010.37,1103.57 2019.27,1093.94 2028.16,1084.67 2037.06,1075.78 2045.96,1067.27 \n",
       "  2054.86,1059.12 2063.76,1051.34 2072.65,1043.93 2081.55,1036.86 2090.45,1030.13 2099.35,1023.73 2108.25,1017.64 2117.14,1011.85 2126.04,1006.35 2134.94,1001.12 \n",
       "  2143.84,996.158 2152.73,991.44 2161.63,986.957 2170.53,982.695 2179.43,978.644 2188.33,974.791 2197.22,971.125 2206.12,967.637 2215.02,964.316 2223.92,961.152 \n",
       "  2232.82,958.137 2241.71,955.263 2250.61,952.52 2259.51,949.903 2268.41,947.403 2277.3,945.014 2286.2,942.73 2295.1,940.546 \n",
       "  \"/>\n",
       "</svg>\n"
      ]
     },
     "execution_count": 34,
     "metadata": {},
     "output_type": "execute_result"
    }
   ],
   "source": [
    "let Lx = 4, Ly = 4, h = 0.0, Jx = 1.0, Jy = 1.0, kTs = range(0.01, 4.0, length=100)\n",
    "    N = Lx * Ly\n",
    "    βs = 1 ./ kTs\n",
    "    @time logZs = Float64[log(ising_Z_2D_PBC(Lx,Ly,h,Jx,Jy,β)) for β in βs]\n",
    "    As = -kTs .* logZs ./ N\n",
    "    \n",
    "    kTmids = kTs[1:end-1] + diff(kTs) ./ 2\n",
    "    βmids = βs[1:end-1] + diff(βs) ./ 2\n",
    "    \n",
    "    ens = -diff(logZs) ./ diff(βs) ./ N\n",
    "    p_U = plot(kTmids, ens, title=\"Internal energy\", xlabel=\"kT\", ylabel=\"<E>\")\n",
    "    \n",
    "    cs =  diff(ens) ./ diff(kTmids)\n",
    "    p_C = plot(kTs[2:end-1], cs, title=\"Heat capacity\", xlabel=\"kT\", ylabel=\"C_V\")\n",
    "    \n",
    "    S = (ens .- (As[1:end-1] + As[2:end])./2) .* βmids\n",
    "    p_S = plot(kTmids, S, title=\"Entropy\", xlabel=\"kT\", ylabel=\"S\")\n",
    "    \n",
    "    p_A = plot(kTmids, S, title=\"Helmholtz free energy\", xlabel=\"kT\", ylabel=\"A\")\n",
    "    \n",
    "    plot(p_A, p_U, p_C, p_S, layout=4, legend=false)\n",
    "end"
   ]
  },
  {
   "cell_type": "markdown",
   "metadata": {
    "collapsed": true
   },
   "source": [
    "## Evaluation of expectation values"
   ]
  },
  {
   "cell_type": "markdown",
   "metadata": {},
   "source": [
    "Here we will compute the magnetization. First define the magnetization of a configuration:"
   ]
  },
  {
   "cell_type": "code",
   "execution_count": 35,
   "metadata": {},
   "outputs": [
    {
     "data": {
      "text/plain": [
       "ising_mag_2D_PBC (generic function with 1 method)"
      ]
     },
     "execution_count": 35,
     "metadata": {},
     "output_type": "execute_result"
    }
   ],
   "source": [
    "function ising_mag_2D_PBC(c::BitArray{2})::Float64\n",
    "    Ly,Lx = size(c)\n",
    "    N = Lx * Ly\n",
    "    Nup = count(c)\n",
    "    \n",
    "    (2Nup - N) / N\n",
    "end"
   ]
  },
  {
   "cell_type": "markdown",
   "metadata": {},
   "source": [
    "We can use this, together with the weight function, to compute the expectation value of the magnetization:"
   ]
  },
  {
   "cell_type": "code",
   "execution_count": 36,
   "metadata": {},
   "outputs": [
    {
     "data": {
      "text/plain": [
       "ising_m_2D_PBC (generic function with 1 method)"
      ]
     },
     "execution_count": 36,
     "metadata": {},
     "output_type": "execute_result"
    }
   ],
   "source": [
    "function ising_m_2D_PBC(Lx::Int, Ly::Int, h::Float64, Jx::Float64, Jy::Float64, β::Float64)\n",
    "    N = Lx*Ly\n",
    "    @assert N ≤ 64 \"Up to 64 spins!\" #Although it would take a *long* time, our implementation would do 64!\n",
    "    c = falses(Ly,Lx)\n",
    "    Z = 0.0\n",
    "    M = 0.0\n",
    "    for j in 0:2^N-1\n",
    "        c.chunks[1] = j\n",
    "        w = ising_weight_2D_PBC(c, h, Jx, Jy, β)\n",
    "        m = ising_mag_2D_PBC(c)\n",
    "        M += w * m\n",
    "        Z += w\n",
    "    end\n",
    "    \n",
    "    M / Z\n",
    "end"
   ]
  },
  {
   "cell_type": "markdown",
   "metadata": {},
   "source": [
    "Plot as a function of the external field $h$."
   ]
  },
  {
   "cell_type": "code",
   "execution_count": 37,
   "metadata": {},
   "outputs": [
    {
     "name": "stdout",
     "output_type": "stream",
     "text": [
      "  2.049353 seconds (201 allocations: 14.938 KiB)\n"
     ]
    },
    {
     "data": {
      "image/svg+xml": [
       "<?xml version=\"1.0\" encoding=\"utf-8\"?>\n",
       "<svg xmlns=\"http://www.w3.org/2000/svg\" xmlns:xlink=\"http://www.w3.org/1999/xlink\" width=\"600\" height=\"400\" viewBox=\"0 0 2400 1600\">\n",
       "<defs>\n",
       "  <clipPath id=\"clip5800\">\n",
       "    <rect x=\"0\" y=\"0\" width=\"2000\" height=\"2000\"/>\n",
       "  </clipPath>\n",
       "</defs>\n",
       "<defs>\n",
       "  <clipPath id=\"clip5801\">\n",
       "    <rect x=\"0\" y=\"0\" width=\"2400\" height=\"1600\"/>\n",
       "  </clipPath>\n",
       "</defs>\n",
       "<polygon clip-path=\"url(#clip5801)\" points=\"\n",
       "0,1600 2400,1600 2400,0 0,0 \n",
       "  \" fill=\"#ffffff\" fill-rule=\"evenodd\" fill-opacity=\"1\"/>\n",
       "<defs>\n",
       "  <clipPath id=\"clip5802\">\n",
       "    <rect x=\"480\" y=\"0\" width=\"1681\" height=\"1600\"/>\n",
       "  </clipPath>\n",
       "</defs>\n",
       "<polygon clip-path=\"url(#clip5801)\" points=\"\n",
       "252.496,1440.48 2321.26,1440.48 2321.26,125.984 252.496,125.984 \n",
       "  \" fill=\"#ffffff\" fill-rule=\"evenodd\" fill-opacity=\"1\"/>\n",
       "<defs>\n",
       "  <clipPath id=\"clip5803\">\n",
       "    <rect x=\"252\" y=\"125\" width=\"2070\" height=\"1315\"/>\n",
       "  </clipPath>\n",
       "</defs>\n",
       "<polyline clip-path=\"url(#clip5803)\" style=\"stroke:#000000; stroke-width:2; stroke-opacity:0.1; fill:none\" points=\"\n",
       "  311.046,1440.48 311.046,125.984 \n",
       "  \"/>\n",
       "<polyline clip-path=\"url(#clip5803)\" style=\"stroke:#000000; stroke-width:2; stroke-opacity:0.1; fill:none\" points=\"\n",
       "  798.962,1440.48 798.962,125.984 \n",
       "  \"/>\n",
       "<polyline clip-path=\"url(#clip5803)\" style=\"stroke:#000000; stroke-width:2; stroke-opacity:0.1; fill:none\" points=\"\n",
       "  1286.88,1440.48 1286.88,125.984 \n",
       "  \"/>\n",
       "<polyline clip-path=\"url(#clip5803)\" style=\"stroke:#000000; stroke-width:2; stroke-opacity:0.1; fill:none\" points=\"\n",
       "  1774.79,1440.48 1774.79,125.984 \n",
       "  \"/>\n",
       "<polyline clip-path=\"url(#clip5803)\" style=\"stroke:#000000; stroke-width:2; stroke-opacity:0.1; fill:none\" points=\"\n",
       "  2262.71,1440.48 2262.71,125.984 \n",
       "  \"/>\n",
       "<polyline clip-path=\"url(#clip5803)\" style=\"stroke:#000000; stroke-width:2; stroke-opacity:0.1; fill:none\" points=\"\n",
       "  252.496,1423.72 2321.26,1423.72 \n",
       "  \"/>\n",
       "<polyline clip-path=\"url(#clip5803)\" style=\"stroke:#000000; stroke-width:2; stroke-opacity:0.1; fill:none\" points=\"\n",
       "  252.496,1103.48 2321.26,1103.48 \n",
       "  \"/>\n",
       "<polyline clip-path=\"url(#clip5803)\" style=\"stroke:#000000; stroke-width:2; stroke-opacity:0.1; fill:none\" points=\"\n",
       "  252.496,783.233 2321.26,783.233 \n",
       "  \"/>\n",
       "<polyline clip-path=\"url(#clip5803)\" style=\"stroke:#000000; stroke-width:2; stroke-opacity:0.1; fill:none\" points=\"\n",
       "  252.496,462.989 2321.26,462.989 \n",
       "  \"/>\n",
       "<polyline clip-path=\"url(#clip5803)\" style=\"stroke:#000000; stroke-width:2; stroke-opacity:0.1; fill:none\" points=\"\n",
       "  252.496,142.744 2321.26,142.744 \n",
       "  \"/>\n",
       "<polyline clip-path=\"url(#clip5801)\" style=\"stroke:#000000; stroke-width:4; stroke-opacity:1; fill:none\" points=\"\n",
       "  252.496,1440.48 2321.26,1440.48 \n",
       "  \"/>\n",
       "<polyline clip-path=\"url(#clip5801)\" style=\"stroke:#000000; stroke-width:4; stroke-opacity:1; fill:none\" points=\"\n",
       "  252.496,1440.48 252.496,125.984 \n",
       "  \"/>\n",
       "<polyline clip-path=\"url(#clip5801)\" style=\"stroke:#000000; stroke-width:4; stroke-opacity:1; fill:none\" points=\"\n",
       "  311.046,1440.48 311.046,1420.77 \n",
       "  \"/>\n",
       "<polyline clip-path=\"url(#clip5801)\" style=\"stroke:#000000; stroke-width:4; stroke-opacity:1; fill:none\" points=\"\n",
       "  798.962,1440.48 798.962,1420.77 \n",
       "  \"/>\n",
       "<polyline clip-path=\"url(#clip5801)\" style=\"stroke:#000000; stroke-width:4; stroke-opacity:1; fill:none\" points=\"\n",
       "  1286.88,1440.48 1286.88,1420.77 \n",
       "  \"/>\n",
       "<polyline clip-path=\"url(#clip5801)\" style=\"stroke:#000000; stroke-width:4; stroke-opacity:1; fill:none\" points=\"\n",
       "  1774.79,1440.48 1774.79,1420.77 \n",
       "  \"/>\n",
       "<polyline clip-path=\"url(#clip5801)\" style=\"stroke:#000000; stroke-width:4; stroke-opacity:1; fill:none\" points=\"\n",
       "  2262.71,1440.48 2262.71,1420.77 \n",
       "  \"/>\n",
       "<polyline clip-path=\"url(#clip5801)\" style=\"stroke:#000000; stroke-width:4; stroke-opacity:1; fill:none\" points=\"\n",
       "  252.496,1423.72 283.528,1423.72 \n",
       "  \"/>\n",
       "<polyline clip-path=\"url(#clip5801)\" style=\"stroke:#000000; stroke-width:4; stroke-opacity:1; fill:none\" points=\"\n",
       "  252.496,1103.48 283.528,1103.48 \n",
       "  \"/>\n",
       "<polyline clip-path=\"url(#clip5801)\" style=\"stroke:#000000; stroke-width:4; stroke-opacity:1; fill:none\" points=\"\n",
       "  252.496,783.233 283.528,783.233 \n",
       "  \"/>\n",
       "<polyline clip-path=\"url(#clip5801)\" style=\"stroke:#000000; stroke-width:4; stroke-opacity:1; fill:none\" points=\"\n",
       "  252.496,462.989 283.528,462.989 \n",
       "  \"/>\n",
       "<polyline clip-path=\"url(#clip5801)\" style=\"stroke:#000000; stroke-width:4; stroke-opacity:1; fill:none\" points=\"\n",
       "  252.496,142.744 283.528,142.744 \n",
       "  \"/>\n",
       "<g clip-path=\"url(#clip5801)\">\n",
       "<text style=\"fill:#000000; fill-opacity:1; font-family:Arial,Helvetica Neue,Helvetica,sans-serif; font-size:48px; text-anchor:middle;\" transform=\"rotate(0, 311.046, 1494.48)\" x=\"311.046\" y=\"1494.48\">-1.0</text>\n",
       "</g>\n",
       "<g clip-path=\"url(#clip5801)\">\n",
       "<text style=\"fill:#000000; fill-opacity:1; font-family:Arial,Helvetica Neue,Helvetica,sans-serif; font-size:48px; text-anchor:middle;\" transform=\"rotate(0, 798.962, 1494.48)\" x=\"798.962\" y=\"1494.48\">-0.5</text>\n",
       "</g>\n",
       "<g clip-path=\"url(#clip5801)\">\n",
       "<text style=\"fill:#000000; fill-opacity:1; font-family:Arial,Helvetica Neue,Helvetica,sans-serif; font-size:48px; text-anchor:middle;\" transform=\"rotate(0, 1286.88, 1494.48)\" x=\"1286.88\" y=\"1494.48\">0.0</text>\n",
       "</g>\n",
       "<g clip-path=\"url(#clip5801)\">\n",
       "<text style=\"fill:#000000; fill-opacity:1; font-family:Arial,Helvetica Neue,Helvetica,sans-serif; font-size:48px; text-anchor:middle;\" transform=\"rotate(0, 1774.79, 1494.48)\" x=\"1774.79\" y=\"1494.48\">0.5</text>\n",
       "</g>\n",
       "<g clip-path=\"url(#clip5801)\">\n",
       "<text style=\"fill:#000000; fill-opacity:1; font-family:Arial,Helvetica Neue,Helvetica,sans-serif; font-size:48px; text-anchor:middle;\" transform=\"rotate(0, 2262.71, 1494.48)\" x=\"2262.71\" y=\"1494.48\">1.0</text>\n",
       "</g>\n",
       "<g clip-path=\"url(#clip5801)\">\n",
       "<text style=\"fill:#000000; fill-opacity:1; font-family:Arial,Helvetica Neue,Helvetica,sans-serif; font-size:48px; text-anchor:end;\" transform=\"rotate(0, 228.496, 1441.22)\" x=\"228.496\" y=\"1441.22\">-1.0</text>\n",
       "</g>\n",
       "<g clip-path=\"url(#clip5801)\">\n",
       "<text style=\"fill:#000000; fill-opacity:1; font-family:Arial,Helvetica Neue,Helvetica,sans-serif; font-size:48px; text-anchor:end;\" transform=\"rotate(0, 228.496, 1120.98)\" x=\"228.496\" y=\"1120.98\">-0.5</text>\n",
       "</g>\n",
       "<g clip-path=\"url(#clip5801)\">\n",
       "<text style=\"fill:#000000; fill-opacity:1; font-family:Arial,Helvetica Neue,Helvetica,sans-serif; font-size:48px; text-anchor:end;\" transform=\"rotate(0, 228.496, 800.733)\" x=\"228.496\" y=\"800.733\">0.0</text>\n",
       "</g>\n",
       "<g clip-path=\"url(#clip5801)\">\n",
       "<text style=\"fill:#000000; fill-opacity:1; font-family:Arial,Helvetica Neue,Helvetica,sans-serif; font-size:48px; text-anchor:end;\" transform=\"rotate(0, 228.496, 480.489)\" x=\"228.496\" y=\"480.489\">0.5</text>\n",
       "</g>\n",
       "<g clip-path=\"url(#clip5801)\">\n",
       "<text style=\"fill:#000000; fill-opacity:1; font-family:Arial,Helvetica Neue,Helvetica,sans-serif; font-size:48px; text-anchor:end;\" transform=\"rotate(0, 228.496, 160.244)\" x=\"228.496\" y=\"160.244\">1.0</text>\n",
       "</g>\n",
       "<g clip-path=\"url(#clip5801)\">\n",
       "<text style=\"fill:#000000; fill-opacity:1; font-family:Arial,Helvetica Neue,Helvetica,sans-serif; font-size:84px; text-anchor:middle;\" transform=\"rotate(0, 1286.88, 73.2)\" x=\"1286.88\" y=\"73.2\">Magnetization at T=2.269 as a function of the field stength</text>\n",
       "</g>\n",
       "<g clip-path=\"url(#clip5801)\">\n",
       "<text style=\"fill:#000000; fill-opacity:1; font-family:Arial,Helvetica Neue,Helvetica,sans-serif; font-size:66px; text-anchor:middle;\" transform=\"rotate(0, 1286.88, 1590.4)\" x=\"1286.88\" y=\"1590.4\">h</text>\n",
       "</g>\n",
       "<g clip-path=\"url(#clip5801)\">\n",
       "<text style=\"fill:#000000; fill-opacity:1; font-family:Arial,Helvetica Neue,Helvetica,sans-serif; font-size:66px; text-anchor:middle;\" transform=\"rotate(-90, 57.6, 783.233)\" x=\"57.6\" y=\"783.233\">&lt;M&gt;</text>\n",
       "</g>\n",
       "<polyline clip-path=\"url(#clip5803)\" style=\"stroke:#009af9; stroke-width:4; stroke-opacity:1; fill:none\" points=\"\n",
       "  311.046,1403.28 330.76,1402.78 350.474,1402.27 370.187,1401.74 389.901,1401.19 409.615,1400.62 429.329,1400.02 449.043,1399.41 468.756,1398.77 488.47,1398.11 \n",
       "  508.184,1397.42 527.898,1396.7 547.611,1395.95 567.325,1395.16 587.039,1394.34 606.753,1393.47 626.467,1392.55 646.18,1391.58 665.894,1390.54 685.608,1389.44 \n",
       "  705.322,1388.26 725.035,1386.98 744.749,1385.59 764.463,1384.06 784.177,1382.39 803.891,1380.53 823.604,1378.44 843.318,1376.08 863.032,1373.39 882.746,1370.29 \n",
       "  902.459,1366.69 922.173,1362.47 941.887,1357.49 961.601,1351.56 981.315,1344.46 1001.03,1335.91 1020.74,1325.59 1040.46,1313.09 1060.17,1297.94 1079.88,1279.6 \n",
       "  1099.6,1257.47 1119.31,1230.9 1139.02,1199.26 1158.74,1161.95 1178.45,1118.56 1198.17,1068.9 1217.88,1013.15 1237.59,951.928 1257.31,886.342 1277.02,817.93 \n",
       "  1296.73,748.537 1316.45,680.124 1336.16,614.538 1355.88,553.318 1375.59,497.566 1395.3,447.905 1415.02,404.514 1434.73,367.211 1454.45,335.567 1474.16,309 \n",
       "  1493.87,286.868 1513.59,268.529 1533.3,253.378 1553.01,240.877 1572.73,230.553 1592.44,222.007 1612.16,214.907 1631.87,208.977 1651.58,203.993 1671.3,199.774 \n",
       "  1691.01,196.174 1710.72,193.076 1730.44,190.385 1750.15,188.026 1769.87,185.94 1789.58,184.078 1809.29,182.402 1829.01,180.882 1848.72,179.491 1868.43,178.212 \n",
       "  1888.15,177.026 1907.86,175.922 1927.58,174.888 1947.29,173.916 1967,172.998 1986.72,172.129 2006.43,171.302 2026.14,170.515 2045.86,169.763 2065.57,169.044 \n",
       "  2085.29,168.354 2105,167.692 2124.71,167.055 2144.43,166.442 2164.14,165.851 2183.85,165.282 2203.57,164.731 2223.28,164.199 2243,163.685 2262.71,163.187 \n",
       "  \n",
       "  \"/>\n",
       "</svg>\n"
      ]
     },
     "execution_count": 37,
     "metadata": {},
     "output_type": "execute_result"
    }
   ],
   "source": [
    "let Lx = 4, Ly = 4, T = 2.269, Jx = 1.0, Jy = 1.0, hs = range(-1.0, 1.0, length=100)\n",
    "    N = Lx * Ly\n",
    "    @time ms = Float64[ising_m_2D_PBC(Lx,Ly,h,Jx,Jy,1/T) for h in hs]\n",
    "    plot(\n",
    "        hs, ms, \n",
    "        title=\"Magnetization at T=$T as a function of the field stength\",\n",
    "        xlabel=\"h\", ylabel=\"<M>\",\n",
    "        legend=false\n",
    "    )\n",
    "end"
   ]
  },
  {
   "cell_type": "markdown",
   "metadata": {},
   "source": [
    "Plot as a function of the temperature $T$."
   ]
  },
  {
   "cell_type": "code",
   "execution_count": 38,
   "metadata": {},
   "outputs": [
    {
     "name": "stdout",
     "output_type": "stream",
     "text": [
      "  1.924477 seconds (201 allocations: 14.938 KiB)\n"
     ]
    },
    {
     "data": {
      "image/svg+xml": [
       "<?xml version=\"1.0\" encoding=\"utf-8\"?>\n",
       "<svg xmlns=\"http://www.w3.org/2000/svg\" xmlns:xlink=\"http://www.w3.org/1999/xlink\" width=\"600\" height=\"400\" viewBox=\"0 0 2400 1600\">\n",
       "<defs>\n",
       "  <clipPath id=\"clip6000\">\n",
       "    <rect x=\"0\" y=\"0\" width=\"2000\" height=\"2000\"/>\n",
       "  </clipPath>\n",
       "</defs>\n",
       "<defs>\n",
       "  <clipPath id=\"clip6001\">\n",
       "    <rect x=\"0\" y=\"0\" width=\"2400\" height=\"1600\"/>\n",
       "  </clipPath>\n",
       "</defs>\n",
       "<polygon clip-path=\"url(#clip6001)\" points=\"\n",
       "0,1600 2400,1600 2400,0 0,0 \n",
       "  \" fill=\"#ffffff\" fill-rule=\"evenodd\" fill-opacity=\"1\"/>\n",
       "<defs>\n",
       "  <clipPath id=\"clip6002\">\n",
       "    <rect x=\"480\" y=\"0\" width=\"1681\" height=\"1600\"/>\n",
       "  </clipPath>\n",
       "</defs>\n",
       "<polygon clip-path=\"url(#clip6001)\" points=\"\n",
       "224.386,1440.48 2321.26,1440.48 2321.26,125.984 224.386,125.984 \n",
       "  \" fill=\"#ffffff\" fill-rule=\"evenodd\" fill-opacity=\"1\"/>\n",
       "<defs>\n",
       "  <clipPath id=\"clip6003\">\n",
       "    <rect x=\"224\" y=\"125\" width=\"2098\" height=\"1315\"/>\n",
       "  </clipPath>\n",
       "</defs>\n",
       "<polyline clip-path=\"url(#clip6003)\" style=\"stroke:#000000; stroke-width:2; stroke-opacity:0.1; fill:none\" points=\"\n",
       "  263.75,1440.48 263.75,125.984 \n",
       "  \"/>\n",
       "<polyline clip-path=\"url(#clip6003)\" style=\"stroke:#000000; stroke-width:2; stroke-opacity:0.1; fill:none\" points=\"\n",
       "  763.291,1440.48 763.291,125.984 \n",
       "  \"/>\n",
       "<polyline clip-path=\"url(#clip6003)\" style=\"stroke:#000000; stroke-width:2; stroke-opacity:0.1; fill:none\" points=\"\n",
       "  1262.83,1440.48 1262.83,125.984 \n",
       "  \"/>\n",
       "<polyline clip-path=\"url(#clip6003)\" style=\"stroke:#000000; stroke-width:2; stroke-opacity:0.1; fill:none\" points=\"\n",
       "  1762.37,1440.48 1762.37,125.984 \n",
       "  \"/>\n",
       "<polyline clip-path=\"url(#clip6003)\" style=\"stroke:#000000; stroke-width:2; stroke-opacity:0.1; fill:none\" points=\"\n",
       "  2261.91,1440.48 2261.91,125.984 \n",
       "  \"/>\n",
       "<polyline clip-path=\"url(#clip6003)\" style=\"stroke:#000000; stroke-width:2; stroke-opacity:0.1; fill:none\" points=\"\n",
       "  224.386,1337.02 2321.26,1337.02 \n",
       "  \"/>\n",
       "<polyline clip-path=\"url(#clip6003)\" style=\"stroke:#000000; stroke-width:2; stroke-opacity:0.1; fill:none\" points=\"\n",
       "  224.386,1043.56 2321.26,1043.56 \n",
       "  \"/>\n",
       "<polyline clip-path=\"url(#clip6003)\" style=\"stroke:#000000; stroke-width:2; stroke-opacity:0.1; fill:none\" points=\"\n",
       "  224.386,750.104 2321.26,750.104 \n",
       "  \"/>\n",
       "<polyline clip-path=\"url(#clip6003)\" style=\"stroke:#000000; stroke-width:2; stroke-opacity:0.1; fill:none\" points=\"\n",
       "  224.386,456.645 2321.26,456.645 \n",
       "  \"/>\n",
       "<polyline clip-path=\"url(#clip6003)\" style=\"stroke:#000000; stroke-width:2; stroke-opacity:0.1; fill:none\" points=\"\n",
       "  224.386,163.187 2321.26,163.187 \n",
       "  \"/>\n",
       "<polyline clip-path=\"url(#clip6001)\" style=\"stroke:#000000; stroke-width:4; stroke-opacity:1; fill:none\" points=\"\n",
       "  224.386,1440.48 2321.26,1440.48 \n",
       "  \"/>\n",
       "<polyline clip-path=\"url(#clip6001)\" style=\"stroke:#000000; stroke-width:4; stroke-opacity:1; fill:none\" points=\"\n",
       "  224.386,1440.48 224.386,125.984 \n",
       "  \"/>\n",
       "<polyline clip-path=\"url(#clip6001)\" style=\"stroke:#000000; stroke-width:4; stroke-opacity:1; fill:none\" points=\"\n",
       "  263.75,1440.48 263.75,1420.77 \n",
       "  \"/>\n",
       "<polyline clip-path=\"url(#clip6001)\" style=\"stroke:#000000; stroke-width:4; stroke-opacity:1; fill:none\" points=\"\n",
       "  763.291,1440.48 763.291,1420.77 \n",
       "  \"/>\n",
       "<polyline clip-path=\"url(#clip6001)\" style=\"stroke:#000000; stroke-width:4; stroke-opacity:1; fill:none\" points=\"\n",
       "  1262.83,1440.48 1262.83,1420.77 \n",
       "  \"/>\n",
       "<polyline clip-path=\"url(#clip6001)\" style=\"stroke:#000000; stroke-width:4; stroke-opacity:1; fill:none\" points=\"\n",
       "  1762.37,1440.48 1762.37,1420.77 \n",
       "  \"/>\n",
       "<polyline clip-path=\"url(#clip6001)\" style=\"stroke:#000000; stroke-width:4; stroke-opacity:1; fill:none\" points=\"\n",
       "  2261.91,1440.48 2261.91,1420.77 \n",
       "  \"/>\n",
       "<polyline clip-path=\"url(#clip6001)\" style=\"stroke:#000000; stroke-width:4; stroke-opacity:1; fill:none\" points=\"\n",
       "  224.386,1337.02 255.839,1337.02 \n",
       "  \"/>\n",
       "<polyline clip-path=\"url(#clip6001)\" style=\"stroke:#000000; stroke-width:4; stroke-opacity:1; fill:none\" points=\"\n",
       "  224.386,1043.56 255.839,1043.56 \n",
       "  \"/>\n",
       "<polyline clip-path=\"url(#clip6001)\" style=\"stroke:#000000; stroke-width:4; stroke-opacity:1; fill:none\" points=\"\n",
       "  224.386,750.104 255.839,750.104 \n",
       "  \"/>\n",
       "<polyline clip-path=\"url(#clip6001)\" style=\"stroke:#000000; stroke-width:4; stroke-opacity:1; fill:none\" points=\"\n",
       "  224.386,456.645 255.839,456.645 \n",
       "  \"/>\n",
       "<polyline clip-path=\"url(#clip6001)\" style=\"stroke:#000000; stroke-width:4; stroke-opacity:1; fill:none\" points=\"\n",
       "  224.386,163.187 255.839,163.187 \n",
       "  \"/>\n",
       "<g clip-path=\"url(#clip6001)\">\n",
       "<text style=\"fill:#000000; fill-opacity:1; font-family:Arial,Helvetica Neue,Helvetica,sans-serif; font-size:48px; text-anchor:middle;\" transform=\"rotate(0, 263.75, 1494.48)\" x=\"263.75\" y=\"1494.48\">0.0</text>\n",
       "</g>\n",
       "<g clip-path=\"url(#clip6001)\">\n",
       "<text style=\"fill:#000000; fill-opacity:1; font-family:Arial,Helvetica Neue,Helvetica,sans-serif; font-size:48px; text-anchor:middle;\" transform=\"rotate(0, 763.291, 1494.48)\" x=\"763.291\" y=\"1494.48\">2.5</text>\n",
       "</g>\n",
       "<g clip-path=\"url(#clip6001)\">\n",
       "<text style=\"fill:#000000; fill-opacity:1; font-family:Arial,Helvetica Neue,Helvetica,sans-serif; font-size:48px; text-anchor:middle;\" transform=\"rotate(0, 1262.83, 1494.48)\" x=\"1262.83\" y=\"1494.48\">5.0</text>\n",
       "</g>\n",
       "<g clip-path=\"url(#clip6001)\">\n",
       "<text style=\"fill:#000000; fill-opacity:1; font-family:Arial,Helvetica Neue,Helvetica,sans-serif; font-size:48px; text-anchor:middle;\" transform=\"rotate(0, 1762.37, 1494.48)\" x=\"1762.37\" y=\"1494.48\">7.5</text>\n",
       "</g>\n",
       "<g clip-path=\"url(#clip6001)\">\n",
       "<text style=\"fill:#000000; fill-opacity:1; font-family:Arial,Helvetica Neue,Helvetica,sans-serif; font-size:48px; text-anchor:middle;\" transform=\"rotate(0, 2261.91, 1494.48)\" x=\"2261.91\" y=\"1494.48\">10.0</text>\n",
       "</g>\n",
       "<g clip-path=\"url(#clip6001)\">\n",
       "<text style=\"fill:#000000; fill-opacity:1; font-family:Arial,Helvetica Neue,Helvetica,sans-serif; font-size:48px; text-anchor:end;\" transform=\"rotate(0, 200.386, 1354.52)\" x=\"200.386\" y=\"1354.52\">0.2</text>\n",
       "</g>\n",
       "<g clip-path=\"url(#clip6001)\">\n",
       "<text style=\"fill:#000000; fill-opacity:1; font-family:Arial,Helvetica Neue,Helvetica,sans-serif; font-size:48px; text-anchor:end;\" transform=\"rotate(0, 200.386, 1061.06)\" x=\"200.386\" y=\"1061.06\">0.4</text>\n",
       "</g>\n",
       "<g clip-path=\"url(#clip6001)\">\n",
       "<text style=\"fill:#000000; fill-opacity:1; font-family:Arial,Helvetica Neue,Helvetica,sans-serif; font-size:48px; text-anchor:end;\" transform=\"rotate(0, 200.386, 767.604)\" x=\"200.386\" y=\"767.604\">0.6</text>\n",
       "</g>\n",
       "<g clip-path=\"url(#clip6001)\">\n",
       "<text style=\"fill:#000000; fill-opacity:1; font-family:Arial,Helvetica Neue,Helvetica,sans-serif; font-size:48px; text-anchor:end;\" transform=\"rotate(0, 200.386, 474.145)\" x=\"200.386\" y=\"474.145\">0.8</text>\n",
       "</g>\n",
       "<g clip-path=\"url(#clip6001)\">\n",
       "<text style=\"fill:#000000; fill-opacity:1; font-family:Arial,Helvetica Neue,Helvetica,sans-serif; font-size:48px; text-anchor:end;\" transform=\"rotate(0, 200.386, 180.687)\" x=\"200.386\" y=\"180.687\">1.0</text>\n",
       "</g>\n",
       "<g clip-path=\"url(#clip6001)\">\n",
       "<text style=\"fill:#000000; fill-opacity:1; font-family:Arial,Helvetica Neue,Helvetica,sans-serif; font-size:84px; text-anchor:middle;\" transform=\"rotate(0, 1272.82, 73.2)\" x=\"1272.82\" y=\"73.2\">Magnetization at h=1.0 as a function of temperature</text>\n",
       "</g>\n",
       "<g clip-path=\"url(#clip6001)\">\n",
       "<text style=\"fill:#000000; fill-opacity:1; font-family:Arial,Helvetica Neue,Helvetica,sans-serif; font-size:66px; text-anchor:middle;\" transform=\"rotate(0, 1272.82, 1590.4)\" x=\"1272.82\" y=\"1590.4\">kT</text>\n",
       "</g>\n",
       "<g clip-path=\"url(#clip6001)\">\n",
       "<text style=\"fill:#000000; fill-opacity:1; font-family:Arial,Helvetica Neue,Helvetica,sans-serif; font-size:66px; text-anchor:middle;\" transform=\"rotate(-90, 57.6, 783.233)\" x=\"57.6\" y=\"783.233\">&lt;M&gt;</text>\n",
       "</g>\n",
       "<polyline clip-path=\"url(#clip6003)\" style=\"stroke:#009af9; stroke-width:4; stroke-opacity:1; fill:none\" points=\"\n",
       "  283.732,163.187 303.713,163.187 323.695,163.187 343.677,163.187 363.658,163.187 383.64,163.187 403.622,163.189 423.603,163.198 443.585,163.231 463.566,163.322 \n",
       "  483.548,163.523 503.53,163.911 523.511,164.578 543.493,165.633 563.475,167.194 583.456,169.385 603.438,172.337 623.42,176.181 643.401,181.05 663.383,187.074 \n",
       "  683.365,194.384 703.346,203.109 723.328,213.373 743.309,225.291 763.291,238.972 783.273,254.506 803.254,271.963 823.236,291.385 843.218,312.778 863.199,336.107 \n",
       "  883.181,361.293 903.163,388.212 923.144,416.693 943.126,446.531 963.108,477.489 983.089,509.31 1003.07,541.729 1023.05,574.481 1043.03,607.316 1063.02,639.998 \n",
       "  1083,672.318 1102.98,704.096 1122.96,735.18 1142.94,765.446 1162.92,794.799 1182.91,823.17 1202.89,850.513 1222.87,876.799 1242.85,902.017 1262.83,926.171 \n",
       "  1282.81,949.274 1302.8,971.348 1322.78,992.422 1342.76,1012.53 1362.74,1031.7 1382.72,1049.99 1402.7,1067.42 1422.69,1084.04 1442.67,1099.89 1462.65,1115 \n",
       "  1482.63,1129.42 1502.61,1143.18 1522.59,1156.31 1542.58,1168.86 1562.56,1180.85 1582.54,1192.31 1602.52,1203.27 1622.5,1213.77 1642.48,1223.81 1662.47,1233.44 \n",
       "  1682.45,1242.66 1702.43,1251.51 1722.41,1260.01 1742.39,1268.16 1762.37,1276 1782.35,1283.53 1802.34,1290.78 1822.32,1297.75 1842.3,1304.47 1862.28,1310.93 \n",
       "  1882.26,1317.17 1902.24,1323.18 1922.23,1328.99 1942.21,1334.59 1962.19,1340 1982.17,1345.22 2002.15,1350.28 2022.13,1355.17 2042.12,1359.9 2062.1,1364.48 \n",
       "  2082.08,1368.91 2102.06,1373.21 2122.04,1377.37 2142.02,1381.41 2162.01,1385.33 2181.99,1389.13 2201.97,1392.82 2221.95,1396.41 2241.93,1399.89 2261.91,1403.28 \n",
       "  \n",
       "  \"/>\n",
       "</svg>\n"
      ]
     },
     "execution_count": 38,
     "metadata": {},
     "output_type": "execute_result"
    }
   ],
   "source": [
    "let Lx = 4, Ly = 4, h = 1.00, Jx = 1.0, Jy = 1.0, kTs = range(0.1, 10.0, length=100)\n",
    "    N = Lx * Ly\n",
    "    @time ms = Float64[ising_m_2D_PBC(Lx,Ly,h,Jx,Jy,1/kT) for kT in kTs]\n",
    "    plot(\n",
    "        kTs, ms, \n",
    "        title=\"Magnetization at h=$h as a function of temperature\",\n",
    "        xlabel=\"kT\", ylabel=\"<M>\",\n",
    "        legend=false\n",
    "    )\n",
    "end"
   ]
  },
  {
   "cell_type": "markdown",
   "metadata": {
    "collapsed": true
   },
   "source": [
    "## Probability distribution"
   ]
  },
  {
   "cell_type": "markdown",
   "metadata": {},
   "source": [
    "We can also compute the probability distribution, the density of states, and other interesting quantities. Let's define a function that returns the probability of each configuration, together with the magnetization and the value of Z."
   ]
  },
  {
   "cell_type": "code",
   "execution_count": 39,
   "metadata": {},
   "outputs": [
    {
     "data": {
      "text/plain": [
       "ising_pd_2D_PBC (generic function with 1 method)"
      ]
     },
     "execution_count": 39,
     "metadata": {},
     "output_type": "execute_result"
    }
   ],
   "source": [
    "function ising_pd_2D_PBC(Lx::Int, Ly::Int, h::Float64, Jx::Float64, Jy::Float64, β::Float64)\n",
    "    N = Lx*Ly\n",
    "    @assert N ≤ 64 \"Up to 64 spins!\" #Although it would take a *long* time, our implementation would do 64!\n",
    "    c = falses(Ly,Lx)\n",
    "    Ws = zeros(2^N)\n",
    "    Ms = zeros(2^N)\n",
    "    for j in 0:2^N-1\n",
    "        c.chunks[1] = j\n",
    "        W = ising_weight_2D_PBC(c, h, Jx, Jy, β)\n",
    "        M = ising_mag_2D_PBC(c)\n",
    "        Ws[j+1] = W\n",
    "        Ms[j+1] = M\n",
    "    end\n",
    "    Z = sum(Ws)\n",
    "    \n",
    "    P = Ws ./ Z #normalize the weights to probabilities\n",
    "    \n",
    "    P, Ms, Z\n",
    "end"
   ]
  },
  {
   "cell_type": "code",
   "execution_count": 47,
   "metadata": {},
   "outputs": [
    {
     "name": "stdout",
     "output_type": "stream",
     "text": [
      "  0.021419 seconds (9 allocations: 1.500 MiB)\n",
      "sum(P) = 0.9999999999999998\n"
     ]
    },
    {
     "data": {
      "image/svg+xml": [
       "<?xml version=\"1.0\" encoding=\"utf-8\"?>\n",
       "<svg xmlns=\"http://www.w3.org/2000/svg\" xmlns:xlink=\"http://www.w3.org/1999/xlink\" width=\"600\" height=\"400\" viewBox=\"0 0 2400 1600\">\n",
       "<defs>\n",
       "  <clipPath id=\"clip7200\">\n",
       "    <rect x=\"0\" y=\"0\" width=\"2000\" height=\"2000\"/>\n",
       "  </clipPath>\n",
       "</defs>\n",
       "<defs>\n",
       "  <clipPath id=\"clip7201\">\n",
       "    <rect x=\"0\" y=\"0\" width=\"2400\" height=\"1600\"/>\n",
       "  </clipPath>\n",
       "</defs>\n",
       "<polygon clip-path=\"url(#clip7201)\" points=\"\n",
       "0,1600 2400,1600 2400,0 0,0 \n",
       "  \" fill=\"#ffffff\" fill-rule=\"evenodd\" fill-opacity=\"1\"/>\n",
       "<defs>\n",
       "  <clipPath id=\"clip7202\">\n",
       "    <rect x=\"480\" y=\"0\" width=\"1681\" height=\"1600\"/>\n",
       "  </clipPath>\n",
       "</defs>\n",
       "<polygon clip-path=\"url(#clip7201)\" points=\"\n",
       "315.214,640.483 1153.29,640.483 1153.29,125.984 315.214,125.984 \n",
       "  \" fill=\"#ffffff\" fill-rule=\"evenodd\" fill-opacity=\"1\"/>\n",
       "<defs>\n",
       "  <clipPath id=\"clip7203\">\n",
       "    <rect x=\"315\" y=\"125\" width=\"839\" height=\"515\"/>\n",
       "  </clipPath>\n",
       "</defs>\n",
       "<polyline clip-path=\"url(#clip7203)\" style=\"stroke:#000000; stroke-width:2; stroke-opacity:0.1; fill:none\" points=\"\n",
       "  379.069,640.483 379.069,125.984 \n",
       "  \"/>\n",
       "<polyline clip-path=\"url(#clip7203)\" style=\"stroke:#000000; stroke-width:2; stroke-opacity:0.1; fill:none\" points=\"\n",
       "  556.662,640.483 556.662,125.984 \n",
       "  \"/>\n",
       "<polyline clip-path=\"url(#clip7203)\" style=\"stroke:#000000; stroke-width:2; stroke-opacity:0.1; fill:none\" points=\"\n",
       "  734.254,640.483 734.254,125.984 \n",
       "  \"/>\n",
       "<polyline clip-path=\"url(#clip7203)\" style=\"stroke:#000000; stroke-width:2; stroke-opacity:0.1; fill:none\" points=\"\n",
       "  911.846,640.483 911.846,125.984 \n",
       "  \"/>\n",
       "<polyline clip-path=\"url(#clip7203)\" style=\"stroke:#000000; stroke-width:2; stroke-opacity:0.1; fill:none\" points=\"\n",
       "  1089.44,640.483 1089.44,125.984 \n",
       "  \"/>\n",
       "<polyline clip-path=\"url(#clip7203)\" style=\"stroke:#000000; stroke-width:2; stroke-opacity:0.1; fill:none\" points=\"\n",
       "  315.214,592.416 1153.29,592.416 \n",
       "  \"/>\n",
       "<polyline clip-path=\"url(#clip7203)\" style=\"stroke:#000000; stroke-width:2; stroke-opacity:0.1; fill:none\" points=\"\n",
       "  315.214,515.07 1153.29,515.07 \n",
       "  \"/>\n",
       "<polyline clip-path=\"url(#clip7203)\" style=\"stroke:#000000; stroke-width:2; stroke-opacity:0.1; fill:none\" points=\"\n",
       "  315.214,437.725 1153.29,437.725 \n",
       "  \"/>\n",
       "<polyline clip-path=\"url(#clip7203)\" style=\"stroke:#000000; stroke-width:2; stroke-opacity:0.1; fill:none\" points=\"\n",
       "  315.214,360.379 1153.29,360.379 \n",
       "  \"/>\n",
       "<polyline clip-path=\"url(#clip7203)\" style=\"stroke:#000000; stroke-width:2; stroke-opacity:0.1; fill:none\" points=\"\n",
       "  315.214,283.034 1153.29,283.034 \n",
       "  \"/>\n",
       "<polyline clip-path=\"url(#clip7203)\" style=\"stroke:#000000; stroke-width:2; stroke-opacity:0.1; fill:none\" points=\"\n",
       "  315.214,205.688 1153.29,205.688 \n",
       "  \"/>\n",
       "<polyline clip-path=\"url(#clip7203)\" style=\"stroke:#000000; stroke-width:2; stroke-opacity:0.1; fill:none\" points=\"\n",
       "  315.214,128.343 1153.29,128.343 \n",
       "  \"/>\n",
       "<polyline clip-path=\"url(#clip7201)\" style=\"stroke:#000000; stroke-width:4; stroke-opacity:1; fill:none\" points=\"\n",
       "  315.214,640.483 1153.29,640.483 \n",
       "  \"/>\n",
       "<polyline clip-path=\"url(#clip7201)\" style=\"stroke:#000000; stroke-width:4; stroke-opacity:1; fill:none\" points=\"\n",
       "  315.214,640.483 315.214,125.984 \n",
       "  \"/>\n",
       "<polyline clip-path=\"url(#clip7201)\" style=\"stroke:#000000; stroke-width:4; stroke-opacity:1; fill:none\" points=\"\n",
       "  379.069,640.483 379.069,632.765 \n",
       "  \"/>\n",
       "<polyline clip-path=\"url(#clip7201)\" style=\"stroke:#000000; stroke-width:4; stroke-opacity:1; fill:none\" points=\"\n",
       "  556.662,640.483 556.662,632.765 \n",
       "  \"/>\n",
       "<polyline clip-path=\"url(#clip7201)\" style=\"stroke:#000000; stroke-width:4; stroke-opacity:1; fill:none\" points=\"\n",
       "  734.254,640.483 734.254,632.765 \n",
       "  \"/>\n",
       "<polyline clip-path=\"url(#clip7201)\" style=\"stroke:#000000; stroke-width:4; stroke-opacity:1; fill:none\" points=\"\n",
       "  911.846,640.483 911.846,632.765 \n",
       "  \"/>\n",
       "<polyline clip-path=\"url(#clip7201)\" style=\"stroke:#000000; stroke-width:4; stroke-opacity:1; fill:none\" points=\"\n",
       "  1089.44,640.483 1089.44,632.765 \n",
       "  \"/>\n",
       "<polyline clip-path=\"url(#clip7201)\" style=\"stroke:#000000; stroke-width:4; stroke-opacity:1; fill:none\" points=\"\n",
       "  315.214,592.416 327.786,592.416 \n",
       "  \"/>\n",
       "<polyline clip-path=\"url(#clip7201)\" style=\"stroke:#000000; stroke-width:4; stroke-opacity:1; fill:none\" points=\"\n",
       "  315.214,515.07 327.786,515.07 \n",
       "  \"/>\n",
       "<polyline clip-path=\"url(#clip7201)\" style=\"stroke:#000000; stroke-width:4; stroke-opacity:1; fill:none\" points=\"\n",
       "  315.214,437.725 327.786,437.725 \n",
       "  \"/>\n",
       "<polyline clip-path=\"url(#clip7201)\" style=\"stroke:#000000; stroke-width:4; stroke-opacity:1; fill:none\" points=\"\n",
       "  315.214,360.379 327.786,360.379 \n",
       "  \"/>\n",
       "<polyline clip-path=\"url(#clip7201)\" style=\"stroke:#000000; stroke-width:4; stroke-opacity:1; fill:none\" points=\"\n",
       "  315.214,283.034 327.786,283.034 \n",
       "  \"/>\n",
       "<polyline clip-path=\"url(#clip7201)\" style=\"stroke:#000000; stroke-width:4; stroke-opacity:1; fill:none\" points=\"\n",
       "  315.214,205.688 327.786,205.688 \n",
       "  \"/>\n",
       "<polyline clip-path=\"url(#clip7201)\" style=\"stroke:#000000; stroke-width:4; stroke-opacity:1; fill:none\" points=\"\n",
       "  315.214,128.343 327.786,128.343 \n",
       "  \"/>\n",
       "<g clip-path=\"url(#clip7201)\">\n",
       "<text style=\"fill:#000000; fill-opacity:1; font-family:Arial,Helvetica Neue,Helvetica,sans-serif; font-size:48px; text-anchor:middle;\" transform=\"rotate(0, 379.069, 694.483)\" x=\"379.069\" y=\"694.483\">-2</text>\n",
       "</g>\n",
       "<g clip-path=\"url(#clip7201)\">\n",
       "<text style=\"fill:#000000; fill-opacity:1; font-family:Arial,Helvetica Neue,Helvetica,sans-serif; font-size:48px; text-anchor:middle;\" transform=\"rotate(0, 556.662, 694.483)\" x=\"556.662\" y=\"694.483\">-1</text>\n",
       "</g>\n",
       "<g clip-path=\"url(#clip7201)\">\n",
       "<text style=\"fill:#000000; fill-opacity:1; font-family:Arial,Helvetica Neue,Helvetica,sans-serif; font-size:48px; text-anchor:middle;\" transform=\"rotate(0, 734.254, 694.483)\" x=\"734.254\" y=\"694.483\">0</text>\n",
       "</g>\n",
       "<g clip-path=\"url(#clip7201)\">\n",
       "<text style=\"fill:#000000; fill-opacity:1; font-family:Arial,Helvetica Neue,Helvetica,sans-serif; font-size:48px; text-anchor:middle;\" transform=\"rotate(0, 911.846, 694.483)\" x=\"911.846\" y=\"694.483\">1</text>\n",
       "</g>\n",
       "<g clip-path=\"url(#clip7201)\">\n",
       "<text style=\"fill:#000000; fill-opacity:1; font-family:Arial,Helvetica Neue,Helvetica,sans-serif; font-size:48px; text-anchor:middle;\" transform=\"rotate(0, 1089.44, 694.483)\" x=\"1089.44\" y=\"694.483\">2</text>\n",
       "</g>\n",
       "<g clip-path=\"url(#clip7201)\">\n",
       "<text style=\"fill:#000000; fill-opacity:1; font-family:Arial,Helvetica Neue,Helvetica,sans-serif; font-size:48px; text-anchor:start;\" transform=\"rotate(0, 160.489, 616.143)\" x=\"160.489\" y=\"616.143\">10</text>\n",
       "</g>\n",
       "<g clip-path=\"url(#clip7201)\">\n",
       "<text style=\"fill:#000000; fill-opacity:1; font-family:Arial,Helvetica Neue,Helvetica,sans-serif; font-size:38px; text-anchor:start;\" transform=\"rotate(0, 214.014, 588.733)\" x=\"214.014\" y=\"588.733\">-</text>\n",
       "</g>\n",
       "<g clip-path=\"url(#clip7201)\">\n",
       "<text style=\"fill:#000000; fill-opacity:1; font-family:Arial,Helvetica Neue,Helvetica,sans-serif; font-size:38px; text-anchor:start;\" transform=\"rotate(0, 236.853, 588.733)\" x=\"236.853\" y=\"588.733\">12 </text>\n",
       "</g>\n",
       "<g clip-path=\"url(#clip7201)\">\n",
       "<text style=\"fill:#000000; fill-opacity:1; font-family:Arial,Helvetica Neue,Helvetica,sans-serif; font-size:48px; text-anchor:start;\" transform=\"rotate(0, 160.489, 538.798)\" x=\"160.489\" y=\"538.798\">10</text>\n",
       "</g>\n",
       "<g clip-path=\"url(#clip7201)\">\n",
       "<text style=\"fill:#000000; fill-opacity:1; font-family:Arial,Helvetica Neue,Helvetica,sans-serif; font-size:38px; text-anchor:start;\" transform=\"rotate(0, 214.014, 511.388)\" x=\"214.014\" y=\"511.388\">-</text>\n",
       "</g>\n",
       "<g clip-path=\"url(#clip7201)\">\n",
       "<text style=\"fill:#000000; fill-opacity:1; font-family:Arial,Helvetica Neue,Helvetica,sans-serif; font-size:38px; text-anchor:start;\" transform=\"rotate(0, 236.853, 511.388)\" x=\"236.853\" y=\"511.388\">10 </text>\n",
       "</g>\n",
       "<g clip-path=\"url(#clip7201)\">\n",
       "<text style=\"fill:#000000; fill-opacity:1; font-family:Arial,Helvetica Neue,Helvetica,sans-serif; font-size:48px; text-anchor:start;\" transform=\"rotate(0, 182.234, 461.453)\" x=\"182.234\" y=\"461.453\">10</text>\n",
       "</g>\n",
       "<g clip-path=\"url(#clip7201)\">\n",
       "<text style=\"fill:#000000; fill-opacity:1; font-family:Arial,Helvetica Neue,Helvetica,sans-serif; font-size:38px; text-anchor:start;\" transform=\"rotate(0, 235.758, 434.042)\" x=\"235.758\" y=\"434.042\">-</text>\n",
       "</g>\n",
       "<g clip-path=\"url(#clip7201)\">\n",
       "<text style=\"fill:#000000; fill-opacity:1; font-family:Arial,Helvetica Neue,Helvetica,sans-serif; font-size:38px; text-anchor:start;\" transform=\"rotate(0, 258.598, 434.042)\" x=\"258.598\" y=\"434.042\">8 </text>\n",
       "</g>\n",
       "<g clip-path=\"url(#clip7201)\">\n",
       "<text style=\"fill:#000000; fill-opacity:1; font-family:Arial,Helvetica Neue,Helvetica,sans-serif; font-size:48px; text-anchor:start;\" transform=\"rotate(0, 182.234, 384.107)\" x=\"182.234\" y=\"384.107\">10</text>\n",
       "</g>\n",
       "<g clip-path=\"url(#clip7201)\">\n",
       "<text style=\"fill:#000000; fill-opacity:1; font-family:Arial,Helvetica Neue,Helvetica,sans-serif; font-size:38px; text-anchor:start;\" transform=\"rotate(0, 235.758, 356.697)\" x=\"235.758\" y=\"356.697\">-</text>\n",
       "</g>\n",
       "<g clip-path=\"url(#clip7201)\">\n",
       "<text style=\"fill:#000000; fill-opacity:1; font-family:Arial,Helvetica Neue,Helvetica,sans-serif; font-size:38px; text-anchor:start;\" transform=\"rotate(0, 258.598, 356.697)\" x=\"258.598\" y=\"356.697\">6 </text>\n",
       "</g>\n",
       "<g clip-path=\"url(#clip7201)\">\n",
       "<text style=\"fill:#000000; fill-opacity:1; font-family:Arial,Helvetica Neue,Helvetica,sans-serif; font-size:48px; text-anchor:start;\" transform=\"rotate(0, 182.234, 306.762)\" x=\"182.234\" y=\"306.762\">10</text>\n",
       "</g>\n",
       "<g clip-path=\"url(#clip7201)\">\n",
       "<text style=\"fill:#000000; fill-opacity:1; font-family:Arial,Helvetica Neue,Helvetica,sans-serif; font-size:38px; text-anchor:start;\" transform=\"rotate(0, 235.758, 279.351)\" x=\"235.758\" y=\"279.351\">-</text>\n",
       "</g>\n",
       "<g clip-path=\"url(#clip7201)\">\n",
       "<text style=\"fill:#000000; fill-opacity:1; font-family:Arial,Helvetica Neue,Helvetica,sans-serif; font-size:38px; text-anchor:start;\" transform=\"rotate(0, 258.598, 279.351)\" x=\"258.598\" y=\"279.351\">4 </text>\n",
       "</g>\n",
       "<g clip-path=\"url(#clip7201)\">\n",
       "<text style=\"fill:#000000; fill-opacity:1; font-family:Arial,Helvetica Neue,Helvetica,sans-serif; font-size:48px; text-anchor:start;\" transform=\"rotate(0, 182.234, 229.416)\" x=\"182.234\" y=\"229.416\">10</text>\n",
       "</g>\n",
       "<g clip-path=\"url(#clip7201)\">\n",
       "<text style=\"fill:#000000; fill-opacity:1; font-family:Arial,Helvetica Neue,Helvetica,sans-serif; font-size:38px; text-anchor:start;\" transform=\"rotate(0, 235.758, 202.006)\" x=\"235.758\" y=\"202.006\">-</text>\n",
       "</g>\n",
       "<g clip-path=\"url(#clip7201)\">\n",
       "<text style=\"fill:#000000; fill-opacity:1; font-family:Arial,Helvetica Neue,Helvetica,sans-serif; font-size:38px; text-anchor:start;\" transform=\"rotate(0, 258.598, 202.006)\" x=\"258.598\" y=\"202.006\">2 </text>\n",
       "</g>\n",
       "<g clip-path=\"url(#clip7201)\">\n",
       "<text style=\"fill:#000000; fill-opacity:1; font-family:Arial,Helvetica Neue,Helvetica,sans-serif; font-size:48px; text-anchor:start;\" transform=\"rotate(0, 205.073, 152.071)\" x=\"205.073\" y=\"152.071\">10</text>\n",
       "</g>\n",
       "<g clip-path=\"url(#clip7201)\">\n",
       "<text style=\"fill:#000000; fill-opacity:1; font-family:Arial,Helvetica Neue,Helvetica,sans-serif; font-size:38px; text-anchor:start;\" transform=\"rotate(0, 258.598, 124.66)\" x=\"258.598\" y=\"124.66\">0 </text>\n",
       "</g>\n",
       "<g clip-path=\"url(#clip7201)\">\n",
       "<text style=\"fill:#000000; fill-opacity:1; font-family:Arial,Helvetica Neue,Helvetica,sans-serif; font-size:84px; text-anchor:middle;\" transform=\"rotate(0, 734.254, 73.2)\" x=\"734.254\" y=\"73.2\">Probability of energy</text>\n",
       "</g>\n",
       "<g clip-path=\"url(#clip7201)\">\n",
       "<text style=\"fill:#000000; fill-opacity:1; font-family:Arial,Helvetica Neue,Helvetica,sans-serif; font-size:66px; text-anchor:middle;\" transform=\"rotate(0, 734.254, 790.4)\" x=\"734.254\" y=\"790.4\">E/N</text>\n",
       "</g>\n",
       "<g clip-path=\"url(#clip7201)\">\n",
       "<text style=\"fill:#000000; fill-opacity:1; font-family:Arial,Helvetica Neue,Helvetica,sans-serif; font-size:66px; text-anchor:middle;\" transform=\"rotate(-90, 57.6, 383.233)\" x=\"57.6\" y=\"383.233\">p(E)</text>\n",
       "</g>\n",
       "<polygon clip-path=\"url(#clip7203)\" points=\"\n",
       "361.31,140.546 361.31,625.921 396.829,625.921 396.829,140.546 361.31,140.546 361.31,140.546 \n",
       "  \" fill=\"#009af9\" fill-rule=\"evenodd\" fill-opacity=\"1\"/>\n",
       "<polyline clip-path=\"url(#clip7203)\" style=\"stroke:#000000; stroke-width:4; stroke-opacity:1; fill:none\" points=\"\n",
       "  361.31,140.546 361.31,625.921 396.829,625.921 396.829,140.546 361.31,140.546 \n",
       "  \"/>\n",
       "<polygon clip-path=\"url(#clip7203)\" points=\"\n",
       "450.106,153.196 450.106,625.921 485.625,625.921 485.625,153.196 450.106,153.196 450.106,153.196 \n",
       "  \" fill=\"#009af9\" fill-rule=\"evenodd\" fill-opacity=\"1\"/>\n",
       "<polyline clip-path=\"url(#clip7203)\" style=\"stroke:#000000; stroke-width:4; stroke-opacity:1; fill:none\" points=\"\n",
       "  450.106,153.196 450.106,625.921 485.625,625.921 485.625,153.196 450.106,153.196 \n",
       "  \"/>\n",
       "<polygon clip-path=\"url(#clip7203)\" points=\"\n",
       "494.504,171.162 494.504,625.921 530.023,625.921 530.023,171.162 494.504,171.162 494.504,171.162 \n",
       "  \" fill=\"#009af9\" fill-rule=\"evenodd\" fill-opacity=\"1\"/>\n",
       "<polyline clip-path=\"url(#clip7203)\" style=\"stroke:#000000; stroke-width:4; stroke-opacity:1; fill:none\" points=\"\n",
       "  494.504,171.162 494.504,625.921 530.023,625.921 530.023,171.162 494.504,171.162 \n",
       "  \"/>\n",
       "<polygon clip-path=\"url(#clip7203)\" points=\"\n",
       "538.902,169.013 538.902,625.921 574.421,625.921 574.421,169.013 538.902,169.013 538.902,169.013 \n",
       "  \" fill=\"#009af9\" fill-rule=\"evenodd\" fill-opacity=\"1\"/>\n",
       "<polyline clip-path=\"url(#clip7203)\" style=\"stroke:#000000; stroke-width:4; stroke-opacity:1; fill:none\" points=\"\n",
       "  538.902,169.013 538.902,625.921 574.421,625.921 574.421,169.013 538.902,169.013 \n",
       "  \"/>\n",
       "<polygon clip-path=\"url(#clip7203)\" points=\"\n",
       "583.3,175.024 583.3,625.921 618.819,625.921 618.819,175.024 583.3,175.024 583.3,175.024 \n",
       "  \" fill=\"#009af9\" fill-rule=\"evenodd\" fill-opacity=\"1\"/>\n",
       "<polyline clip-path=\"url(#clip7203)\" style=\"stroke:#000000; stroke-width:4; stroke-opacity:1; fill:none\" points=\"\n",
       "  583.3,175.024 583.3,625.921 618.819,625.921 618.819,175.024 583.3,175.024 \n",
       "  \"/>\n",
       "<polygon clip-path=\"url(#clip7203)\" points=\"\n",
       "627.698,181.903 627.698,625.921 663.217,625.921 663.217,181.903 627.698,181.903 627.698,181.903 \n",
       "  \" fill=\"#009af9\" fill-rule=\"evenodd\" fill-opacity=\"1\"/>\n",
       "<polyline clip-path=\"url(#clip7203)\" style=\"stroke:#000000; stroke-width:4; stroke-opacity:1; fill:none\" points=\"\n",
       "  627.698,181.903 627.698,625.921 663.217,625.921 663.217,181.903 627.698,181.903 \n",
       "  \"/>\n",
       "<polygon clip-path=\"url(#clip7203)\" points=\"\n",
       "672.096,199.63 672.096,625.921 707.615,625.921 707.615,199.63 672.096,199.63 672.096,199.63 \n",
       "  \" fill=\"#009af9\" fill-rule=\"evenodd\" fill-opacity=\"1\"/>\n",
       "<polyline clip-path=\"url(#clip7203)\" style=\"stroke:#000000; stroke-width:4; stroke-opacity:1; fill:none\" points=\"\n",
       "  672.096,199.63 672.096,625.921 707.615,625.921 707.615,199.63 672.096,199.63 \n",
       "  \"/>\n",
       "<polygon clip-path=\"url(#clip7203)\" points=\"\n",
       "716.494,222.287 716.494,625.921 752.013,625.921 752.013,222.287 716.494,222.287 716.494,222.287 \n",
       "  \" fill=\"#009af9\" fill-rule=\"evenodd\" fill-opacity=\"1\"/>\n",
       "<polyline clip-path=\"url(#clip7203)\" style=\"stroke:#000000; stroke-width:4; stroke-opacity:1; fill:none\" points=\"\n",
       "  716.494,222.287 716.494,625.921 752.013,625.921 752.013,222.287 716.494,222.287 \n",
       "  \"/>\n",
       "<polygon clip-path=\"url(#clip7203)\" points=\"\n",
       "760.892,258.847 760.892,625.921 796.411,625.921 796.411,258.847 760.892,258.847 760.892,258.847 \n",
       "  \" fill=\"#009af9\" fill-rule=\"evenodd\" fill-opacity=\"1\"/>\n",
       "<polyline clip-path=\"url(#clip7203)\" style=\"stroke:#000000; stroke-width:4; stroke-opacity:1; fill:none\" points=\"\n",
       "  760.892,258.847 760.892,625.921 796.411,625.921 796.411,258.847 760.892,258.847 \n",
       "  \"/>\n",
       "<polygon clip-path=\"url(#clip7203)\" points=\"\n",
       "805.29,300.336 805.29,625.921 840.809,625.921 840.809,300.336 805.29,300.336 805.29,300.336 \n",
       "  \" fill=\"#009af9\" fill-rule=\"evenodd\" fill-opacity=\"1\"/>\n",
       "<polyline clip-path=\"url(#clip7203)\" style=\"stroke:#000000; stroke-width:4; stroke-opacity:1; fill:none\" points=\"\n",
       "  805.29,300.336 805.29,625.921 840.809,625.921 840.809,300.336 805.29,300.336 \n",
       "  \"/>\n",
       "<polygon clip-path=\"url(#clip7203)\" points=\"\n",
       "849.688,352.675 849.688,625.921 885.207,625.921 885.207,352.675 849.688,352.675 849.688,352.675 \n",
       "  \" fill=\"#009af9\" fill-rule=\"evenodd\" fill-opacity=\"1\"/>\n",
       "<polyline clip-path=\"url(#clip7203)\" style=\"stroke:#000000; stroke-width:4; stroke-opacity:1; fill:none\" points=\"\n",
       "  849.688,352.675 849.688,625.921 885.207,625.921 885.207,352.675 849.688,352.675 \n",
       "  \"/>\n",
       "<polygon clip-path=\"url(#clip7203)\" points=\"\n",
       "894.087,405.88 894.087,625.921 929.605,625.921 929.605,405.88 894.087,405.88 894.087,405.88 \n",
       "  \" fill=\"#009af9\" fill-rule=\"evenodd\" fill-opacity=\"1\"/>\n",
       "<polyline clip-path=\"url(#clip7203)\" style=\"stroke:#000000; stroke-width:4; stroke-opacity:1; fill:none\" points=\"\n",
       "  894.087,405.88 894.087,625.921 929.605,625.921 929.605,405.88 894.087,405.88 \n",
       "  \"/>\n",
       "<polygon clip-path=\"url(#clip7203)\" points=\"\n",
       "938.485,467.246 938.485,625.921 974.003,625.921 974.003,467.246 938.485,467.246 938.485,467.246 \n",
       "  \" fill=\"#009af9\" fill-rule=\"evenodd\" fill-opacity=\"1\"/>\n",
       "<polyline clip-path=\"url(#clip7203)\" style=\"stroke:#000000; stroke-width:4; stroke-opacity:1; fill:none\" points=\"\n",
       "  938.485,467.246 938.485,625.921 974.003,625.921 974.003,467.246 938.485,467.246 \n",
       "  \"/>\n",
       "<polygon clip-path=\"url(#clip7203)\" points=\"\n",
       "982.883,508.496 982.883,625.921 1018.4,625.921 1018.4,508.496 982.883,508.496 982.883,508.496 \n",
       "  \" fill=\"#009af9\" fill-rule=\"evenodd\" fill-opacity=\"1\"/>\n",
       "<polyline clip-path=\"url(#clip7203)\" style=\"stroke:#000000; stroke-width:4; stroke-opacity:1; fill:none\" points=\"\n",
       "  982.883,508.496 982.883,625.921 1018.4,625.921 1018.4,508.496 982.883,508.496 \n",
       "  \"/>\n",
       "<polygon clip-path=\"url(#clip7203)\" points=\"\n",
       "1071.68,614.28 1071.68,625.921 1107.2,625.921 1107.2,614.28 1071.68,614.28 1071.68,614.28 \n",
       "  \" fill=\"#009af9\" fill-rule=\"evenodd\" fill-opacity=\"1\"/>\n",
       "<polyline clip-path=\"url(#clip7203)\" style=\"stroke:#000000; stroke-width:4; stroke-opacity:1; fill:none\" points=\"\n",
       "  1071.68,614.28 1071.68,625.921 1107.2,625.921 1107.2,614.28 1071.68,614.28 \n",
       "  \"/>\n",
       "<polygon clip-path=\"url(#clip7201)\" points=\"\n",
       "1456.42,-1066.56 2321.26,-1066.56 2321.26,-1105.26 1456.42,-1105.26 \n",
       "  \" fill=\"#ffffff\" fill-rule=\"evenodd\" fill-opacity=\"1\"/>\n",
       "<defs>\n",
       "  <clipPath id=\"clip7204\">\n",
       "    <rect x=\"1456\" y=\"125\" width=\"866\" height=\"515\"/>\n",
       "  </clipPath>\n",
       "</defs>\n",
       "<polyline clip-path=\"url(#clip7204)\" style=\"stroke:#000000; stroke-width:2; stroke-opacity:0.1; fill:none\" points=\"\n",
       "  1522.31,640.483 1522.31,125.984 \n",
       "  \"/>\n",
       "<polyline clip-path=\"url(#clip7204)\" style=\"stroke:#000000; stroke-width:2; stroke-opacity:0.1; fill:none\" points=\"\n",
       "  1705.58,640.483 1705.58,125.984 \n",
       "  \"/>\n",
       "<polyline clip-path=\"url(#clip7204)\" style=\"stroke:#000000; stroke-width:2; stroke-opacity:0.1; fill:none\" points=\"\n",
       "  1888.84,640.483 1888.84,125.984 \n",
       "  \"/>\n",
       "<polyline clip-path=\"url(#clip7204)\" style=\"stroke:#000000; stroke-width:2; stroke-opacity:0.1; fill:none\" points=\"\n",
       "  2072.1,640.483 2072.1,125.984 \n",
       "  \"/>\n",
       "<polyline clip-path=\"url(#clip7204)\" style=\"stroke:#000000; stroke-width:2; stroke-opacity:0.1; fill:none\" points=\"\n",
       "  2255.37,640.483 2255.37,125.984 \n",
       "  \"/>\n",
       "<polyline clip-path=\"url(#clip7204)\" style=\"stroke:#000000; stroke-width:2; stroke-opacity:0.1; fill:none\" points=\"\n",
       "  1456.42,625.921 2321.26,625.921 \n",
       "  \"/>\n",
       "<polyline clip-path=\"url(#clip7204)\" style=\"stroke:#000000; stroke-width:2; stroke-opacity:0.1; fill:none\" points=\"\n",
       "  1456.42,470.934 2321.26,470.934 \n",
       "  \"/>\n",
       "<polyline clip-path=\"url(#clip7204)\" style=\"stroke:#000000; stroke-width:2; stroke-opacity:0.1; fill:none\" points=\"\n",
       "  1456.42,315.947 2321.26,315.947 \n",
       "  \"/>\n",
       "<polyline clip-path=\"url(#clip7204)\" style=\"stroke:#000000; stroke-width:2; stroke-opacity:0.1; fill:none\" points=\"\n",
       "  1456.42,160.959 2321.26,160.959 \n",
       "  \"/>\n",
       "<polyline clip-path=\"url(#clip7201)\" style=\"stroke:#000000; stroke-width:4; stroke-opacity:1; fill:none\" points=\"\n",
       "  1456.42,640.483 2321.26,640.483 \n",
       "  \"/>\n",
       "<polyline clip-path=\"url(#clip7201)\" style=\"stroke:#000000; stroke-width:4; stroke-opacity:1; fill:none\" points=\"\n",
       "  1456.42,640.483 1456.42,125.984 \n",
       "  \"/>\n",
       "<polyline clip-path=\"url(#clip7201)\" style=\"stroke:#000000; stroke-width:4; stroke-opacity:1; fill:none\" points=\"\n",
       "  1522.31,640.483 1522.31,632.765 \n",
       "  \"/>\n",
       "<polyline clip-path=\"url(#clip7201)\" style=\"stroke:#000000; stroke-width:4; stroke-opacity:1; fill:none\" points=\"\n",
       "  1705.58,640.483 1705.58,632.765 \n",
       "  \"/>\n",
       "<polyline clip-path=\"url(#clip7201)\" style=\"stroke:#000000; stroke-width:4; stroke-opacity:1; fill:none\" points=\"\n",
       "  1888.84,640.483 1888.84,632.765 \n",
       "  \"/>\n",
       "<polyline clip-path=\"url(#clip7201)\" style=\"stroke:#000000; stroke-width:4; stroke-opacity:1; fill:none\" points=\"\n",
       "  2072.1,640.483 2072.1,632.765 \n",
       "  \"/>\n",
       "<polyline clip-path=\"url(#clip7201)\" style=\"stroke:#000000; stroke-width:4; stroke-opacity:1; fill:none\" points=\"\n",
       "  2255.37,640.483 2255.37,632.765 \n",
       "  \"/>\n",
       "<polyline clip-path=\"url(#clip7201)\" style=\"stroke:#000000; stroke-width:4; stroke-opacity:1; fill:none\" points=\"\n",
       "  1456.42,625.921 1469.39,625.921 \n",
       "  \"/>\n",
       "<polyline clip-path=\"url(#clip7201)\" style=\"stroke:#000000; stroke-width:4; stroke-opacity:1; fill:none\" points=\"\n",
       "  1456.42,470.934 1469.39,470.934 \n",
       "  \"/>\n",
       "<polyline clip-path=\"url(#clip7201)\" style=\"stroke:#000000; stroke-width:4; stroke-opacity:1; fill:none\" points=\"\n",
       "  1456.42,315.947 1469.39,315.947 \n",
       "  \"/>\n",
       "<polyline clip-path=\"url(#clip7201)\" style=\"stroke:#000000; stroke-width:4; stroke-opacity:1; fill:none\" points=\"\n",
       "  1456.42,160.959 1469.39,160.959 \n",
       "  \"/>\n",
       "<g clip-path=\"url(#clip7201)\">\n",
       "<text style=\"fill:#000000; fill-opacity:1; font-family:Arial,Helvetica Neue,Helvetica,sans-serif; font-size:48px; text-anchor:middle;\" transform=\"rotate(0, 1522.31, 694.483)\" x=\"1522.31\" y=\"694.483\">-2</text>\n",
       "</g>\n",
       "<g clip-path=\"url(#clip7201)\">\n",
       "<text style=\"fill:#000000; fill-opacity:1; font-family:Arial,Helvetica Neue,Helvetica,sans-serif; font-size:48px; text-anchor:middle;\" transform=\"rotate(0, 1705.58, 694.483)\" x=\"1705.58\" y=\"694.483\">-1</text>\n",
       "</g>\n",
       "<g clip-path=\"url(#clip7201)\">\n",
       "<text style=\"fill:#000000; fill-opacity:1; font-family:Arial,Helvetica Neue,Helvetica,sans-serif; font-size:48px; text-anchor:middle;\" transform=\"rotate(0, 1888.84, 694.483)\" x=\"1888.84\" y=\"694.483\">0</text>\n",
       "</g>\n",
       "<g clip-path=\"url(#clip7201)\">\n",
       "<text style=\"fill:#000000; fill-opacity:1; font-family:Arial,Helvetica Neue,Helvetica,sans-serif; font-size:48px; text-anchor:middle;\" transform=\"rotate(0, 2072.1, 694.483)\" x=\"2072.1\" y=\"694.483\">1</text>\n",
       "</g>\n",
       "<g clip-path=\"url(#clip7201)\">\n",
       "<text style=\"fill:#000000; fill-opacity:1; font-family:Arial,Helvetica Neue,Helvetica,sans-serif; font-size:48px; text-anchor:middle;\" transform=\"rotate(0, 2255.37, 694.483)\" x=\"2255.37\" y=\"694.483\">2</text>\n",
       "</g>\n",
       "<g clip-path=\"url(#clip7201)\">\n",
       "<text style=\"fill:#000000; fill-opacity:1; font-family:Arial,Helvetica Neue,Helvetica,sans-serif; font-size:48px; text-anchor:end;\" transform=\"rotate(0, 1432.42, 643.421)\" x=\"1432.42\" y=\"643.421\">0.0</text>\n",
       "</g>\n",
       "<g clip-path=\"url(#clip7201)\">\n",
       "<text style=\"fill:#000000; fill-opacity:1; font-family:Arial,Helvetica Neue,Helvetica,sans-serif; font-size:48px; text-anchor:end;\" transform=\"rotate(0, 1432.42, 488.434)\" x=\"1432.42\" y=\"488.434\">0.1</text>\n",
       "</g>\n",
       "<g clip-path=\"url(#clip7201)\">\n",
       "<text style=\"fill:#000000; fill-opacity:1; font-family:Arial,Helvetica Neue,Helvetica,sans-serif; font-size:48px; text-anchor:end;\" transform=\"rotate(0, 1432.42, 333.447)\" x=\"1432.42\" y=\"333.447\">0.2</text>\n",
       "</g>\n",
       "<g clip-path=\"url(#clip7201)\">\n",
       "<text style=\"fill:#000000; fill-opacity:1; font-family:Arial,Helvetica Neue,Helvetica,sans-serif; font-size:48px; text-anchor:end;\" transform=\"rotate(0, 1432.42, 178.459)\" x=\"1432.42\" y=\"178.459\">0.3</text>\n",
       "</g>\n",
       "<g clip-path=\"url(#clip7201)\">\n",
       "<text style=\"fill:#000000; fill-opacity:1; font-family:Arial,Helvetica Neue,Helvetica,sans-serif; font-size:84px; text-anchor:middle;\" transform=\"rotate(0, 1888.84, 73.2)\" x=\"1888.84\" y=\"73.2\">Density of states</text>\n",
       "</g>\n",
       "<g clip-path=\"url(#clip7201)\">\n",
       "<text style=\"fill:#000000; fill-opacity:1; font-family:Arial,Helvetica Neue,Helvetica,sans-serif; font-size:66px; text-anchor:middle;\" transform=\"rotate(0, 1888.84, 790.4)\" x=\"1888.84\" y=\"790.4\">E/N</text>\n",
       "</g>\n",
       "<g clip-path=\"url(#clip7201)\">\n",
       "<text style=\"fill:#000000; fill-opacity:1; font-family:Arial,Helvetica Neue,Helvetica,sans-serif; font-size:66px; text-anchor:middle;\" transform=\"rotate(-90, 1289.63, 383.233)\" x=\"1289.63\" y=\"383.233\">D(E)</text>\n",
       "</g>\n",
       "<polygon clip-path=\"url(#clip7204)\" points=\"\n",
       "1503.99,625.874 1503.99,625.921 1540.64,625.921 1540.64,625.874 1503.99,625.874 1503.99,625.874 \n",
       "  \" fill=\"#009af9\" fill-rule=\"evenodd\" fill-opacity=\"1\"/>\n",
       "<polyline clip-path=\"url(#clip7204)\" style=\"stroke:#000000; stroke-width:4; stroke-opacity:1; fill:none\" points=\"\n",
       "  1503.99,625.874 1503.99,625.921 1540.64,625.921 1540.64,625.874 1503.99,625.874 \n",
       "  \"/>\n",
       "<polygon clip-path=\"url(#clip7204)\" points=\"\n",
       "1595.62,625.165 1595.62,625.921 1632.27,625.921 1632.27,625.165 1595.62,625.165 1595.62,625.165 \n",
       "  \" fill=\"#009af9\" fill-rule=\"evenodd\" fill-opacity=\"1\"/>\n",
       "<polyline clip-path=\"url(#clip7204)\" style=\"stroke:#000000; stroke-width:4; stroke-opacity:1; fill:none\" points=\"\n",
       "  1595.62,625.165 1595.62,625.921 1632.27,625.921 1632.27,625.165 1595.62,625.165 \n",
       "  \"/>\n",
       "<polygon clip-path=\"url(#clip7204)\" points=\"\n",
       "1641.43,624.408 1641.43,625.921 1678.09,625.921 1678.09,624.408 1641.43,624.408 1641.43,624.408 \n",
       "  \" fill=\"#009af9\" fill-rule=\"evenodd\" fill-opacity=\"1\"/>\n",
       "<polyline clip-path=\"url(#clip7204)\" style=\"stroke:#000000; stroke-width:4; stroke-opacity:1; fill:none\" points=\"\n",
       "  1641.43,624.408 1641.43,625.921 1678.09,625.921 1678.09,624.408 1641.43,624.408 \n",
       "  \"/>\n",
       "<polygon clip-path=\"url(#clip7204)\" points=\"\n",
       "1687.25,615.894 1687.25,625.921 1723.9,625.921 1723.9,615.894 1687.25,615.894 1687.25,615.894 \n",
       "  \" fill=\"#009af9\" fill-rule=\"evenodd\" fill-opacity=\"1\"/>\n",
       "<polyline clip-path=\"url(#clip7204)\" style=\"stroke:#000000; stroke-width:4; stroke-opacity:1; fill:none\" points=\"\n",
       "  1687.25,615.894 1687.25,625.921 1723.9,625.921 1723.9,615.894 1687.25,615.894 \n",
       "  \"/>\n",
       "<polygon clip-path=\"url(#clip7204)\" points=\"\n",
       "1733.07,585.056 1733.07,625.921 1769.72,625.921 1769.72,585.056 1733.07,585.056 1733.07,585.056 \n",
       "  \" fill=\"#009af9\" fill-rule=\"evenodd\" fill-opacity=\"1\"/>\n",
       "<polyline clip-path=\"url(#clip7204)\" style=\"stroke:#000000; stroke-width:4; stroke-opacity:1; fill:none\" points=\"\n",
       "  1733.07,585.056 1733.07,625.921 1769.72,625.921 1769.72,585.056 1733.07,585.056 \n",
       "  \"/>\n",
       "<polygon clip-path=\"url(#clip7204)\" points=\"\n",
       "1778.88,467.756 1778.88,625.921 1815.53,625.921 1815.53,467.756 1778.88,467.756 1778.88,467.756 \n",
       "  \" fill=\"#009af9\" fill-rule=\"evenodd\" fill-opacity=\"1\"/>\n",
       "<polyline clip-path=\"url(#clip7204)\" style=\"stroke:#000000; stroke-width:4; stroke-opacity:1; fill:none\" points=\"\n",
       "  1778.88,467.756 1778.88,625.921 1815.53,625.921 1815.53,467.756 1778.88,467.756 \n",
       "  \"/>\n",
       "<polygon clip-path=\"url(#clip7204)\" points=\"\n",
       "1824.7,305.049 1824.7,625.921 1861.35,625.921 1861.35,305.049 1824.7,305.049 1824.7,305.049 \n",
       "  \" fill=\"#009af9\" fill-rule=\"evenodd\" fill-opacity=\"1\"/>\n",
       "<polyline clip-path=\"url(#clip7204)\" style=\"stroke:#000000; stroke-width:4; stroke-opacity:1; fill:none\" points=\"\n",
       "  1824.7,305.049 1824.7,625.921 1861.35,625.921 1861.35,305.049 1824.7,305.049 \n",
       "  \"/>\n",
       "<polygon clip-path=\"url(#clip7204)\" points=\"\n",
       "1870.51,140.546 1870.51,625.921 1907.17,625.921 1907.17,140.546 1870.51,140.546 1870.51,140.546 \n",
       "  \" fill=\"#009af9\" fill-rule=\"evenodd\" fill-opacity=\"1\"/>\n",
       "<polyline clip-path=\"url(#clip7204)\" style=\"stroke:#000000; stroke-width:4; stroke-opacity:1; fill:none\" points=\"\n",
       "  1870.51,140.546 1870.51,625.921 1907.17,625.921 1907.17,140.546 1870.51,140.546 \n",
       "  \"/>\n",
       "<polygon clip-path=\"url(#clip7204)\" points=\"\n",
       "1916.33,305.049 1916.33,625.921 1952.98,625.921 1952.98,305.049 1916.33,305.049 1916.33,305.049 \n",
       "  \" fill=\"#009af9\" fill-rule=\"evenodd\" fill-opacity=\"1\"/>\n",
       "<polyline clip-path=\"url(#clip7204)\" style=\"stroke:#000000; stroke-width:4; stroke-opacity:1; fill:none\" points=\"\n",
       "  1916.33,305.049 1916.33,625.921 1952.98,625.921 1952.98,305.049 1916.33,305.049 \n",
       "  \"/>\n",
       "<polygon clip-path=\"url(#clip7204)\" points=\"\n",
       "1962.14,467.756 1962.14,625.921 1998.8,625.921 1998.8,467.756 1962.14,467.756 1962.14,467.756 \n",
       "  \" fill=\"#009af9\" fill-rule=\"evenodd\" fill-opacity=\"1\"/>\n",
       "<polyline clip-path=\"url(#clip7204)\" style=\"stroke:#000000; stroke-width:4; stroke-opacity:1; fill:none\" points=\"\n",
       "  1962.14,467.756 1962.14,625.921 1998.8,625.921 1998.8,467.756 1962.14,467.756 \n",
       "  \"/>\n",
       "<polygon clip-path=\"url(#clip7204)\" points=\"\n",
       "2007.96,585.056 2007.96,625.921 2044.61,625.921 2044.61,585.056 2007.96,585.056 2007.96,585.056 \n",
       "  \" fill=\"#009af9\" fill-rule=\"evenodd\" fill-opacity=\"1\"/>\n",
       "<polyline clip-path=\"url(#clip7204)\" style=\"stroke:#000000; stroke-width:4; stroke-opacity:1; fill:none\" points=\"\n",
       "  2007.96,585.056 2007.96,625.921 2044.61,625.921 2044.61,585.056 2007.96,585.056 \n",
       "  \"/>\n",
       "<polygon clip-path=\"url(#clip7204)\" points=\"\n",
       "2053.78,615.894 2053.78,625.921 2090.43,625.921 2090.43,615.894 2053.78,615.894 2053.78,615.894 \n",
       "  \" fill=\"#009af9\" fill-rule=\"evenodd\" fill-opacity=\"1\"/>\n",
       "<polyline clip-path=\"url(#clip7204)\" style=\"stroke:#000000; stroke-width:4; stroke-opacity:1; fill:none\" points=\"\n",
       "  2053.78,615.894 2053.78,625.921 2090.43,625.921 2090.43,615.894 2053.78,615.894 \n",
       "  \"/>\n",
       "<polygon clip-path=\"url(#clip7204)\" points=\"\n",
       "2099.59,624.408 2099.59,625.921 2136.24,625.921 2136.24,624.408 2099.59,624.408 2099.59,624.408 \n",
       "  \" fill=\"#009af9\" fill-rule=\"evenodd\" fill-opacity=\"1\"/>\n",
       "<polyline clip-path=\"url(#clip7204)\" style=\"stroke:#000000; stroke-width:4; stroke-opacity:1; fill:none\" points=\"\n",
       "  2099.59,624.408 2099.59,625.921 2136.24,625.921 2136.24,624.408 2099.59,624.408 \n",
       "  \"/>\n",
       "<polygon clip-path=\"url(#clip7204)\" points=\"\n",
       "2145.41,625.165 2145.41,625.921 2182.06,625.921 2182.06,625.165 2145.41,625.165 2145.41,625.165 \n",
       "  \" fill=\"#009af9\" fill-rule=\"evenodd\" fill-opacity=\"1\"/>\n",
       "<polyline clip-path=\"url(#clip7204)\" style=\"stroke:#000000; stroke-width:4; stroke-opacity:1; fill:none\" points=\"\n",
       "  2145.41,625.165 2145.41,625.921 2182.06,625.921 2182.06,625.165 2145.41,625.165 \n",
       "  \"/>\n",
       "<polygon clip-path=\"url(#clip7204)\" points=\"\n",
       "2237.04,625.874 2237.04,625.921 2273.69,625.921 2273.69,625.874 2237.04,625.874 2237.04,625.874 \n",
       "  \" fill=\"#009af9\" fill-rule=\"evenodd\" fill-opacity=\"1\"/>\n",
       "<polyline clip-path=\"url(#clip7204)\" style=\"stroke:#000000; stroke-width:4; stroke-opacity:1; fill:none\" points=\"\n",
       "  2237.04,625.874 2237.04,625.921 2273.69,625.921 2273.69,625.874 2237.04,625.874 \n",
       "  \"/>\n",
       "<polygon clip-path=\"url(#clip7201)\" points=\"\n",
       "315.214,1440.48 1153.29,1440.48 1153.29,925.984 315.214,925.984 \n",
       "  \" fill=\"#ffffff\" fill-rule=\"evenodd\" fill-opacity=\"1\"/>\n",
       "<defs>\n",
       "  <clipPath id=\"clip7205\">\n",
       "    <rect x=\"315\" y=\"925\" width=\"839\" height=\"515\"/>\n",
       "  </clipPath>\n",
       "</defs>\n",
       "<polyline clip-path=\"url(#clip7205)\" style=\"stroke:#000000; stroke-width:2; stroke-opacity:0.1; fill:none\" points=\"\n",
       "  379.069,1440.48 379.069,925.984 \n",
       "  \"/>\n",
       "<polyline clip-path=\"url(#clip7205)\" style=\"stroke:#000000; stroke-width:2; stroke-opacity:0.1; fill:none\" points=\"\n",
       "  556.662,1440.48 556.662,925.984 \n",
       "  \"/>\n",
       "<polyline clip-path=\"url(#clip7205)\" style=\"stroke:#000000; stroke-width:2; stroke-opacity:0.1; fill:none\" points=\"\n",
       "  734.254,1440.48 734.254,925.984 \n",
       "  \"/>\n",
       "<polyline clip-path=\"url(#clip7205)\" style=\"stroke:#000000; stroke-width:2; stroke-opacity:0.1; fill:none\" points=\"\n",
       "  911.846,1440.48 911.846,925.984 \n",
       "  \"/>\n",
       "<polyline clip-path=\"url(#clip7205)\" style=\"stroke:#000000; stroke-width:2; stroke-opacity:0.1; fill:none\" points=\"\n",
       "  1089.44,1440.48 1089.44,925.984 \n",
       "  \"/>\n",
       "<polyline clip-path=\"url(#clip7205)\" style=\"stroke:#000000; stroke-width:2; stroke-opacity:0.1; fill:none\" points=\"\n",
       "  315.214,1425.92 1153.29,1425.92 \n",
       "  \"/>\n",
       "<polyline clip-path=\"url(#clip7205)\" style=\"stroke:#000000; stroke-width:2; stroke-opacity:0.1; fill:none\" points=\"\n",
       "  315.214,1325.55 1153.29,1325.55 \n",
       "  \"/>\n",
       "<polyline clip-path=\"url(#clip7205)\" style=\"stroke:#000000; stroke-width:2; stroke-opacity:0.1; fill:none\" points=\"\n",
       "  315.214,1225.18 1153.29,1225.18 \n",
       "  \"/>\n",
       "<polyline clip-path=\"url(#clip7205)\" style=\"stroke:#000000; stroke-width:2; stroke-opacity:0.1; fill:none\" points=\"\n",
       "  315.214,1124.81 1153.29,1124.81 \n",
       "  \"/>\n",
       "<polyline clip-path=\"url(#clip7205)\" style=\"stroke:#000000; stroke-width:2; stroke-opacity:0.1; fill:none\" points=\"\n",
       "  315.214,1024.43 1153.29,1024.43 \n",
       "  \"/>\n",
       "<polyline clip-path=\"url(#clip7201)\" style=\"stroke:#000000; stroke-width:4; stroke-opacity:1; fill:none\" points=\"\n",
       "  315.214,1440.48 1153.29,1440.48 \n",
       "  \"/>\n",
       "<polyline clip-path=\"url(#clip7201)\" style=\"stroke:#000000; stroke-width:4; stroke-opacity:1; fill:none\" points=\"\n",
       "  315.214,1440.48 315.214,925.984 \n",
       "  \"/>\n",
       "<polyline clip-path=\"url(#clip7201)\" style=\"stroke:#000000; stroke-width:4; stroke-opacity:1; fill:none\" points=\"\n",
       "  379.069,1440.48 379.069,1432.77 \n",
       "  \"/>\n",
       "<polyline clip-path=\"url(#clip7201)\" style=\"stroke:#000000; stroke-width:4; stroke-opacity:1; fill:none\" points=\"\n",
       "  556.662,1440.48 556.662,1432.77 \n",
       "  \"/>\n",
       "<polyline clip-path=\"url(#clip7201)\" style=\"stroke:#000000; stroke-width:4; stroke-opacity:1; fill:none\" points=\"\n",
       "  734.254,1440.48 734.254,1432.77 \n",
       "  \"/>\n",
       "<polyline clip-path=\"url(#clip7201)\" style=\"stroke:#000000; stroke-width:4; stroke-opacity:1; fill:none\" points=\"\n",
       "  911.846,1440.48 911.846,1432.77 \n",
       "  \"/>\n",
       "<polyline clip-path=\"url(#clip7201)\" style=\"stroke:#000000; stroke-width:4; stroke-opacity:1; fill:none\" points=\"\n",
       "  1089.44,1440.48 1089.44,1432.77 \n",
       "  \"/>\n",
       "<polyline clip-path=\"url(#clip7201)\" style=\"stroke:#000000; stroke-width:4; stroke-opacity:1; fill:none\" points=\"\n",
       "  315.214,1425.92 327.786,1425.92 \n",
       "  \"/>\n",
       "<polyline clip-path=\"url(#clip7201)\" style=\"stroke:#000000; stroke-width:4; stroke-opacity:1; fill:none\" points=\"\n",
       "  315.214,1325.55 327.786,1325.55 \n",
       "  \"/>\n",
       "<polyline clip-path=\"url(#clip7201)\" style=\"stroke:#000000; stroke-width:4; stroke-opacity:1; fill:none\" points=\"\n",
       "  315.214,1225.18 327.786,1225.18 \n",
       "  \"/>\n",
       "<polyline clip-path=\"url(#clip7201)\" style=\"stroke:#000000; stroke-width:4; stroke-opacity:1; fill:none\" points=\"\n",
       "  315.214,1124.81 327.786,1124.81 \n",
       "  \"/>\n",
       "<polyline clip-path=\"url(#clip7201)\" style=\"stroke:#000000; stroke-width:4; stroke-opacity:1; fill:none\" points=\"\n",
       "  315.214,1024.43 327.786,1024.43 \n",
       "  \"/>\n",
       "<g clip-path=\"url(#clip7201)\">\n",
       "<text style=\"fill:#000000; fill-opacity:1; font-family:Arial,Helvetica Neue,Helvetica,sans-serif; font-size:48px; text-anchor:middle;\" transform=\"rotate(0, 379.069, 1494.48)\" x=\"379.069\" y=\"1494.48\">-1.0</text>\n",
       "</g>\n",
       "<g clip-path=\"url(#clip7201)\">\n",
       "<text style=\"fill:#000000; fill-opacity:1; font-family:Arial,Helvetica Neue,Helvetica,sans-serif; font-size:48px; text-anchor:middle;\" transform=\"rotate(0, 556.662, 1494.48)\" x=\"556.662\" y=\"1494.48\">-0.5</text>\n",
       "</g>\n",
       "<g clip-path=\"url(#clip7201)\">\n",
       "<text style=\"fill:#000000; fill-opacity:1; font-family:Arial,Helvetica Neue,Helvetica,sans-serif; font-size:48px; text-anchor:middle;\" transform=\"rotate(0, 734.254, 1494.48)\" x=\"734.254\" y=\"1494.48\">0.0</text>\n",
       "</g>\n",
       "<g clip-path=\"url(#clip7201)\">\n",
       "<text style=\"fill:#000000; fill-opacity:1; font-family:Arial,Helvetica Neue,Helvetica,sans-serif; font-size:48px; text-anchor:middle;\" transform=\"rotate(0, 911.846, 1494.48)\" x=\"911.846\" y=\"1494.48\">0.5</text>\n",
       "</g>\n",
       "<g clip-path=\"url(#clip7201)\">\n",
       "<text style=\"fill:#000000; fill-opacity:1; font-family:Arial,Helvetica Neue,Helvetica,sans-serif; font-size:48px; text-anchor:middle;\" transform=\"rotate(0, 1089.44, 1494.48)\" x=\"1089.44\" y=\"1494.48\">1.0</text>\n",
       "</g>\n",
       "<g clip-path=\"url(#clip7201)\">\n",
       "<text style=\"fill:#000000; fill-opacity:1; font-family:Arial,Helvetica Neue,Helvetica,sans-serif; font-size:48px; text-anchor:end;\" transform=\"rotate(0, 291.214, 1443.42)\" x=\"291.214\" y=\"1443.42\">0.00</text>\n",
       "</g>\n",
       "<g clip-path=\"url(#clip7201)\">\n",
       "<text style=\"fill:#000000; fill-opacity:1; font-family:Arial,Helvetica Neue,Helvetica,sans-serif; font-size:48px; text-anchor:end;\" transform=\"rotate(0, 291.214, 1343.05)\" x=\"291.214\" y=\"1343.05\">0.05</text>\n",
       "</g>\n",
       "<g clip-path=\"url(#clip7201)\">\n",
       "<text style=\"fill:#000000; fill-opacity:1; font-family:Arial,Helvetica Neue,Helvetica,sans-serif; font-size:48px; text-anchor:end;\" transform=\"rotate(0, 291.214, 1242.68)\" x=\"291.214\" y=\"1242.68\">0.10</text>\n",
       "</g>\n",
       "<g clip-path=\"url(#clip7201)\">\n",
       "<text style=\"fill:#000000; fill-opacity:1; font-family:Arial,Helvetica Neue,Helvetica,sans-serif; font-size:48px; text-anchor:end;\" transform=\"rotate(0, 291.214, 1142.31)\" x=\"291.214\" y=\"1142.31\">0.15</text>\n",
       "</g>\n",
       "<g clip-path=\"url(#clip7201)\">\n",
       "<text style=\"fill:#000000; fill-opacity:1; font-family:Arial,Helvetica Neue,Helvetica,sans-serif; font-size:48px; text-anchor:end;\" transform=\"rotate(0, 291.214, 1041.93)\" x=\"291.214\" y=\"1041.93\">0.20</text>\n",
       "</g>\n",
       "<g clip-path=\"url(#clip7201)\">\n",
       "<text style=\"fill:#000000; fill-opacity:1; font-family:Arial,Helvetica Neue,Helvetica,sans-serif; font-size:84px; text-anchor:middle;\" transform=\"rotate(0, 734.254, 873.2)\" x=\"734.254\" y=\"873.2\">Probability of magnetization</text>\n",
       "</g>\n",
       "<g clip-path=\"url(#clip7201)\">\n",
       "<text style=\"fill:#000000; fill-opacity:1; font-family:Arial,Helvetica Neue,Helvetica,sans-serif; font-size:66px; text-anchor:middle;\" transform=\"rotate(0, 734.254, 1590.4)\" x=\"734.254\" y=\"1590.4\">M/N</text>\n",
       "</g>\n",
       "<g clip-path=\"url(#clip7201)\">\n",
       "<text style=\"fill:#000000; fill-opacity:1; font-family:Arial,Helvetica Neue,Helvetica,sans-serif; font-size:66px; text-anchor:middle;\" transform=\"rotate(-90, 57.6, 1183.23)\" x=\"57.6\" y=\"1183.23\">p(M)</text>\n",
       "</g>\n",
       "<polygon clip-path=\"url(#clip7205)\" points=\"\n",
       "361.31,940.546 361.31,1425.92 396.829,1425.92 396.829,940.546 361.31,940.546 361.31,940.546 \n",
       "  \" fill=\"#009af9\" fill-rule=\"evenodd\" fill-opacity=\"1\"/>\n",
       "<polyline clip-path=\"url(#clip7205)\" style=\"stroke:#000000; stroke-width:4; stroke-opacity:1; fill:none\" points=\"\n",
       "  361.31,940.546 361.31,1425.92 396.829,1425.92 396.829,940.546 361.31,940.546 \n",
       "  \"/>\n",
       "<polygon clip-path=\"url(#clip7205)\" points=\"\n",
       "405.708,1197.38 405.708,1425.92 441.227,1425.92 441.227,1197.38 405.708,1197.38 405.708,1197.38 \n",
       "  \" fill=\"#009af9\" fill-rule=\"evenodd\" fill-opacity=\"1\"/>\n",
       "<polyline clip-path=\"url(#clip7205)\" style=\"stroke:#000000; stroke-width:4; stroke-opacity:1; fill:none\" points=\"\n",
       "  405.708,1197.38 405.708,1425.92 441.227,1425.92 441.227,1197.38 405.708,1197.38 \n",
       "  \"/>\n",
       "<polygon clip-path=\"url(#clip7205)\" points=\"\n",
       "450.106,1310.52 450.106,1425.92 485.625,1425.92 485.625,1310.52 450.106,1310.52 450.106,1310.52 \n",
       "  \" fill=\"#009af9\" fill-rule=\"evenodd\" fill-opacity=\"1\"/>\n",
       "<polyline clip-path=\"url(#clip7205)\" style=\"stroke:#000000; stroke-width:4; stroke-opacity:1; fill:none\" points=\"\n",
       "  450.106,1310.52 450.106,1425.92 485.625,1425.92 485.625,1310.52 450.106,1310.52 \n",
       "  \"/>\n",
       "<polygon clip-path=\"url(#clip7205)\" points=\"\n",
       "494.504,1364.53 494.504,1425.92 530.023,1425.92 530.023,1364.53 494.504,1364.53 494.504,1364.53 \n",
       "  \" fill=\"#009af9\" fill-rule=\"evenodd\" fill-opacity=\"1\"/>\n",
       "<polyline clip-path=\"url(#clip7205)\" style=\"stroke:#000000; stroke-width:4; stroke-opacity:1; fill:none\" points=\"\n",
       "  494.504,1364.53 494.504,1425.92 530.023,1425.92 530.023,1364.53 494.504,1364.53 \n",
       "  \"/>\n",
       "<polygon clip-path=\"url(#clip7205)\" points=\"\n",
       "538.902,1386.96 538.902,1425.92 574.421,1425.92 574.421,1386.96 538.902,1386.96 538.902,1386.96 \n",
       "  \" fill=\"#009af9\" fill-rule=\"evenodd\" fill-opacity=\"1\"/>\n",
       "<polyline clip-path=\"url(#clip7205)\" style=\"stroke:#000000; stroke-width:4; stroke-opacity:1; fill:none\" points=\"\n",
       "  538.902,1386.96 538.902,1425.92 574.421,1425.92 574.421,1386.96 538.902,1386.96 \n",
       "  \"/>\n",
       "<polygon clip-path=\"url(#clip7205)\" points=\"\n",
       "583.3,1399.55 583.3,1425.92 618.819,1425.92 618.819,1399.55 583.3,1399.55 583.3,1399.55 \n",
       "  \" fill=\"#009af9\" fill-rule=\"evenodd\" fill-opacity=\"1\"/>\n",
       "<polyline clip-path=\"url(#clip7205)\" style=\"stroke:#000000; stroke-width:4; stroke-opacity:1; fill:none\" points=\"\n",
       "  583.3,1399.55 583.3,1425.92 618.819,1425.92 618.819,1399.55 583.3,1399.55 \n",
       "  \"/>\n",
       "<polygon clip-path=\"url(#clip7205)\" points=\"\n",
       "627.698,1405.25 627.698,1425.92 663.217,1425.92 663.217,1405.25 627.698,1405.25 627.698,1405.25 \n",
       "  \" fill=\"#009af9\" fill-rule=\"evenodd\" fill-opacity=\"1\"/>\n",
       "<polyline clip-path=\"url(#clip7205)\" style=\"stroke:#000000; stroke-width:4; stroke-opacity:1; fill:none\" points=\"\n",
       "  627.698,1405.25 627.698,1425.92 663.217,1425.92 663.217,1405.25 627.698,1405.25 \n",
       "  \"/>\n",
       "<polygon clip-path=\"url(#clip7205)\" points=\"\n",
       "672.096,1407.96 672.096,1425.92 707.615,1425.92 707.615,1407.96 672.096,1407.96 672.096,1407.96 \n",
       "  \" fill=\"#009af9\" fill-rule=\"evenodd\" fill-opacity=\"1\"/>\n",
       "<polyline clip-path=\"url(#clip7205)\" style=\"stroke:#000000; stroke-width:4; stroke-opacity:1; fill:none\" points=\"\n",
       "  672.096,1407.96 672.096,1425.92 707.615,1425.92 707.615,1407.96 672.096,1407.96 \n",
       "  \"/>\n",
       "<polygon clip-path=\"url(#clip7205)\" points=\"\n",
       "716.494,1407.85 716.494,1425.92 752.013,1425.92 752.013,1407.85 716.494,1407.85 716.494,1407.85 \n",
       "  \" fill=\"#009af9\" fill-rule=\"evenodd\" fill-opacity=\"1\"/>\n",
       "<polyline clip-path=\"url(#clip7205)\" style=\"stroke:#000000; stroke-width:4; stroke-opacity:1; fill:none\" points=\"\n",
       "  716.494,1407.85 716.494,1425.92 752.013,1425.92 752.013,1407.85 716.494,1407.85 \n",
       "  \"/>\n",
       "<polygon clip-path=\"url(#clip7205)\" points=\"\n",
       "760.892,1407.96 760.892,1425.92 796.411,1425.92 796.411,1407.96 760.892,1407.96 760.892,1407.96 \n",
       "  \" fill=\"#009af9\" fill-rule=\"evenodd\" fill-opacity=\"1\"/>\n",
       "<polyline clip-path=\"url(#clip7205)\" style=\"stroke:#000000; stroke-width:4; stroke-opacity:1; fill:none\" points=\"\n",
       "  760.892,1407.96 760.892,1425.92 796.411,1425.92 796.411,1407.96 760.892,1407.96 \n",
       "  \"/>\n",
       "<polygon clip-path=\"url(#clip7205)\" points=\"\n",
       "805.29,1405.25 805.29,1425.92 840.809,1425.92 840.809,1405.25 805.29,1405.25 805.29,1405.25 \n",
       "  \" fill=\"#009af9\" fill-rule=\"evenodd\" fill-opacity=\"1\"/>\n",
       "<polyline clip-path=\"url(#clip7205)\" style=\"stroke:#000000; stroke-width:4; stroke-opacity:1; fill:none\" points=\"\n",
       "  805.29,1405.25 805.29,1425.92 840.809,1425.92 840.809,1405.25 805.29,1405.25 \n",
       "  \"/>\n",
       "<polygon clip-path=\"url(#clip7205)\" points=\"\n",
       "849.688,1399.55 849.688,1425.92 885.207,1425.92 885.207,1399.55 849.688,1399.55 849.688,1399.55 \n",
       "  \" fill=\"#009af9\" fill-rule=\"evenodd\" fill-opacity=\"1\"/>\n",
       "<polyline clip-path=\"url(#clip7205)\" style=\"stroke:#000000; stroke-width:4; stroke-opacity:1; fill:none\" points=\"\n",
       "  849.688,1399.55 849.688,1425.92 885.207,1425.92 885.207,1399.55 849.688,1399.55 \n",
       "  \"/>\n",
       "<polygon clip-path=\"url(#clip7205)\" points=\"\n",
       "894.087,1386.96 894.087,1425.92 929.605,1425.92 929.605,1386.96 894.087,1386.96 894.087,1386.96 \n",
       "  \" fill=\"#009af9\" fill-rule=\"evenodd\" fill-opacity=\"1\"/>\n",
       "<polyline clip-path=\"url(#clip7205)\" style=\"stroke:#000000; stroke-width:4; stroke-opacity:1; fill:none\" points=\"\n",
       "  894.087,1386.96 894.087,1425.92 929.605,1425.92 929.605,1386.96 894.087,1386.96 \n",
       "  \"/>\n",
       "<polygon clip-path=\"url(#clip7205)\" points=\"\n",
       "938.485,1364.53 938.485,1425.92 974.003,1425.92 974.003,1364.53 938.485,1364.53 938.485,1364.53 \n",
       "  \" fill=\"#009af9\" fill-rule=\"evenodd\" fill-opacity=\"1\"/>\n",
       "<polyline clip-path=\"url(#clip7205)\" style=\"stroke:#000000; stroke-width:4; stroke-opacity:1; fill:none\" points=\"\n",
       "  938.485,1364.53 938.485,1425.92 974.003,1425.92 974.003,1364.53 938.485,1364.53 \n",
       "  \"/>\n",
       "<polygon clip-path=\"url(#clip7205)\" points=\"\n",
       "982.883,1310.52 982.883,1425.92 1018.4,1425.92 1018.4,1310.52 982.883,1310.52 982.883,1310.52 \n",
       "  \" fill=\"#009af9\" fill-rule=\"evenodd\" fill-opacity=\"1\"/>\n",
       "<polyline clip-path=\"url(#clip7205)\" style=\"stroke:#000000; stroke-width:4; stroke-opacity:1; fill:none\" points=\"\n",
       "  982.883,1310.52 982.883,1425.92 1018.4,1425.92 1018.4,1310.52 982.883,1310.52 \n",
       "  \"/>\n",
       "<polygon clip-path=\"url(#clip7205)\" points=\"\n",
       "1027.28,1197.38 1027.28,1425.92 1062.8,1425.92 1062.8,1197.38 1027.28,1197.38 1027.28,1197.38 \n",
       "  \" fill=\"#009af9\" fill-rule=\"evenodd\" fill-opacity=\"1\"/>\n",
       "<polyline clip-path=\"url(#clip7205)\" style=\"stroke:#000000; stroke-width:4; stroke-opacity:1; fill:none\" points=\"\n",
       "  1027.28,1197.38 1027.28,1425.92 1062.8,1425.92 1062.8,1197.38 1027.28,1197.38 \n",
       "  \"/>\n",
       "<polygon clip-path=\"url(#clip7205)\" points=\"\n",
       "1071.68,940.546 1071.68,1425.92 1107.2,1425.92 1107.2,940.546 1071.68,940.546 1071.68,940.546 \n",
       "  \" fill=\"#009af9\" fill-rule=\"evenodd\" fill-opacity=\"1\"/>\n",
       "<polyline clip-path=\"url(#clip7205)\" style=\"stroke:#000000; stroke-width:4; stroke-opacity:1; fill:none\" points=\"\n",
       "  1071.68,940.546 1071.68,1425.92 1107.2,1425.92 1107.2,940.546 1071.68,940.546 \n",
       "  \"/>\n",
       "<polygon clip-path=\"url(#clip7201)\" points=\"\n",
       "1483.18,1440.48 2321.26,1440.48 2321.26,925.984 1483.18,925.984 \n",
       "  \" fill=\"#ffffff\" fill-rule=\"evenodd\" fill-opacity=\"1\"/>\n",
       "<defs>\n",
       "  <clipPath id=\"clip7206\">\n",
       "    <rect x=\"1483\" y=\"925\" width=\"839\" height=\"515\"/>\n",
       "  </clipPath>\n",
       "</defs>\n",
       "<polyline clip-path=\"url(#clip7206)\" style=\"stroke:#000000; stroke-width:2; stroke-opacity:0.1; fill:none\" points=\"\n",
       "  1483.18,1440.48 1483.18,925.984 \n",
       "  \"/>\n",
       "<polyline clip-path=\"url(#clip7206)\" style=\"stroke:#000000; stroke-width:2; stroke-opacity:0.1; fill:none\" points=\"\n",
       "  1692.7,1440.48 1692.7,925.984 \n",
       "  \"/>\n",
       "<polyline clip-path=\"url(#clip7206)\" style=\"stroke:#000000; stroke-width:2; stroke-opacity:0.1; fill:none\" points=\"\n",
       "  1902.22,1440.48 1902.22,925.984 \n",
       "  \"/>\n",
       "<polyline clip-path=\"url(#clip7206)\" style=\"stroke:#000000; stroke-width:2; stroke-opacity:0.1; fill:none\" points=\"\n",
       "  2111.74,1440.48 2111.74,925.984 \n",
       "  \"/>\n",
       "<polyline clip-path=\"url(#clip7206)\" style=\"stroke:#000000; stroke-width:2; stroke-opacity:0.1; fill:none\" points=\"\n",
       "  2321.26,1440.48 2321.26,925.984 \n",
       "  \"/>\n",
       "<polyline clip-path=\"url(#clip7206)\" style=\"stroke:#000000; stroke-width:2; stroke-opacity:0.1; fill:none\" points=\"\n",
       "  1483.18,1425.92 2321.26,1425.92 \n",
       "  \"/>\n",
       "<polyline clip-path=\"url(#clip7206)\" style=\"stroke:#000000; stroke-width:2; stroke-opacity:0.1; fill:none\" points=\"\n",
       "  1483.18,1302.34 2321.26,1302.34 \n",
       "  \"/>\n",
       "<polyline clip-path=\"url(#clip7206)\" style=\"stroke:#000000; stroke-width:2; stroke-opacity:0.1; fill:none\" points=\"\n",
       "  1483.18,1178.76 2321.26,1178.76 \n",
       "  \"/>\n",
       "<polyline clip-path=\"url(#clip7206)\" style=\"stroke:#000000; stroke-width:2; stroke-opacity:0.1; fill:none\" points=\"\n",
       "  1483.18,1055.18 2321.26,1055.18 \n",
       "  \"/>\n",
       "<polyline clip-path=\"url(#clip7206)\" style=\"stroke:#000000; stroke-width:2; stroke-opacity:0.1; fill:none\" points=\"\n",
       "  1483.18,931.6 2321.26,931.6 \n",
       "  \"/>\n",
       "<polyline clip-path=\"url(#clip7201)\" style=\"stroke:#000000; stroke-width:4; stroke-opacity:1; fill:none\" points=\"\n",
       "  1483.18,1440.48 2321.26,1440.48 \n",
       "  \"/>\n",
       "<polyline clip-path=\"url(#clip7201)\" style=\"stroke:#000000; stroke-width:4; stroke-opacity:1; fill:none\" points=\"\n",
       "  1483.18,1440.48 1483.18,925.984 \n",
       "  \"/>\n",
       "<polyline clip-path=\"url(#clip7201)\" style=\"stroke:#000000; stroke-width:4; stroke-opacity:1; fill:none\" points=\"\n",
       "  1483.18,1440.48 1483.18,1432.77 \n",
       "  \"/>\n",
       "<polyline clip-path=\"url(#clip7201)\" style=\"stroke:#000000; stroke-width:4; stroke-opacity:1; fill:none\" points=\"\n",
       "  1692.7,1440.48 1692.7,1432.77 \n",
       "  \"/>\n",
       "<polyline clip-path=\"url(#clip7201)\" style=\"stroke:#000000; stroke-width:4; stroke-opacity:1; fill:none\" points=\"\n",
       "  1902.22,1440.48 1902.22,1432.77 \n",
       "  \"/>\n",
       "<polyline clip-path=\"url(#clip7201)\" style=\"stroke:#000000; stroke-width:4; stroke-opacity:1; fill:none\" points=\"\n",
       "  2111.74,1440.48 2111.74,1432.77 \n",
       "  \"/>\n",
       "<polyline clip-path=\"url(#clip7201)\" style=\"stroke:#000000; stroke-width:4; stroke-opacity:1; fill:none\" points=\"\n",
       "  2321.26,1440.48 2321.26,1432.77 \n",
       "  \"/>\n",
       "<polyline clip-path=\"url(#clip7201)\" style=\"stroke:#000000; stroke-width:4; stroke-opacity:1; fill:none\" points=\"\n",
       "  1483.18,1425.92 1495.75,1425.92 \n",
       "  \"/>\n",
       "<polyline clip-path=\"url(#clip7201)\" style=\"stroke:#000000; stroke-width:4; stroke-opacity:1; fill:none\" points=\"\n",
       "  1483.18,1302.34 1495.75,1302.34 \n",
       "  \"/>\n",
       "<polyline clip-path=\"url(#clip7201)\" style=\"stroke:#000000; stroke-width:4; stroke-opacity:1; fill:none\" points=\"\n",
       "  1483.18,1178.76 1495.75,1178.76 \n",
       "  \"/>\n",
       "<polyline clip-path=\"url(#clip7201)\" style=\"stroke:#000000; stroke-width:4; stroke-opacity:1; fill:none\" points=\"\n",
       "  1483.18,1055.18 1495.75,1055.18 \n",
       "  \"/>\n",
       "<polyline clip-path=\"url(#clip7201)\" style=\"stroke:#000000; stroke-width:4; stroke-opacity:1; fill:none\" points=\"\n",
       "  1483.18,931.6 1495.75,931.6 \n",
       "  \"/>\n",
       "<g clip-path=\"url(#clip7201)\">\n",
       "<text style=\"fill:#000000; fill-opacity:1; font-family:Arial,Helvetica Neue,Helvetica,sans-serif; font-size:48px; text-anchor:middle;\" transform=\"rotate(0, 1483.18, 1494.48)\" x=\"1483.18\" y=\"1494.48\">-1.0</text>\n",
       "</g>\n",
       "<g clip-path=\"url(#clip7201)\">\n",
       "<text style=\"fill:#000000; fill-opacity:1; font-family:Arial,Helvetica Neue,Helvetica,sans-serif; font-size:48px; text-anchor:middle;\" transform=\"rotate(0, 1692.7, 1494.48)\" x=\"1692.7\" y=\"1494.48\">-0.5</text>\n",
       "</g>\n",
       "<g clip-path=\"url(#clip7201)\">\n",
       "<text style=\"fill:#000000; fill-opacity:1; font-family:Arial,Helvetica Neue,Helvetica,sans-serif; font-size:48px; text-anchor:middle;\" transform=\"rotate(0, 1902.22, 1494.48)\" x=\"1902.22\" y=\"1494.48\">0.0</text>\n",
       "</g>\n",
       "<g clip-path=\"url(#clip7201)\">\n",
       "<text style=\"fill:#000000; fill-opacity:1; font-family:Arial,Helvetica Neue,Helvetica,sans-serif; font-size:48px; text-anchor:middle;\" transform=\"rotate(0, 2111.74, 1494.48)\" x=\"2111.74\" y=\"1494.48\">0.5</text>\n",
       "</g>\n",
       "<g clip-path=\"url(#clip7201)\">\n",
       "<text style=\"fill:#000000; fill-opacity:1; font-family:Arial,Helvetica Neue,Helvetica,sans-serif; font-size:48px; text-anchor:middle;\" transform=\"rotate(0, 2321.26, 1494.48)\" x=\"2321.26\" y=\"1494.48\">1.0</text>\n",
       "</g>\n",
       "<g clip-path=\"url(#clip7201)\">\n",
       "<text style=\"fill:#000000; fill-opacity:1; font-family:Arial,Helvetica Neue,Helvetica,sans-serif; font-size:48px; text-anchor:end;\" transform=\"rotate(0, 1459.18, 1443.42)\" x=\"1459.18\" y=\"1443.42\">0.00</text>\n",
       "</g>\n",
       "<g clip-path=\"url(#clip7201)\">\n",
       "<text style=\"fill:#000000; fill-opacity:1; font-family:Arial,Helvetica Neue,Helvetica,sans-serif; font-size:48px; text-anchor:end;\" transform=\"rotate(0, 1459.18, 1319.84)\" x=\"1459.18\" y=\"1319.84\">0.05</text>\n",
       "</g>\n",
       "<g clip-path=\"url(#clip7201)\">\n",
       "<text style=\"fill:#000000; fill-opacity:1; font-family:Arial,Helvetica Neue,Helvetica,sans-serif; font-size:48px; text-anchor:end;\" transform=\"rotate(0, 1459.18, 1196.26)\" x=\"1459.18\" y=\"1196.26\">0.10</text>\n",
       "</g>\n",
       "<g clip-path=\"url(#clip7201)\">\n",
       "<text style=\"fill:#000000; fill-opacity:1; font-family:Arial,Helvetica Neue,Helvetica,sans-serif; font-size:48px; text-anchor:end;\" transform=\"rotate(0, 1459.18, 1072.68)\" x=\"1459.18\" y=\"1072.68\">0.15</text>\n",
       "</g>\n",
       "<g clip-path=\"url(#clip7201)\">\n",
       "<text style=\"fill:#000000; fill-opacity:1; font-family:Arial,Helvetica Neue,Helvetica,sans-serif; font-size:48px; text-anchor:end;\" transform=\"rotate(0, 1459.18, 949.1)\" x=\"1459.18\" y=\"949.1\">0.20</text>\n",
       "</g>\n",
       "<g clip-path=\"url(#clip7201)\">\n",
       "<text style=\"fill:#000000; fill-opacity:1; font-family:Arial,Helvetica Neue,Helvetica,sans-serif; font-size:84px; text-anchor:middle;\" transform=\"rotate(0, 1902.22, 873.2)\" x=\"1902.22\" y=\"873.2\">Density of states</text>\n",
       "</g>\n",
       "<g clip-path=\"url(#clip7201)\">\n",
       "<text style=\"fill:#000000; fill-opacity:1; font-family:Arial,Helvetica Neue,Helvetica,sans-serif; font-size:66px; text-anchor:middle;\" transform=\"rotate(0, 1902.22, 1590.4)\" x=\"1902.22\" y=\"1590.4\">M/N</text>\n",
       "</g>\n",
       "<g clip-path=\"url(#clip7201)\">\n",
       "<text style=\"fill:#000000; fill-opacity:1; font-family:Arial,Helvetica Neue,Helvetica,sans-serif; font-size:66px; text-anchor:middle;\" transform=\"rotate(-90, 1289.63, 1183.23)\" x=\"1289.63\" y=\"1183.23\">D(M)</text>\n",
       "</g>\n",
       "<polygon clip-path=\"url(#clip7206)\" points=\"\n",
       "1462.23,1425.88 1462.23,1425.92 1504.13,1425.92 1504.13,1425.88 1462.23,1425.88 1462.23,1425.88 \n",
       "  \" fill=\"#009af9\" fill-rule=\"evenodd\" fill-opacity=\"1\"/>\n",
       "<polyline clip-path=\"url(#clip7206)\" style=\"stroke:#000000; stroke-width:4; stroke-opacity:1; fill:none\" points=\"\n",
       "  1462.23,1425.88 1462.23,1425.92 1504.13,1425.92 1504.13,1425.88 1462.23,1425.88 \n",
       "  \"/>\n",
       "<polygon clip-path=\"url(#clip7206)\" points=\"\n",
       "1514.61,1425.32 1514.61,1425.92 1556.51,1425.92 1556.51,1425.32 1514.61,1425.32 1514.61,1425.32 \n",
       "  \" fill=\"#009af9\" fill-rule=\"evenodd\" fill-opacity=\"1\"/>\n",
       "<polyline clip-path=\"url(#clip7206)\" style=\"stroke:#000000; stroke-width:4; stroke-opacity:1; fill:none\" points=\"\n",
       "  1514.61,1425.32 1514.61,1425.92 1556.51,1425.92 1556.51,1425.32 1514.61,1425.32 \n",
       "  \"/>\n",
       "<polygon clip-path=\"url(#clip7206)\" points=\"\n",
       "1566.99,1421.4 1566.99,1425.92 1608.89,1425.92 1608.89,1421.4 1566.99,1421.4 1566.99,1421.4 \n",
       "  \" fill=\"#009af9\" fill-rule=\"evenodd\" fill-opacity=\"1\"/>\n",
       "<polyline clip-path=\"url(#clip7206)\" style=\"stroke:#000000; stroke-width:4; stroke-opacity:1; fill:none\" points=\"\n",
       "  1566.99,1421.4 1566.99,1425.92 1608.89,1425.92 1608.89,1421.4 1566.99,1421.4 \n",
       "  \"/>\n",
       "<polygon clip-path=\"url(#clip7206)\" points=\"\n",
       "1619.37,1404.8 1619.37,1425.92 1661.27,1425.92 1661.27,1404.8 1619.37,1404.8 1619.37,1404.8 \n",
       "  \" fill=\"#009af9\" fill-rule=\"evenodd\" fill-opacity=\"1\"/>\n",
       "<polyline clip-path=\"url(#clip7206)\" style=\"stroke:#000000; stroke-width:4; stroke-opacity:1; fill:none\" points=\"\n",
       "  1619.37,1404.8 1619.37,1425.92 1661.27,1425.92 1661.27,1404.8 1619.37,1404.8 \n",
       "  \"/>\n",
       "<polygon clip-path=\"url(#clip7206)\" points=\"\n",
       "1671.75,1357.28 1671.75,1425.92 1713.65,1425.92 1713.65,1357.28 1671.75,1357.28 1671.75,1357.28 \n",
       "  \" fill=\"#009af9\" fill-rule=\"evenodd\" fill-opacity=\"1\"/>\n",
       "<polyline clip-path=\"url(#clip7206)\" style=\"stroke:#000000; stroke-width:4; stroke-opacity:1; fill:none\" points=\"\n",
       "  1671.75,1357.28 1671.75,1425.92 1713.65,1425.92 1713.65,1357.28 1671.75,1357.28 \n",
       "  \"/>\n",
       "<polygon clip-path=\"url(#clip7206)\" points=\"\n",
       "1724.13,1261.19 1724.13,1425.92 1766.03,1425.92 1766.03,1261.19 1724.13,1261.19 1724.13,1261.19 \n",
       "  \" fill=\"#009af9\" fill-rule=\"evenodd\" fill-opacity=\"1\"/>\n",
       "<polyline clip-path=\"url(#clip7206)\" style=\"stroke:#000000; stroke-width:4; stroke-opacity:1; fill:none\" points=\"\n",
       "  1724.13,1261.19 1724.13,1425.92 1766.03,1425.92 1766.03,1261.19 1724.13,1261.19 \n",
       "  \"/>\n",
       "<polygon clip-path=\"url(#clip7206)\" points=\"\n",
       "1776.51,1123.91 1776.51,1425.92 1818.41,1425.92 1818.41,1123.91 1776.51,1123.91 1776.51,1123.91 \n",
       "  \" fill=\"#009af9\" fill-rule=\"evenodd\" fill-opacity=\"1\"/>\n",
       "<polyline clip-path=\"url(#clip7206)\" style=\"stroke:#000000; stroke-width:4; stroke-opacity:1; fill:none\" points=\"\n",
       "  1776.51,1123.91 1776.51,1425.92 1818.41,1425.92 1818.41,1123.91 1776.51,1123.91 \n",
       "  \"/>\n",
       "<polygon clip-path=\"url(#clip7206)\" points=\"\n",
       "1828.89,994.476 1828.89,1425.92 1870.79,1425.92 1870.79,994.476 1828.89,994.476 1828.89,994.476 \n",
       "  \" fill=\"#009af9\" fill-rule=\"evenodd\" fill-opacity=\"1\"/>\n",
       "<polyline clip-path=\"url(#clip7206)\" style=\"stroke:#000000; stroke-width:4; stroke-opacity:1; fill:none\" points=\"\n",
       "  1828.89,994.476 1828.89,1425.92 1870.79,1425.92 1870.79,994.476 1828.89,994.476 \n",
       "  \"/>\n",
       "<polygon clip-path=\"url(#clip7206)\" points=\"\n",
       "1881.27,940.546 1881.27,1425.92 1923.17,1425.92 1923.17,940.546 1881.27,940.546 1881.27,940.546 \n",
       "  \" fill=\"#009af9\" fill-rule=\"evenodd\" fill-opacity=\"1\"/>\n",
       "<polyline clip-path=\"url(#clip7206)\" style=\"stroke:#000000; stroke-width:4; stroke-opacity:1; fill:none\" points=\"\n",
       "  1881.27,940.546 1881.27,1425.92 1923.17,1425.92 1923.17,940.546 1881.27,940.546 \n",
       "  \"/>\n",
       "<polygon clip-path=\"url(#clip7206)\" points=\"\n",
       "1933.65,994.476 1933.65,1425.92 1975.55,1425.92 1975.55,994.476 1933.65,994.476 1933.65,994.476 \n",
       "  \" fill=\"#009af9\" fill-rule=\"evenodd\" fill-opacity=\"1\"/>\n",
       "<polyline clip-path=\"url(#clip7206)\" style=\"stroke:#000000; stroke-width:4; stroke-opacity:1; fill:none\" points=\"\n",
       "  1933.65,994.476 1933.65,1425.92 1975.55,1425.92 1975.55,994.476 1933.65,994.476 \n",
       "  \"/>\n",
       "<polygon clip-path=\"url(#clip7206)\" points=\"\n",
       "1986.03,1123.91 1986.03,1425.92 2027.93,1425.92 2027.93,1123.91 1986.03,1123.91 1986.03,1123.91 \n",
       "  \" fill=\"#009af9\" fill-rule=\"evenodd\" fill-opacity=\"1\"/>\n",
       "<polyline clip-path=\"url(#clip7206)\" style=\"stroke:#000000; stroke-width:4; stroke-opacity:1; fill:none\" points=\"\n",
       "  1986.03,1123.91 1986.03,1425.92 2027.93,1425.92 2027.93,1123.91 1986.03,1123.91 \n",
       "  \"/>\n",
       "<polygon clip-path=\"url(#clip7206)\" points=\"\n",
       "2038.41,1261.19 2038.41,1425.92 2080.31,1425.92 2080.31,1261.19 2038.41,1261.19 2038.41,1261.19 \n",
       "  \" fill=\"#009af9\" fill-rule=\"evenodd\" fill-opacity=\"1\"/>\n",
       "<polyline clip-path=\"url(#clip7206)\" style=\"stroke:#000000; stroke-width:4; stroke-opacity:1; fill:none\" points=\"\n",
       "  2038.41,1261.19 2038.41,1425.92 2080.31,1425.92 2080.31,1261.19 2038.41,1261.19 \n",
       "  \"/>\n",
       "<polygon clip-path=\"url(#clip7206)\" points=\"\n",
       "2090.79,1357.28 2090.79,1425.92 2132.69,1425.92 2132.69,1357.28 2090.79,1357.28 2090.79,1357.28 \n",
       "  \" fill=\"#009af9\" fill-rule=\"evenodd\" fill-opacity=\"1\"/>\n",
       "<polyline clip-path=\"url(#clip7206)\" style=\"stroke:#000000; stroke-width:4; stroke-opacity:1; fill:none\" points=\"\n",
       "  2090.79,1357.28 2090.79,1425.92 2132.69,1425.92 2132.69,1357.28 2090.79,1357.28 \n",
       "  \"/>\n",
       "<polygon clip-path=\"url(#clip7206)\" points=\"\n",
       "2143.17,1404.8 2143.17,1425.92 2185.07,1425.92 2185.07,1404.8 2143.17,1404.8 2143.17,1404.8 \n",
       "  \" fill=\"#009af9\" fill-rule=\"evenodd\" fill-opacity=\"1\"/>\n",
       "<polyline clip-path=\"url(#clip7206)\" style=\"stroke:#000000; stroke-width:4; stroke-opacity:1; fill:none\" points=\"\n",
       "  2143.17,1404.8 2143.17,1425.92 2185.07,1425.92 2185.07,1404.8 2143.17,1404.8 \n",
       "  \"/>\n",
       "<polygon clip-path=\"url(#clip7206)\" points=\"\n",
       "2195.55,1421.4 2195.55,1425.92 2237.45,1425.92 2237.45,1421.4 2195.55,1421.4 2195.55,1421.4 \n",
       "  \" fill=\"#009af9\" fill-rule=\"evenodd\" fill-opacity=\"1\"/>\n",
       "<polyline clip-path=\"url(#clip7206)\" style=\"stroke:#000000; stroke-width:4; stroke-opacity:1; fill:none\" points=\"\n",
       "  2195.55,1421.4 2195.55,1425.92 2237.45,1425.92 2237.45,1421.4 2195.55,1421.4 \n",
       "  \"/>\n",
       "<polygon clip-path=\"url(#clip7206)\" points=\"\n",
       "2247.93,1425.32 2247.93,1425.92 2289.83,1425.92 2289.83,1425.32 2247.93,1425.32 2247.93,1425.32 \n",
       "  \" fill=\"#009af9\" fill-rule=\"evenodd\" fill-opacity=\"1\"/>\n",
       "<polyline clip-path=\"url(#clip7206)\" style=\"stroke:#000000; stroke-width:4; stroke-opacity:1; fill:none\" points=\"\n",
       "  2247.93,1425.32 2247.93,1425.92 2289.83,1425.92 2289.83,1425.32 2247.93,1425.32 \n",
       "  \"/>\n",
       "<polygon clip-path=\"url(#clip7206)\" points=\"\n",
       "2300.31,1425.88 2300.31,1425.92 2342.21,1425.92 2342.21,1425.88 2300.31,1425.88 2300.31,1425.88 \n",
       "  \" fill=\"#009af9\" fill-rule=\"evenodd\" fill-opacity=\"1\"/>\n",
       "<polyline clip-path=\"url(#clip7206)\" style=\"stroke:#000000; stroke-width:4; stroke-opacity:1; fill:none\" points=\"\n",
       "  2300.31,1425.88 2300.31,1425.92 2342.21,1425.92 2342.21,1425.88 2300.31,1425.88 \n",
       "  \"/>\n",
       "</svg>\n"
      ]
     },
     "execution_count": 47,
     "metadata": {},
     "output_type": "execute_result"
    }
   ],
   "source": [
    "let Lx = 4, Ly = 4, T = 2.269, Jx = 1.0, Jy = 1.0, h = 0.0\n",
    "    N = Lx * Ly\n",
    "    @time P, Ms, Z = ising_pd_2D_PBC(Lx,Ly,h,Jx,Jy,1/T)\n",
    "    \n",
    "    #Sort the configurations by probability\n",
    "    srt = sortperm(P, rev=true)\n",
    "    P = P[srt]\n",
    "    Ms = Ms[srt]\n",
    "    \n",
    "    @show sum(P)\n",
    "    Ws = P * Z\n",
    "    Es = -log.(Ws) * T\n",
    "    \n",
    "    Es_unique = sort(unique(Es))\n",
    "    \n",
    "    PE = zeros(length(Es_unique))\n",
    "    for j in 1:length(Es_unique)\n",
    "        PE[j] = sum(P[Es .== Es_unique[j]])\n",
    "    end\n",
    "    \n",
    "    p_pE = bar(\n",
    "        Es_unique/N, PE,\n",
    "        title=\"Probability of energy\",\n",
    "        xlabel=\"E/N\", ylabel=\"p(E)\",\n",
    "        yscale=:log10\n",
    "    )\n",
    "    \n",
    "    \n",
    "    D = zeros(length(Es_unique))\n",
    "    for j in 1:length(Es_unique)\n",
    "        D[j] = count(Es .== Es_unique[j]) / length(Es)\n",
    "    end\n",
    "\n",
    "    p_D = bar(\n",
    "        Es_unique / N, D,\n",
    "        title=\"Density of states\",\n",
    "        xlabel=\"E/N\", ylabel=\"D(E)\"\n",
    "    )\n",
    "    \n",
    "\n",
    "    Ms_unique = sort(unique(Ms))\n",
    "    PM = zeros(length(Ms_unique))\n",
    "    for j in 1:length(Ms_unique)\n",
    "        PM[j] = sum(P[Ms .== Ms_unique[j]])\n",
    "    end\n",
    "\n",
    "    p_pM = bar(\n",
    "        Ms_unique, PM,\n",
    "        title=\"Probability of magnetization\",\n",
    "        xlabel=\"M/N\", ylabel=\"p(M)\"\n",
    "    )\n",
    "    \n",
    "    \n",
    "    DM = zeros(length(Ms_unique))\n",
    "    for j in 1:length(Ms_unique)\n",
    "        DM[j] = count(Ms .== Ms_unique[j]) / length(Ms)\n",
    "    end\n",
    "    \n",
    "    p_DM = bar(\n",
    "        Ms_unique, DM,\n",
    "        title=\"Density of states\",\n",
    "        xlabel=\"M/N\", ylabel=\"D(M)\",\n",
    "        xlim=(-1,+1)\n",
    "    )\n",
    "    \n",
    "    plot(p_pE, p_D, p_pM, p_DM, legend=false)\n",
    "end"
   ]
  }
 ],
 "metadata": {
  "@webio": {
   "lastCommId": null,
   "lastKernelId": null
  },
  "anaconda-cloud": {},
  "kernelspec": {
   "display_name": "Julia 1.1.0",
   "language": "julia",
   "name": "julia-1.1"
  },
  "language_info": {
   "file_extension": ".jl",
   "mimetype": "application/julia",
   "name": "julia",
   "version": "1.1.0"
  }
 },
 "nbformat": 4,
 "nbformat_minor": 1
}
