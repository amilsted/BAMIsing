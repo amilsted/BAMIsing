{
 "cells": [
  {
   "cell_type": "code",
   "execution_count": 2,
   "metadata": {
    "collapsed": true
   },
   "outputs": [],
   "source": [
    "using PyPlot"
   ]
  },
  {
   "cell_type": "markdown",
   "metadata": {},
   "source": [
    "# Evaluating the 2D Ising model partition function"
   ]
  },
  {
   "cell_type": "markdown",
   "metadata": {},
   "source": [
    "## Labelling configurations\n",
    "\n",
    "To sum over all $2^N$ configurations of $N$ spins we need to somehow enumerate them. One way of assigning integers to configurations is simply to choose an ordering of the spins, which immediately gives us a binary integer.\n",
    "\n",
    "We can slightly abuse Julia's BitArray for this purpose. BitArrays are arrays of bits stored in memory as a series of 64-bit unsigned integers, as we can confirm by looking at the source https://github.com/JuliaLang/julia/blob/v0.6.0/base/bitarray.jl. If we restrict ourselves to $N \\le 64$ we can enumerate configurations by incrementing the integer used as storage for the BitArray."
   ]
  },
  {
   "cell_type": "code",
   "execution_count": 3,
   "metadata": {},
   "outputs": [
    {
     "data": {
      "text/plain": [
       "8×8 BitArray{2}:\n",
       " false  false  false  false  false  false  false  false\n",
       " false  false  false  false  false  false  false  false\n",
       " false  false  false  false  false  false  false  false\n",
       " false  false  false  false  false  false  false  false\n",
       " false  false  false  false  false  false  false  false\n",
       " false  false  false  false  false  false  false  false\n",
       " false  false  false  false  false  false  false  false\n",
       " false  false  false  false  false  false  false  false"
      ]
     },
     "execution_count": 3,
     "metadata": {},
     "output_type": "execute_result"
    }
   ],
   "source": [
    "ba = BitArray(8,8)"
   ]
  },
  {
   "cell_type": "markdown",
   "metadata": {},
   "source": [
    "The integers are stored in a field called \"chunks\". Since we asked for an array with 64 bits, only one chunk is used."
   ]
  },
  {
   "cell_type": "code",
   "execution_count": 4,
   "metadata": {},
   "outputs": [
    {
     "data": {
      "text/plain": [
       "(1,)"
      ]
     },
     "execution_count": 4,
     "metadata": {},
     "output_type": "execute_result"
    }
   ],
   "source": [
    "size(ba.chunks)"
   ]
  },
  {
   "cell_type": "markdown",
   "metadata": {},
   "source": [
    "It has the initial value 0."
   ]
  },
  {
   "cell_type": "code",
   "execution_count": 5,
   "metadata": {},
   "outputs": [
    {
     "data": {
      "text/plain": [
       "0x0000000000000000"
      ]
     },
     "execution_count": 5,
     "metadata": {},
     "output_type": "execute_result"
    }
   ],
   "source": [
    "ba.chunks[1]"
   ]
  },
  {
   "cell_type": "markdown",
   "metadata": {},
   "source": [
    "Let's print out the first few configurations!"
   ]
  },
  {
   "cell_type": "code",
   "execution_count": 6,
   "metadata": {},
   "outputs": [
    {
     "data": {
      "text/plain": [
       "8×8 BitArray{2}:\n",
       "  true  false  false  false  false  false  false  false\n",
       " false  false  false  false  false  false  false  false\n",
       " false  false  false  false  false  false  false  false\n",
       " false  false  false  false  false  false  false  false\n",
       " false  false  false  false  false  false  false  false\n",
       " false  false  false  false  false  false  false  false\n",
       " false  false  false  false  false  false  false  false\n",
       " false  false  false  false  false  false  false  false"
      ]
     },
     "execution_count": 6,
     "metadata": {},
     "output_type": "execute_result"
    }
   ],
   "source": [
    "ba.chunks[1] = 1\n",
    "ba"
   ]
  },
  {
   "cell_type": "code",
   "execution_count": 7,
   "metadata": {},
   "outputs": [
    {
     "data": {
      "text/plain": [
       "8×8 BitArray{2}:\n",
       " false  false  false  false  false  false  false  false\n",
       "  true  false  false  false  false  false  false  false\n",
       " false  false  false  false  false  false  false  false\n",
       " false  false  false  false  false  false  false  false\n",
       " false  false  false  false  false  false  false  false\n",
       " false  false  false  false  false  false  false  false\n",
       " false  false  false  false  false  false  false  false\n",
       " false  false  false  false  false  false  false  false"
      ]
     },
     "execution_count": 7,
     "metadata": {},
     "output_type": "execute_result"
    }
   ],
   "source": [
    "ba.chunks[1] = 2\n",
    "ba"
   ]
  },
  {
   "cell_type": "code",
   "execution_count": 8,
   "metadata": {},
   "outputs": [
    {
     "data": {
      "text/plain": [
       "8×8 BitArray{2}:\n",
       "  true  false  false  false  false  false  false  false\n",
       "  true  false  false  false  false  false  false  false\n",
       " false  false  false  false  false  false  false  false\n",
       " false  false  false  false  false  false  false  false\n",
       " false  false  false  false  false  false  false  false\n",
       " false  false  false  false  false  false  false  false\n",
       " false  false  false  false  false  false  false  false\n",
       " false  false  false  false  false  false  false  false"
      ]
     },
     "execution_count": 8,
     "metadata": {},
     "output_type": "execute_result"
    }
   ],
   "source": [
    "ba.chunks[1] = 3\n",
    "ba"
   ]
  },
  {
   "cell_type": "code",
   "execution_count": 9,
   "metadata": {},
   "outputs": [
    {
     "data": {
      "text/plain": [
       "8×8 BitArray{2}:\n",
       " false  false  false  false  false  false  false  false\n",
       " false  false  false  false  false  false  false  false\n",
       "  true  false  false  false  false  false  false  false\n",
       " false  false  false  false  false  false  false  false\n",
       " false  false  false  false  false  false  false  false\n",
       " false  false  false  false  false  false  false  false\n",
       " false  false  false  false  false  false  false  false\n",
       " false  false  false  false  false  false  false  false"
      ]
     },
     "execution_count": 9,
     "metadata": {},
     "output_type": "execute_result"
    }
   ],
   "source": [
    "ba.chunks[1] = 4\n",
    "ba"
   ]
  },
  {
   "cell_type": "markdown",
   "metadata": {},
   "source": [
    "## Summing over configurations"
   ]
  },
  {
   "cell_type": "markdown",
   "metadata": {},
   "source": [
    "To evaluate the partition function exactly we must sum over all configurations.\n",
    "There are quite a few configurations of an 8x8 array of spins."
   ]
  },
  {
   "cell_type": "code",
   "execution_count": 10,
   "metadata": {},
   "outputs": [
    {
     "data": {
      "text/plain": [
       "1.8446744073709552e19"
      ]
     },
     "execution_count": 10,
     "metadata": {},
     "output_type": "execute_result"
    }
   ],
   "source": [
    "2.0^64"
   ]
  },
  {
   "cell_type": "markdown",
   "metadata": {},
   "source": [
    "We will need to work with fewer if we want our sums to complete in a reasonable time. How about 25?"
   ]
  },
  {
   "cell_type": "code",
   "execution_count": 11,
   "metadata": {},
   "outputs": [
    {
     "data": {
      "text/plain": [
       "33554432"
      ]
     },
     "execution_count": 11,
     "metadata": {},
     "output_type": "execute_result"
    }
   ],
   "source": [
    "2^(5^2)"
   ]
  },
  {
   "cell_type": "markdown",
   "metadata": {},
   "source": [
    "Much better. "
   ]
  },
  {
   "cell_type": "code",
   "execution_count": 12,
   "metadata": {},
   "outputs": [
    {
     "data": {
      "text/plain": [
       "5×5 BitArray{2}:\n",
       " false  false  false  false  false\n",
       " false  false  false  false  false\n",
       " false  false  false  false  false\n",
       " false  false  false  false  false\n",
       " false  false  false  false  false"
      ]
     },
     "execution_count": 12,
     "metadata": {},
     "output_type": "execute_result"
    }
   ],
   "source": [
    "ba_sm = BitArray(5,5)"
   ]
  },
  {
   "cell_type": "code",
   "execution_count": 13,
   "metadata": {},
   "outputs": [
    {
     "data": {
      "text/plain": [
       "33554431"
      ]
     },
     "execution_count": 13,
     "metadata": {},
     "output_type": "execute_result"
    }
   ],
   "source": [
    "ba_sm.chunks[1] = 2^25-1"
   ]
  },
  {
   "cell_type": "code",
   "execution_count": 14,
   "metadata": {},
   "outputs": [
    {
     "data": {
      "text/plain": [
       "5×5 BitArray{2}:\n",
       " true  true  true  true  true\n",
       " true  true  true  true  true\n",
       " true  true  true  true  true\n",
       " true  true  true  true  true\n",
       " true  true  true  true  true"
      ]
     },
     "execution_count": 14,
     "metadata": {},
     "output_type": "execute_result"
    }
   ],
   "source": [
    "ba_sm"
   ]
  },
  {
   "cell_type": "markdown",
   "metadata": {},
   "source": [
    "## Computing weights"
   ]
  },
  {
   "cell_type": "markdown",
   "metadata": {},
   "source": [
    "Now, how to evaluate the weight of a configuration? Let's write a funcion that takes a configuration in the form of a BitArray and returns the weight."
   ]
  },
  {
   "cell_type": "code",
   "execution_count": 15,
   "metadata": {},
   "outputs": [
    {
     "data": {
      "text/plain": [
       "spin (generic function with 1 method)"
      ]
     },
     "execution_count": 15,
     "metadata": {},
     "output_type": "execute_result"
    }
   ],
   "source": [
    "spin(b::Bool) = Float64(2 * b - 1)"
   ]
  },
  {
   "cell_type": "code",
   "execution_count": 59,
   "metadata": {},
   "outputs": [
    {
     "name": "stdout",
     "output_type": "stream",
     "text": [
      "  0.000012 seconds (5 allocations: 176 bytes)\n"
     ]
    },
    {
     "data": {
      "text/plain": [
       "1.0"
      ]
     },
     "execution_count": 59,
     "metadata": {},
     "output_type": "execute_result"
    }
   ],
   "source": [
    "@time spin(true)"
   ]
  },
  {
   "cell_type": "code",
   "execution_count": 130,
   "metadata": {},
   "outputs": [
    {
     "name": "stdout",
     "output_type": "stream",
     "text": [
      "  0.000005 seconds (5 allocations: 176 bytes)\n"
     ]
    },
    {
     "data": {
      "text/plain": [
       "-1.0"
      ]
     },
     "execution_count": 130,
     "metadata": {},
     "output_type": "execute_result"
    }
   ],
   "source": [
    "@time spin(false)"
   ]
  },
  {
   "cell_type": "code",
   "execution_count": 150,
   "metadata": {},
   "outputs": [
    {
     "data": {
      "text/plain": [
       "ising_weight_2D_PBC (generic function with 1 method)"
      ]
     },
     "execution_count": 150,
     "metadata": {},
     "output_type": "execute_result"
    }
   ],
   "source": [
    "function ising_weight_2D_PBC(c::BitArray{2}, h::Float64, Jx::Float64, Jy::Float64, β::Float64)::Float64\n",
    "    Ly,Lx = size(c)\n",
    "    \n",
    "    en = 0.0\n",
    "    @inbounds @fastmath for k in 1:Lx, j in 1:Ly\n",
    "        s = spin(c[j,k])\n",
    "        en -= h * s\n",
    "        en -= Jx * s * spin(c[j,mod1(k+1, Lx)])\n",
    "        en -= Jy * s * spin(c[mod1(j+1, Ly),k])\n",
    "    end\n",
    "    \n",
    "    exp(-en * β)\n",
    "end"
   ]
  },
  {
   "cell_type": "markdown",
   "metadata": {},
   "source": [
    "Let's benchmark this. Run it once first to get it compiled."
   ]
  },
  {
   "cell_type": "code",
   "execution_count": 135,
   "metadata": {
    "collapsed": true
   },
   "outputs": [],
   "source": [
    "ising_weight_2D_PBC(ba_sm, 1.0, 1.0, 1.0, 1/2.269);"
   ]
  },
  {
   "cell_type": "markdown",
   "metadata": {},
   "source": [
    "Now time it."
   ]
  },
  {
   "cell_type": "code",
   "execution_count": 137,
   "metadata": {},
   "outputs": [
    {
     "name": "stdout",
     "output_type": "stream",
     "text": [
      "  0.000012 seconds (6 allocations: 192 bytes)\n"
     ]
    },
    {
     "data": {
      "text/plain": [
       "2.266003258686664e14"
      ]
     },
     "execution_count": 137,
     "metadata": {},
     "output_type": "execute_result"
    }
   ],
   "source": [
    "@time ising_weight_2D_PBC(ba_sm, 1.0, 1.0, 1.0, 1/2.269)"
   ]
  },
  {
   "cell_type": "code",
   "execution_count": 142,
   "metadata": {},
   "outputs": [
    {
     "name": "stdout",
     "output_type": "stream",
     "text": [
      "  0.000011 seconds (6 allocations: 192 bytes)\n"
     ]
    },
    {
     "data": {
      "text/plain": [
       "858040.2994371965"
      ]
     },
     "execution_count": 142,
     "metadata": {},
     "output_type": "execute_result"
    }
   ],
   "source": [
    "let b = bitrand(5,6)\n",
    "    @time ising_weight_2D_PBC(b, 1.0, 1.0, 1.0, 1/2.269)\n",
    "end"
   ]
  },
  {
   "cell_type": "markdown",
   "metadata": {},
   "source": [
    "There is a fixed, small number of allocations, so performance should be good."
   ]
  },
  {
   "cell_type": "markdown",
   "metadata": {},
   "source": [
    "## Computing the partition function\n",
    "Let's try evaluating $Z(h, J_x, J_y)$."
   ]
  },
  {
   "cell_type": "code",
   "execution_count": 143,
   "metadata": {},
   "outputs": [
    {
     "data": {
      "text/plain": [
       "ising_Z_2D_PBC (generic function with 1 method)"
      ]
     },
     "execution_count": 143,
     "metadata": {},
     "output_type": "execute_result"
    }
   ],
   "source": [
    "function ising_Z_2D_PBC(Lx::Int, Ly::Int, h::Float64, Jx::Float64, Jy::Float64, β::Float64)\n",
    "    N = Lx*Ly\n",
    "    @assert N ≤ 64 \"Up to 64 spins!\" #Although it would take a *long* time, our implementation would do 64!\n",
    "    c = BitArray(Ly,Lx)\n",
    "    Z = 0.0\n",
    "    for j in 0:2^N-1\n",
    "        c.chunks[1] = j\n",
    "        Z += ising_weight_2D_PBC(c, h, Jx, Jy, β)\n",
    "    end\n",
    "    \n",
    "    Z\n",
    "end"
   ]
  },
  {
   "cell_type": "code",
   "execution_count": 146,
   "metadata": {},
   "outputs": [
    {
     "name": "stdout",
     "output_type": "stream",
     "text": [
      "  0.047540 seconds (9 allocations: 368 bytes)\n"
     ]
    },
    {
     "data": {
      "text/plain": [
       "2.7157159208264876e7"
      ]
     },
     "execution_count": 146,
     "metadata": {},
     "output_type": "execute_result"
    }
   ],
   "source": [
    "@time ising_Z_2D_PBC(4,4,0.0,1.0,1.0,1/2.269)"
   ]
  },
  {
   "cell_type": "markdown",
   "metadata": {},
   "source": [
    "$20$ spins is a practical upper-limit for a fairly quick computation."
   ]
  },
  {
   "cell_type": "code",
   "execution_count": 148,
   "metadata": {},
   "outputs": [
    {
     "name": "stdout",
     "output_type": "stream",
     "text": [
      "  0.741399 seconds (9 allocations: 368 bytes)\n"
     ]
    },
    {
     "data": {
      "text/plain": [
       "1.960109019758828e9"
      ]
     },
     "execution_count": 148,
     "metadata": {},
     "output_type": "execute_result"
    }
   ],
   "source": [
    "@time ising_Z_2D_PBC(5,4,0.0,1.0,1.0,1/2.269)"
   ]
  },
  {
   "cell_type": "markdown",
   "metadata": {},
   "source": [
    "## Evaluation of some thermodynamic variables"
   ]
  },
  {
   "cell_type": "code",
   "execution_count": 149,
   "metadata": {},
   "outputs": [
    {
     "data": {
      "image/png": "[encoded data removed]",
      "text/plain": [
       "PyPlot.Figure(PyObject <matplotlib.figure.Figure object at 0x7f024faf6518>)"
      ]
     },
     "metadata": {},
     "output_type": "display_data"
    },
    {
     "name": "stdout",
     "output_type": "stream",
     "text": [
      "  3.998970 seconds (7.33 k allocations: 416.933 KiB)\n"
     ]
    }
   ],
   "source": [
    "let Lx = 4, Ly = 4, h = 0.0, Jx = 1.0, Jy = 1.0, kTs = linspace(0.01, 4.0, 100)\n",
    "    N = Lx * Ly\n",
    "    βs = 1./kTs\n",
    "    @time logZs = Float64[log(ising_Z_2D_PBC(Lx,Ly,h,Jx,Jy,β)) for β in βs]\n",
    "    As = -kTs .* logZs ./ N\n",
    "    \n",
    "    kTmids = kTs[1:end-1] + diff(kTs) ./ 2\n",
    "    βmids = βs[1:end-1] + diff(βs) ./ 2\n",
    "    \n",
    "    subplot(222)\n",
    "    title(\"Internal energy\")\n",
    "    ens = -diff(logZs) ./ diff(βs) ./ N\n",
    "    plot(kTmids, ens, \"-\")\n",
    "    xlabel(L\"kT\")\n",
    "    ylabel(L\"\\langle E \\rangle\")\n",
    "    \n",
    "    subplot(223)\n",
    "    title(\"Heat capacity\")\n",
    "    cs =  diff(ens) ./ diff(kTmids)\n",
    "    plot(kTs[2:end-1], cs, \"-\")\n",
    "    xlabel(L\"kT\")\n",
    "    ylabel(L\"C_V\")\n",
    "    \n",
    "    subplot(224)\n",
    "    title(\"Entropy\")\n",
    "    S = (ens .- (As[1:end-1] + As[2:end])./2) .* βmids\n",
    "    plot(kTmids, S, \"-\")\n",
    "    xlabel(L\"kT\")\n",
    "    ylabel(L\"S\")\n",
    "    \n",
    "    subplot(221)\n",
    "    title(\"Helmholtz free energy\")\n",
    "    plot(kTs, As, \"-\")\n",
    "    #plot(kTmids, ens .- kTmids .* S, \"-\")\n",
    "    xlabel(L\"kT\")\n",
    "    ylabel(L\"A\")\n",
    "    \n",
    "    tight_layout()\n",
    "end"
   ]
  },
  {
   "cell_type": "markdown",
   "metadata": {
    "collapsed": true
   },
   "source": [
    "## Evaluation of expectation values"
   ]
  },
  {
   "cell_type": "markdown",
   "metadata": {},
   "source": [
    "Here we will compute the magnetization. First define the magnetization of a configuration:"
   ]
  },
  {
   "cell_type": "code",
   "execution_count": 52,
   "metadata": {},
   "outputs": [
    {
     "data": {
      "text/plain": [
       "ising_mag_2D_PBC (generic function with 1 method)"
      ]
     },
     "execution_count": 52,
     "metadata": {},
     "output_type": "execute_result"
    }
   ],
   "source": [
    "function ising_mag_2D_PBC(c::BitArray{2})::Float64\n",
    "    Ly,Lx = size(c)\n",
    "    N = Lx * Ly\n",
    "    Nup = countnz(c)\n",
    "    \n",
    "    (2Nup - N) / N\n",
    "end"
   ]
  },
  {
   "cell_type": "markdown",
   "metadata": {},
   "source": [
    "We can use this, together with the weight function, to compute the expectation value of the magnetization:"
   ]
  },
  {
   "cell_type": "code",
   "execution_count": 54,
   "metadata": {},
   "outputs": [
    {
     "data": {
      "text/plain": [
       "ising_m_2D_PBC (generic function with 1 method)"
      ]
     },
     "execution_count": 54,
     "metadata": {},
     "output_type": "execute_result"
    }
   ],
   "source": [
    "function ising_m_2D_PBC(Lx::Int, Ly::Int, h::Float64, Jx::Float64, Jy::Float64, β::Float64)\n",
    "    N = Lx*Ly\n",
    "    @assert N ≤ 64 \"Up to 64 spins!\" #Although it would take a *long* time, our implementation would do 64!\n",
    "    c = BitArray(Ly,Lx)\n",
    "    Z = 0.0\n",
    "    M = 0.0\n",
    "    for j in 0:2^N-1\n",
    "        c.chunks[1] = j\n",
    "        w = ising_weight_2D_PBC(c, h, Jx, Jy, β)\n",
    "        m = ising_mag_2D_PBC(c)\n",
    "        M += w * m\n",
    "        Z += w\n",
    "    end\n",
    "    \n",
    "    M / Z\n",
    "end"
   ]
  },
  {
   "cell_type": "markdown",
   "metadata": {},
   "source": [
    "Plot as a function of the external field $h$."
   ]
  },
  {
   "cell_type": "code",
   "execution_count": 99,
   "metadata": {},
   "outputs": [
    {
     "data": {
      "image/png": "[encoded data removed]",
      "text/plain": [
       "PyPlot.Figure(PyObject <matplotlib.figure.Figure object at 0x7f0253903358>)"
      ]
     },
     "metadata": {},
     "output_type": "display_data"
    },
    {
     "name": "stdout",
     "output_type": "stream",
     "text": [
      "  4.031750 seconds (8.70 k allocations: 469.629 KiB)\n"
     ]
    },
    {
     "data": {
      "text/plain": [
       "PyObject <matplotlib.text.Text object at 0x7f0253f1d7b8>"
      ]
     },
     "execution_count": 99,
     "metadata": {},
     "output_type": "execute_result"
    }
   ],
   "source": [
    "let Lx = 4, Ly = 4, T = 2.269, Jx = 1.0, Jy = 1.0, hs = linspace(-1.0, 1.0, 100)\n",
    "    N = Lx * Ly\n",
    "    @time ms = Float64[ising_m_2D_PBC(Lx,Ly,h,Jx,Jy,1/T) for h in hs]\n",
    "    plot(hs, ms)\n",
    "    xlabel(L\"h\")\n",
    "    ylabel(L\"\\langle m \\rangle\")\n",
    "    title(\"Magnetization at \\$T=$(T)\\$ as a function of the field stength\")\n",
    "end"
   ]
  },
  {
   "cell_type": "markdown",
   "metadata": {},
   "source": [
    "Plot as a function of the temperature $T$."
   ]
  },
  {
   "cell_type": "code",
   "execution_count": 100,
   "metadata": {},
   "outputs": [
    {
     "data": {
      "image/png": "[encoded data removed]",
      "text/plain": [
       "PyPlot.Figure(PyObject <matplotlib.figure.Figure object at 0x7f025012d5f8>)"
      ]
     },
     "metadata": {},
     "output_type": "display_data"
    },
    {
     "name": "stdout",
     "output_type": "stream",
     "text": [
      "  4.153028 seconds (8.70 k allocations: 469.365 KiB)\n"
     ]
    },
    {
     "data": {
      "text/plain": [
       "PyObject <matplotlib.text.Text object at 0x7f024fc395f8>"
      ]
     },
     "execution_count": 100,
     "metadata": {},
     "output_type": "execute_result"
    }
   ],
   "source": [
    "let Lx = 4, Ly = 4, h = 1.00, Jx = 1.0, Jy = 1.0, kTs = linspace(0.1, 10.0, 100)\n",
    "    N = Lx * Ly\n",
    "    @time ms = Float64[ising_m_2D_PBC(Lx,Ly,h,Jx,Jy,1/kT) for kT in kTs]\n",
    "    plot(kTs, ms)\n",
    "    title(\"\\$ h = $h \\$\")\n",
    "    xlabel(L\"T\")\n",
    "    ylabel(L\"\\langle m \\rangle\")\n",
    "    title(\"Magnetization at \\$h=$(h)\\$ as a function of temperature\")\n",
    "end"
   ]
  },
  {
   "cell_type": "markdown",
   "metadata": {
    "collapsed": true
   },
   "source": [
    "## Probability distribution"
   ]
  },
  {
   "cell_type": "markdown",
   "metadata": {},
   "source": [
    "We can also compute the probability distribution, the density of states, and other interesting quantities. Let's define a function that returns the probability of each configuration, together with the magnetization and the value of Z."
   ]
  },
  {
   "cell_type": "code",
   "execution_count": 101,
   "metadata": {},
   "outputs": [
    {
     "data": {
      "text/plain": [
       "ising_pd_2D_PBC (generic function with 1 method)"
      ]
     },
     "execution_count": 101,
     "metadata": {},
     "output_type": "execute_result"
    }
   ],
   "source": [
    "function ising_pd_2D_PBC(Lx::Int, Ly::Int, h::Float64, Jx::Float64, Jy::Float64, β::Float64)\n",
    "    N = Lx*Ly\n",
    "    @assert N ≤ 64 \"Up to 64 spins!\" #Although it would take a *long* time, our implementation would do 64!\n",
    "    c = BitArray(Ly,Lx)\n",
    "    Ws = zeros(2^N)\n",
    "    Ms = zeros(2^N)\n",
    "    for j in 0:2^N-1\n",
    "        c.chunks[1] = j\n",
    "        W = ising_weight_2D_PBC(c, h, Jx, Jy, β)\n",
    "        M = ising_mag_2D_PBC(c)\n",
    "        Ws[j+1] = W\n",
    "        Ms[j+1] = M\n",
    "    end\n",
    "    Z = sum(Ws)\n",
    "    \n",
    "    P = Ws ./ Z #normalize the weights to probabilities\n",
    "    \n",
    "    P, Ms, Z\n",
    "end"
   ]
  },
  {
   "cell_type": "code",
   "execution_count": 153,
   "metadata": {},
   "outputs": [
    {
     "data": {
      "image/png": "[encoded data removed]",
      "text/plain": [
       "PyPlot.Figure(PyObject <matplotlib.figure.Figure object at 0x7f024fda19b0>)"
      ]
     },
     "metadata": {},
     "output_type": "display_data"
    },
    {
     "name": "stdout",
     "output_type": "stream",
     "text": [
      "  0.040599 seconds (10 allocations: 1.500 MiB)\n",
      "sum(P) = 0.9999999999999971\n"
     ]
    }
   ],
   "source": [
    "let Lx = 4, Ly = 4, T = 2.269, Jx = 1.0, Jy = 1.0, h = 0.0\n",
    "    N = Lx * Ly\n",
    "    @time P, Ms, Z = ising_pd_2D_PBC(Lx,Ly,h,Jx,Jy,1/T)\n",
    "    \n",
    "    #Sort the configurations by probability\n",
    "    srt = sortperm(P, rev=true)\n",
    "    P = P[srt]\n",
    "    Ms = Ms[srt]\n",
    "    \n",
    "    @show sum(P)\n",
    "    Ws = P * Z\n",
    "    Es = -log.(Ws) * T\n",
    "    \n",
    "    subplot(221)\n",
    "    plot(P)\n",
    "    xlabel(L\"configuration $c$\")\n",
    "    ylabel(L\"p(c)\")\n",
    "    yscale(\"log\")\n",
    "    title(\"Prob. of configurations, in order\")\n",
    "    \n",
    "    Es_unique = sort(unique(Es))\n",
    "    \n",
    "    subplot(222)\n",
    "    PE = zeros(length(Es_unique))\n",
    "    for j in 1:length(Es_unique)\n",
    "        PE[j] = sum(P[Es .== Es_unique[j]])\n",
    "    end\n",
    "    plot(Es_unique/N, PE, \"-\")\n",
    "    xlabel(L\"E/N\")\n",
    "    ylabel(L\"p(E)\")\n",
    "    yscale(\"log\")\n",
    "    title(\"Probability vs. energy\")\n",
    "    \n",
    "    subplot(223)\n",
    "    D = zeros(length(Es_unique))\n",
    "    for j in 1:length(Es_unique)\n",
    "        D[j] = countnz(Es .== Es_unique[j]) / length(Es)\n",
    "    end\n",
    "    plot(Es_unique / N, D)\n",
    "    xlabel(L\"E/N\")\n",
    "    ylabel(L\"D(E)\")\n",
    "    title(\"Density of states\")\n",
    "    \n",
    "    subplot(224)\n",
    "    Ms_unique = sort(unique(Ms))\n",
    "    PM = zeros(length(Ms_unique))\n",
    "    for j in 1:length(Ms_unique)\n",
    "        PM[j] = sum(P[Ms .== Ms_unique[j]])\n",
    "    end\n",
    "    plot(Ms_unique, PM)\n",
    "    xlabel(L\"M/N\")\n",
    "    ylabel(L\"p(M)\")\n",
    "    #yscale(\"log\")\n",
    "    title(\"Probability vs. magnetization\")\n",
    "    \n",
    "    tight_layout()\n",
    "end"
   ]
  }
 ],
 "metadata": {
  "anaconda-cloud": {},
  "kernelspec": {
   "display_name": "Julia 0.6.0",
   "language": "julia",
   "name": "julia-0.6"
  },
  "language_info": {
   "file_extension": ".jl",
   "mimetype": "application/julia",
   "name": "julia",
   "version": "0.6.0"
  }
 },
 "nbformat": 4,
 "nbformat_minor": 1
}
